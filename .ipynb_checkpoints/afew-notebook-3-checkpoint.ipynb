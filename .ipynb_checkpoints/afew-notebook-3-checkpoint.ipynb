{
 "cells": [
  {
   "cell_type": "markdown",
   "metadata": {},
   "source": [
    "# Advanced Fisheries Economics Workshop\n",
    "\n"
   ]
  },
  {
   "cell_type": "markdown",
   "metadata": {},
   "source": [
    "## Sustainability\n",
    "\n",
    "What do we mean by sustainability?\n",
    "\n",
    "- weak sustainability:\n",
    "\n",
    "\n",
    "All forms of capital are more or less substitutes for one another; no regard has to be given to the composition of the stock of capital. Weak sustainability allows for the depletion or degradation of natural resources, so long as such depletion is offset by increases in the stocks of other forms of capital (for example, by investing royalties from depleting mineral reserves in factories).\n",
    "\n",
    "\n",
    "- strong sustainability: \n",
    "\n",
    "All forms of capital must be maintained intact independent of one another. The implicit assumption is that different forms of capital are mainly complementary; that is, all forms are generally necessary for any form to be of value. Produced capital used in harvesting and processing timber, for example, is of no value in the absence of stocks of timber to harvest. Only by maintaining both natural and produced capital stocks intact can non-declining income be assured.\n",
    "\n",
    "[Source](https://stats.oecd.org/glossary/index.htm)\n",
    "\n",
    "Originally these are taken from Pearce, Markandya, Barbier, Blueprint for a green economy.\n",
    "\n",
    "In fisheries we generally use sustainability in the second sense, which requires a constant stock of capital. The stock of fish is a form of capital.\n",
    "\n",
    "So we assume the stock of fish doesn't change over time.\n",
    "\n"
   ]
  },
  {
   "cell_type": "markdown",
   "metadata": {},
   "source": [
    "##  A simple Harvest control rule\n",
    "\n",
    "\n",
    "\n",
    "Instead of susing the Schaefer catch equation $qXE$ we can consider a harvest control rule which sets a TAC total allowable catch $TAC = \\alpha X$ other more complex harvest control rules could be used. \n",
    "\n",
    "There are a few things to note about such rules, if catch does not depend on effort, human decisions are removed from the equation and economics is essentially ignored.\n",
    "\n",
    "Stock dynmaics for this equation is now\n",
    "\n",
    "\n",
    "$X_{t+1} = X_{t} + F(X_t) -  \\alpha X_{t}$\n",
    "\n",
    "or\n",
    "\n",
    "$X_{t+1} - X_{t} = F(X_t) - \\alpha X_{t}$\n",
    "\n",
    "where $0 \\leq \\alpha \\leq 1$\n",
    "\n",
    "$F(X)$ here is the net primary production which is sometimes referred to as the surplus production.\n",
    "\n",
    "\n",
    "\n",
    "\n",
    "\n",
    "\n",
    "\n",
    "\n",
    "\n"
   ]
  },
  {
   "cell_type": "markdown",
   "metadata": {},
   "source": [
    "## Exercise \n",
    "\n",
    "So let us do an exercise. \n",
    "\n",
    "1. Find the steady-state stock of fish graphically\n",
    "\n",
    "2. Use SymPy to find the steady-state stock of fish?\n",
    "\n",
    "3. If one simulates the above equations, will the stock approach a level where it remains unchanged forever (steady-state)\n",
    "\n",
    "To answer both of these we need to assume a form for $F(X)$.\n",
    "\n",
    "Here are some options:\n",
    "\n",
    "1. $F(X) = rX(1-\\frac{X}{K})$ Logistic\n",
    "2. $F(X) = rX \\log(\\frac{K}{X})$ Gompertz\n",
    "3. $F(X) = rX (1-\\frac{X}{K})^{\\beta}$ Skewed logistic\n",
    "4. $F(X) = rX(1-\\frac{X^{\\nu - 1}}{K})$ Pella Tomlinson (special case)\n",
    "\n",
    "\n",
    "We've already looked at the first two. The last two are introduced because some fish stocks have skewed surplus production functions. Particularly, equation 4. was developed in the context of Tuna stock assessments (although it ws earlier used in forestry where it is referred to as a Chapman-Richards equation and it was used even earlier in fluid dynamics where it is referred to as a Bernoulli equation after the Swiss mathematician and Philosopher who also invented the first epidemiological model).\n",
    "\n",
    "The exercise is to plot a number of curves. First plot a strate line for the TAC equation $ TAC = \\alpha X$ and then plot each of the four equations on the same graph. At the point of intersection $F(X_{SS}) = TAC(X_{SS})$ the stock is in steady state $X_{SS}$.\n",
    "\n",
    "\n",
    "The second part of the exercise involves finding the steady-state using SymPy. So solve $F(X)=\\alpha X$ for $X$ for each of the four equations for $F(X)$."
   ]
  },
  {
   "cell_type": "markdown",
   "metadata": {},
   "source": [
    "## Exercise\n",
    "\n",
    "Find the sustainable yield so the catch at $X_{SS}$.\n"
   ]
  },
  {
   "cell_type": "markdown",
   "metadata": {},
   "source": [
    "## Exercise\n",
    "\n",
    "Find the maximum of $F(X)$ and compare it to the sustainable yield."
   ]
  },
  {
   "cell_type": "markdown",
   "metadata": {},
   "source": [
    "## Exercise (Discussion)\n",
    "\n",
    "Which yould we maximize yield or surplus production?\n",
    "\n",
    "Note this is essentially a version of what Agricultural Economists refer to as the \"technologists\" dilemma."
   ]
  },
  {
   "cell_type": "code",
   "execution_count": null,
   "metadata": {},
   "outputs": [],
   "source": []
  }
 ],
 "metadata": {
  "kernelspec": {
   "display_name": "Python 3",
   "language": "python",
   "name": "python3"
  },
  "language_info": {
   "codemirror_mode": {
    "name": "ipython",
    "version": 3
   },
   "file_extension": ".py",
   "mimetype": "text/x-python",
   "name": "python",
   "nbconvert_exporter": "python",
   "pygments_lexer": "ipython3",
   "version": "3.8.3"
  }
 },
 "nbformat": 4,
 "nbformat_minor": 4
}
