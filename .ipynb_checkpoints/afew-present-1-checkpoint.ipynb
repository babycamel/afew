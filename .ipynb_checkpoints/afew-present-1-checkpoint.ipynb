{
 "cells": [
  {
   "cell_type": "markdown",
   "metadata": {
    "slideshow": {
     "slide_type": "slide"
    }
   },
   "source": [
    "# Advanced Fisheries Economics Workshop\n",
    "\n",
    "\n",
    "\n",
    "\n",
    "## Presenter: Rodney Beard\n",
    "\n",
    "\n",
    "\n",
    "\n",
    "\n",
    "\n"
   ]
  },
  {
   "cell_type": "markdown",
   "metadata": {
    "slideshow": {
     "slide_type": "slide"
    }
   },
   "source": [
    "Objective:\n",
    "\n",
    "- Introduce you to some methods in fisheries economics for the study of oceanic fisheries\n",
    "- To look at what is behind the graphs\n",
    "- To get you to develop your own simple bio-economic models\n",
    "- To learn some new software tools for doing this\n",
    "- To work with fisheries data from the Pacific\n",
    "- To learn what a reproducible workflow looks like"
   ]
  },
  {
   "cell_type": "markdown",
   "metadata": {
    "slideshow": {
     "slide_type": "subslide"
    }
   },
   "source": [
    "Day one we will mostly familiarize ourselves with the platform and technology we are using we will split the day into two 3 hour blocks.\n",
    "\n",
    "We will mix presentations and interactive exercises.\n",
    "\n",
    "You are already using zoom to join the workshop. You will also need to install [AnyDesk](https://anydesk.com/en) so I can help you when you get stuck.\n",
    "\n",
    "You will also need to install [Anaconda](https://www.anaconda.com) "
   ]
  },
  {
   "cell_type": "markdown",
   "metadata": {
    "slideshow": {
     "slide_type": "subslide"
    }
   },
   "source": [
    "We will use Jupyter notebooks to do our work. This presentation is written in a Jupyter notebook and will be presented using the [RISE presentation software](https://rise.readthedocs.io/en/stable/index.html). RISE is a html5 presentation platform that allows the presentation of interactive slides."
   ]
  },
  {
   "cell_type": "markdown",
   "metadata": {
    "slideshow": {
     "slide_type": "subslide"
    }
   },
   "source": [
    "We will also makle use of Google colaboratory. Particularly if you have any issues with the software we are using Google colaboratory is the fall back (Plan B).\n",
    "\n",
    "The best way to think of Jupyter notebooks is as a scratch pad for ideas. Interactive notebooks let you mix code text and multimedia in a simngle document."
   ]
  },
  {
   "cell_type": "markdown",
   "metadata": {
    "slideshow": {
     "slide_type": "slide"
    }
   },
   "source": [
    "So let'see what it can do! Calculations:"
   ]
  },
  {
   "cell_type": "code",
   "execution_count": 4,
   "metadata": {
    "scrolled": true,
    "slideshow": {
     "slide_type": "subslide"
    }
   },
   "outputs": [
    {
     "data": {
      "text/plain": [
       "2"
      ]
     },
     "execution_count": 4,
     "metadata": {},
     "output_type": "execute_result"
    }
   ],
   "source": [
    "1+1"
   ]
  },
  {
   "cell_type": "code",
   "execution_count": 5,
   "metadata": {
    "slideshow": {
     "slide_type": "subslide"
    }
   },
   "outputs": [
    {
     "data": {
      "text/html": [
       "<img src=\"https://media.wired.com/photos/596f72b8eb889b7135754659/master/w_2560%2Cc_limit/Bluefin-Tuna-TA1-95662678.jpg\"/>"
      ],
      "text/plain": [
       "<IPython.core.display.Image object>"
      ]
     },
     "execution_count": 5,
     "metadata": {},
     "output_type": "execute_result"
    }
   ],
   "source": [
    "from IPython.display import Image\n",
    "from IPython.core.display import HTML \n",
    "Image(url= \"https://media.wired.com/photos/596f72b8eb889b7135754659/master/w_2560%2Cc_limit/Bluefin-Tuna-TA1-95662678.jpg\")"
   ]
  },
  {
   "cell_type": "code",
   "execution_count": null,
   "metadata": {},
   "outputs": [],
   "source": []
  }
 ],
 "metadata": {
  "celltoolbar": "Slideshow",
  "kernelspec": {
   "display_name": "Python 3",
   "language": "python",
   "name": "python3"
  },
  "language_info": {
   "codemirror_mode": {
    "name": "ipython",
    "version": 3
   },
   "file_extension": ".py",
   "mimetype": "text/x-python",
   "name": "python",
   "nbconvert_exporter": "python",
   "pygments_lexer": "ipython3",
   "version": "3.8.3"
  }
 },
 "nbformat": 4,
 "nbformat_minor": 4
}
