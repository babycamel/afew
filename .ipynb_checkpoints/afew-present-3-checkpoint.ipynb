{
 "cells": [
  {
   "cell_type": "markdown",
   "metadata": {
    "slideshow": {
     "slide_type": "slide"
    }
   },
   "source": [
    "# Advanced Fisheries Economics Workshop "
   ]
  },
  {
   "cell_type": "code",
   "execution_count": 13,
   "metadata": {
    "slideshow": {
     "slide_type": "subslide"
    }
   },
   "outputs": [],
   "source": [
    "import handcalcs.render\n",
    "import math as math\n",
    "from sympy import * #symbolic algebra package\n",
    "import numpy as np #numerical python packagee\n",
    "import matplotlib.pyplot as plt #matplotlib is a plotting package\n",
    "%matplotlib inline  \n",
    "# without this plots are popouts"
   ]
  },
  {
   "cell_type": "markdown",
   "metadata": {
    "slideshow": {
     "slide_type": "slide"
    }
   },
   "source": [
    "## Review from last presentation"
   ]
  },
  {
   "cell_type": "code",
   "execution_count": 14,
   "metadata": {
    "slideshow": {
     "slide_type": "subslide"
    }
   },
   "outputs": [
    {
     "data": {
      "text/latex": [
       "$\\displaystyle \\frac{d}{d t} f{\\left(t \\right)} = r \\left(1 - \\frac{f{\\left(t \\right)}}{K}\\right) f{\\left(t \\right)}$"
      ],
      "text/plain": [
       "Eq(Derivative(f(t), t), r*(1 - f(t)/K)*f(t))"
      ]
     },
     "execution_count": 14,
     "metadata": {},
     "output_type": "execute_result"
    }
   ],
   "source": [
    "f, t, r, K = symbols('f t r K') #first define symbols\n",
    "f = Function('f') #defien the symbol f as a function\n",
    "ode = Eq(diff(f(t), t), r*f(t)*(1 - f(t)/K)) # ode = ordinary differential equation, define our growth equation\n",
    "ode"
   ]
  },
  {
   "cell_type": "code",
   "execution_count": 15,
   "metadata": {
    "slideshow": {
     "slide_type": "subslide"
    }
   },
   "outputs": [
    {
     "data": {
      "text/latex": [
       "$\\displaystyle f{\\left(t \\right)} = \\frac{K e^{C_{1} K + r t}}{e^{C_{1} K + r t} - 1}$"
      ],
      "text/plain": [
       "Eq(f(t), K*exp(C1*K + r*t)/(exp(C1*K + r*t) - 1))"
      ]
     },
     "execution_count": 15,
     "metadata": {},
     "output_type": "execute_result"
    }
   ],
   "source": [
    "sol = dsolve(ode, f(t))  # solve the equation\n",
    "sol"
   ]
  },
  {
   "cell_type": "code",
   "execution_count": 16,
   "metadata": {
    "slideshow": {
     "slide_type": "subslide"
    }
   },
   "outputs": [
    {
     "data": {
      "text/latex": [
       "$\\displaystyle \\frac{K e^{C_{1} K}}{e^{C_{1} K} - 1} = x_{0}$"
      ],
      "text/plain": [
       "Eq(K*exp(C1*K)/(exp(C1*K) - 1), x0)"
      ]
     },
     "execution_count": 16,
     "metadata": {},
     "output_type": "execute_result"
    }
   ],
   "source": [
    "t = Symbol('t')\n",
    "x0 = Symbol('x0')\n",
    "eq1 = Eq(sol.rhs.subs(t,0),x0) \n",
    "eq1"
   ]
  },
  {
   "cell_type": "code",
   "execution_count": 17,
   "metadata": {
    "slideshow": {
     "slide_type": "subslide"
    }
   },
   "outputs": [
    {
     "data": {
      "text/plain": [
       "[log(x0/(-K + x0))/K]"
      ]
     },
     "execution_count": 17,
     "metadata": {},
     "output_type": "execute_result"
    }
   ],
   "source": [
    "C1, K, x0 = symbols('C1 K x0')\n",
    "C2 = solve(eq1,C1)\n",
    "C2\n"
   ]
  },
  {
   "cell_type": "code",
   "execution_count": 18,
   "metadata": {
    "slideshow": {
     "slide_type": "subslide"
    }
   },
   "outputs": [
    {
     "data": {
      "text/latex": [
       "$\\displaystyle x(t) = \\frac{K x_{0} e^{r t}}{K + x_{0} e^{r t} - x_{0}}$"
      ],
      "text/plain": [
       "Eq(x(t), K*x0*exp(r*t)/(K + x0*exp(r*t) - x0))"
      ]
     },
     "execution_count": 18,
     "metadata": {},
     "output_type": "execute_result"
    }
   ],
   "source": [
    "x = Symbol('x(t)')\n",
    "eq3 = Eq(sol.rhs.subs(C1,C2),x)\n",
    "logequation = simplify(eq3.subs({Symbol('C1'): C2[0]}) ) #substitute C! and simplify\n",
    "logequation"
   ]
  },
  {
   "cell_type": "markdown",
   "metadata": {
    "slideshow": {
     "slide_type": "slide"
    }
   },
   "source": [
    "## The Beverton-Holt Stock Recruitment Equation"
   ]
  },
  {
   "cell_type": "markdown",
   "metadata": {
    "slideshow": {
     "slide_type": "subslide"
    }
   },
   "source": [
    "The Beverton-Holt equation relates the stock to the recruits (survivors from an earlier point in time. there are both discrete-time and continuious-time versions of this equation, however, the discrete-time version is more common.\n",
    "\n",
    "SPC in its stock assessment models uses a version of this model that additionally includes age and length of fish. In fisheries economic we keep the biology simple because we add additional complexity on the economic side, so we need to trade-off biological complexit and economic complexity of our models.\n",
    "\n",
    "We will now show the link between this equation and the logistic equation.\n",
    "\n",
    "Start with the solution of the logistic equation above."
   ]
  },
  {
   "cell_type": "code",
   "execution_count": 19,
   "metadata": {
    "slideshow": {
     "slide_type": "subslide"
    }
   },
   "outputs": [
    {
     "data": {
      "text/latex": [
       "$\\displaystyle \\frac{K x_{0} e^{r t}}{K + x_{0} \\left(e^{r t} - 1\\right)}$"
      ],
      "text/plain": [
       "K*x0*exp(r*t)/(K + x0*(exp(r*t) - 1))"
      ]
     },
     "execution_count": 19,
     "metadata": {},
     "output_type": "execute_result"
    }
   ],
   "source": [
    "GBHE = collect(logequation.rhs,x0)\n",
    "GBHE"
   ]
  },
  {
   "cell_type": "code",
   "execution_count": 20,
   "metadata": {
    "slideshow": {
     "slide_type": "subslide"
    }
   },
   "outputs": [
    {
     "data": {
      "text/latex": [
       "$\\displaystyle \\frac{B_{0} K e^{r t}}{B_{0} \\left(e^{r t} - 1\\right) + K}$"
      ],
      "text/plain": [
       "B0*K*exp(r*t)/(B0*(exp(r*t) - 1) + K)"
      ]
     },
     "execution_count": 20,
     "metadata": {},
     "output_type": "execute_result"
    }
   ],
   "source": [
    "B0 = Symbol('B0') \n",
    "v = Symbol('v')\n",
    "GBHE1 = GBHE.subs(x0,B0) #substitute x0 with B0 unfihsed Biomass\n",
    "GBHE1"
   ]
  },
  {
   "cell_type": "markdown",
   "metadata": {
    "slideshow": {
     "slide_type": "subslide"
    }
   },
   "source": [
    "Divide the denominator (bottom of fraction) and the numerator (top of fraction) by $\\frac{1}{K}$ and replace $e^{rt}$ with $\\alpha$ and $(e^{rt} - 1)/K$ with $\\beta$ we get\n",
    "\n",
    "$R(B) = \\frac{\\alpha B}{1 + \\beta B}$ is the usual Beverton-Holt recuitment function. \n"
   ]
  },
  {
   "cell_type": "markdown",
   "metadata": {
    "slideshow": {
     "slide_type": "slide"
    }
   },
   "source": [
    "## Steepness\n",
    "\n",
    "\n",
    "Steepness is the ratio of recruitment that occurs when biomass is at 20% of the unfished biomass, in other words at the limit reference point, to recuitment at the unfished level of biomass.\n",
    "\n",
    "so $R(0.2 B_0)$ to $R(B_0)$. \n",
    "\n",
    "So $R_0 = R(B_0) =\\frac{\\alpha B_0}{1 + \\beta B_0}$\n",
    "\n",
    "$R_0,B_0$ are referred to as reference points (Mace and Doonan, 1988).\n",
    "\n",
    "\n",
    "This can also be written as (divide numerator and denominator by $\\frac{1}{\\alpha}$)\n",
    "\n",
    "$R_0 = \\frac{B_0}{\\frac{1}{\\alpha} + \\frac{\\beta}{\\alpha} B_0}$\n",
    "\n",
    "\n",
    "set $\\tilde{\\alpha} = \\frac{1}{\\alpha}$ and $\\tilde{\\beta} = \\frac{\\beta}{\\alpha}$, so\n",
    "\n",
    "$R_0 = \\frac{B_0}{\\tilde{\\alpha} + \\tilde{\\beta} B_0}$ this version of the Beverton-Holt relationship is also used sometimes.\n",
    "\n",
    "\n",
    "Steepness $h$ is then determiend by\n",
    "\n",
    "$h R_0 = \\frac{0.2 B_0}{\\tilde{\\alpha} + 0.2 \\tilde{\\beta} B_0)}$\n",
    "\n",
    "So let's use SymPy to solve for $\\tilde{\\alpha},\\tilde{\\beta}$\n"
   ]
  },
  {
   "cell_type": "code",
   "execution_count": 21,
   "metadata": {
    "slideshow": {
     "slide_type": "subslide"
    }
   },
   "outputs": [
    {
     "data": {
      "text/plain": [
       "{a: -0.25*B0*(h - 1.0)/(R0*h), b: 0.25*(5.0*h - 1.0)/(R0*h)}"
      ]
     },
     "execution_count": 21,
     "metadata": {},
     "output_type": "execute_result"
    }
   ],
   "source": [
    "R0, a, b, B0, h = symbols('R0 a b B0 h') #define symbols\n",
    "\n",
    "sol2 = solve({R0 - B0/(a +b*B0),h*R0 - 0.2*B0/(a + 0.2*b*B0)},{a,b}) #solve for parameters \n",
    "\n",
    "sol2"
   ]
  },
  {
   "cell_type": "markdown",
   "metadata": {
    "slideshow": {
     "slide_type": "subslide"
    }
   },
   "source": [
    "Which show that the key parasmeters of the stock recruitment relationship are related by steepness $h$. So SPC estimates recuits and chooses $h$ to eastimate these eparameters. \n",
    "\n",
    "To estimate the model a referenc epoint $(R_0,B_0)$ and a steepness parameter $h$ must be chosen. We will come back to this later.\n"
   ]
  }
 ],
 "metadata": {
  "celltoolbar": "Slideshow",
  "kernelspec": {
   "display_name": "Python 3",
   "language": "python",
   "name": "python3"
  },
  "language_info": {
   "codemirror_mode": {
    "name": "ipython",
    "version": 3
   },
   "file_extension": ".py",
   "mimetype": "text/x-python",
   "name": "python",
   "nbconvert_exporter": "python",
   "pygments_lexer": "ipython3",
   "version": "3.8.3"
  }
 },
 "nbformat": 4,
 "nbformat_minor": 4
}
