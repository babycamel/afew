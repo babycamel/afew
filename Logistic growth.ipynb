{
 "cells": [
  {
   "cell_type": "markdown",
   "metadata": {
    "scrolled": true
   },
   "source": [
    "# Some calculations with logistic growth"
   ]
  },
  {
   "cell_type": "code",
   "execution_count": null,
   "metadata": {},
   "outputs": [],
   "source": [
    "import handcalcs.render\n",
    "from sympy import * #symbolic algebra package\n",
    "import numpy as np #numerical python packagee\n",
    "import matplotlib.pyplot as plt #matplotlib is a plotting package\n",
    "%matplotlib inline # without this plots are popouts"
   ]
  },
  {
   "cell_type": "markdown",
   "metadata": {},
   "source": [
    "## Playing around with handcalcs"
   ]
  },
  {
   "cell_type": "code",
   "execution_count": 5,
   "metadata": {},
   "outputs": [],
   "source": [
    "y, x = symbols('y x')"
   ]
  },
  {
   "cell_type": "code",
   "execution_count": 6,
   "metadata": {
    "scrolled": false
   },
   "outputs": [
    {
     "data": {
      "text/latex": [
       "\\[\n",
       "\\begin{aligned}\n",
       "y &= \\left( x \\right) ^{ 2 }  = \\left( \\displaystyle x \\right) ^{ 2 } &= \\displaystyle x^{2}  \n",
       "\\end{aligned}\n",
       "\\]"
      ],
      "text/plain": [
       "<IPython.core.display.Latex object>"
      ]
     },
     "metadata": {},
     "output_type": "display_data"
    }
   ],
   "source": [
    "%%render sympy\n",
    "y = x**2\n"
   ]
  },
  {
   "cell_type": "code",
   "execution_count": 7,
   "metadata": {},
   "outputs": [],
   "source": [
    "y\n",
    "\n",
    "f_x = diff(x**2,x)"
   ]
  },
  {
   "cell_type": "code",
   "execution_count": 8,
   "metadata": {
    "scrolled": true
   },
   "outputs": [
    {
     "data": {
      "text/latex": [
       "\\[\n",
       "\\begin{aligned}\n",
       "f_{x} &= \\displaystyle 2 x \\; \n",
       "\\end{aligned}\n",
       "\\]"
      ],
      "text/plain": [
       "<IPython.core.display.Latex object>"
      ]
     },
     "metadata": {},
     "output_type": "display_data"
    }
   ],
   "source": [
    "%%render \n",
    "f_x\n"
   ]
  },
  {
   "cell_type": "markdown",
   "metadata": {},
   "source": [
    "## Some numerical examples"
   ]
  },
  {
   "cell_type": "code",
   "execution_count": 9,
   "metadata": {
    "scrolled": false
   },
   "outputs": [
    {
     "name": "stdout",
     "output_type": "stream",
     "text": [
      "[ 1.          2.782       5.86828857 10.94305683 18.54199342 28.1870888\n",
      " 37.43554429 43.15842015 45.15747013 45.57789828]\n"
     ]
    }
   ],
   "source": [
    "# Constants \n",
    "r = 1.8 # intrinsic growth rate\n",
    "K = 100 # carrying capacity/unfished biomass\n",
    "x0 = 1 #initial value\n",
    "#initialize values\n",
    "x = np.zeros(10)  # vector of zeroes\n",
    "x[0] = x0 # pass initial value to vector\n",
    "for i in range(0,len(x)-1):\n",
    "     x[i+1] = x0 + r*x[i]*(1-x[i]/K)\n",
    "print(x) \n"
   ]
  },
  {
   "cell_type": "code",
   "execution_count": 10,
   "metadata": {
    "scrolled": false
   },
   "outputs": [
    {
     "data": {
      "text/plain": [
       "[<matplotlib.lines.Line2D at 0x7ff1e0c653d0>]"
      ]
     },
     "execution_count": 10,
     "metadata": {},
     "output_type": "execute_result"
    },
    {
     "data": {
      "image/png": "[encoded data removed]",
      "text/plain": [
       "<Figure size 432x288 with 1 Axes>"
      ]
     },
     "metadata": {
      "needs_background": "light"
     },
     "output_type": "display_data"
    }
   ],
   "source": [
    "plt.plot(x)"
   ]
  },
  {
   "cell_type": "markdown",
   "metadata": {},
   "source": [
    "# What does this look like if time is continuous\n",
    "\n",
    "Use the previous code but modify it slightly\n",
    "\n",
    "To make time continuous we will usse a simple numerical technique called Euler's method"
   ]
  },
  {
   "cell_type": "markdown",
   "metadata": {},
   "source": [
    "Discrete-time dynamics $ x_{t+1} - x_{t} = r x_{t} (1 - \\frac{x_t}{K})$ This is called a difference equation\n",
    "\n",
    "\n",
    "Continuous-time dynamics $\\frac{dx}{dt} = r x(t)(1-\\frac{x(t)}{K})$ This is called a differential equation"
   ]
  },
  {
   "cell_type": "code",
   "execution_count": 38,
   "metadata": {
    "scrolled": true
   },
   "outputs": [
    {
     "name": "stdout",
     "output_type": "stream",
     "text": [
      "[ 9.9 10.9 11.9 12.9 13.9 14.9 15.9 16.9 17.9] [ 1.          2.9602      6.68769288 13.35607222 23.91300663 37.02548178\n",
      " 47.16690516 50.34107676 50.4976966 ]\n"
     ]
    },
    {
     "data": {
      "image/png": "[encoded data removed]",
      "text/plain": [
       "<Figure size 432x288 with 1 Axes>"
      ]
     },
     "metadata": {
      "needs_background": "light"
     },
     "output_type": "display_data"
    }
   ],
   "source": [
    "# Constants \n",
    "r = 0.2 # intrinsic growth rate\n",
    "K = 100 # carrying capacity/unfished biomass\n",
    "x0 = 1 #initial value\n",
    "n = 10 # note this should be (b - x0)/h so h = (b - x0)/n\n",
    "#initialize values\n",
    "x = np.zeros(n)  # vector of zeroes\n",
    "t = np.zeros(n)\n",
    "x[0] = x0 # pass initial value to vector\n",
    "t[0] = 1\n",
    "b = 100 # upper bound on the interval for x\n",
    "\n",
    "h = (b - x0)/n\n",
    "\n",
    "for i in range(0,n-1):\n",
    "     t[i] = i + h #tiemstep + or * can be used\n",
    "     x[i+1] = x0 + h*(r*x[i]*(1-x[i]/K))\n",
    "print(t[0:n - 1],x[0:n - 1]) #print values\n",
    "plt.plot(t[0:n - 1],x[0:n - 1])\n",
    "plt.title('Continuous-time dynamics')\n",
    "plt.show()"
   ]
  },
  {
   "cell_type": "markdown",
   "metadata": {
    "scrolled": true
   },
   "source": [
    "# Analytical solution\n",
    "\n",
    "\n",
    "\n",
    "We can solve these exactly without using numbers, we will use the Python SymPy module to do this.\n",
    "\n",
    "We first define an unknow function for the stock $x(t)$ let's call this $f$ (for fish or for function, \n",
    "so as not to confuse it with $x$ above or further below) as a function of time that we wish to solve for.\n",
    "\n",
    "We will make us of symbolic algebra (math with symbols) rahtner than numerical mathematics (math with numbers) to do our analysis."
   ]
  },
  {
   "cell_type": "code",
   "execution_count": 172,
   "metadata": {},
   "outputs": [
    {
     "data": {
      "text/latex": [
       "$\\displaystyle \\frac{d}{d t} f{\\left(t \\right)} = r \\left(1 - \\frac{f{\\left(t \\right)}}{K}\\right) f{\\left(t \\right)}$"
      ],
      "text/plain": [
       "Eq(Derivative(f(t), t), r*(1 - f(t)/K)*f(t))"
      ]
     },
     "execution_count": 172,
     "metadata": {},
     "output_type": "execute_result"
    }
   ],
   "source": [
    "f, t, r, K = symbols('f t r K') #first define symbols\n",
    "f = Function('f') #defien the symbol f as a function\n",
    "ode = Eq(diff(f(t), t), r*f(t)*(1 - f(t)/K)) # ode = ordinary differential equation, define our growth equation\n",
    "ode"
   ]
  },
  {
   "cell_type": "code",
   "execution_count": 173,
   "metadata": {
    "scrolled": true
   },
   "outputs": [
    {
     "data": {
      "text/latex": [
       "$\\displaystyle f{\\left(t \\right)} = \\frac{K e^{C_{1} K + r t}}{e^{C_{1} K + r t} - 1}$"
      ],
      "text/plain": [
       "Eq(f(t), K*exp(C1*K + r*t)/(exp(C1*K + r*t) - 1))"
      ]
     },
     "execution_count": 173,
     "metadata": {},
     "output_type": "execute_result"
    }
   ],
   "source": [
    "sol = dsolve(ode, f(t))  # solve the equation\n",
    "sol"
   ]
  },
  {
   "cell_type": "markdown",
   "metadata": {},
   "source": [
    "This is the solution! It gives us a formula for the stock of fish $f(t) = x(t)$ at every point in time. to calculate the stock at a point in time subsitute in the time $t$, the growth rate of the stock and the carrying capcity $K$.\n",
    "We will see later that the carrying capacity of the stock $K$ is jus tthe unfished biomass in steady-state (when the stock is constant through time). \n",
    "\n",
    "To calculate the stock (quantity of fish) we also need to know $C_1$. How do we find this number?\n",
    "\n",
    "\n",
    "\n"
   ]
  },
  {
   "cell_type": "markdown",
   "metadata": {},
   "source": [
    "To find $C_1$ set $f(t) = x(0) = x0$ and $t= 0$ and solve for $C_1$\n"
   ]
  },
  {
   "cell_type": "code",
   "execution_count": 174,
   "metadata": {},
   "outputs": [
    {
     "data": {
      "text/latex": [
       "$\\displaystyle \\frac{K e^{C_{1} K}}{e^{C_{1} K} - 1} = x_{0}$"
      ],
      "text/plain": [
       "Eq(K*exp(C1*K)/(exp(C1*K) - 1), x0)"
      ]
     },
     "execution_count": 174,
     "metadata": {},
     "output_type": "execute_result"
    }
   ],
   "source": [
    "t = Symbol('t')\n",
    "x0 = Symbol('x0')\n",
    "eq1 = Eq(sol.rhs.subs(t,0),x0) \n",
    "eq1"
   ]
  },
  {
   "cell_type": "code",
   "execution_count": 175,
   "metadata": {},
   "outputs": [
    {
     "data": {
      "text/plain": [
       "[log(x0/(-K + x0))/K]"
      ]
     },
     "execution_count": 175,
     "metadata": {},
     "output_type": "execute_result"
    }
   ],
   "source": [
    "C1, K, x0 = symbols('C1 K x0')\n",
    "C2 = solve(eq1,C1)\n",
    "C2\n"
   ]
  },
  {
   "cell_type": "code",
   "execution_count": 177,
   "metadata": {
    "scrolled": false
   },
   "outputs": [
    {
     "data": {
      "text/latex": [
       "$\\displaystyle x(t) = \\frac{K x_{0} e^{r t}}{K + x_{0} e^{r t} - x_{0}}$"
      ],
      "text/plain": [
       "Eq(x(t), K*x0*exp(r*t)/(K + x0*exp(r*t) - x0))"
      ]
     },
     "execution_count": 177,
     "metadata": {},
     "output_type": "execute_result"
    }
   ],
   "source": [
    "x = Symbol('x(t)')\n",
    "eq3 = Eq(sol.rhs.subs(C1,C2),x)\n",
    "logequation = simplify(eq3.subs({Symbol('C1'): C2[0]}) ) #substitute C! and simplify\n",
    "logequation"
   ]
  },
  {
   "cell_type": "markdown",
   "metadata": {},
   "source": [
    "## Exercise\n",
    "\n",
    "Using the values from the numerical solution above for  $x_0$ and $r$ and $K$ plot this equation. \n",
    "Comapre the results using Matplotlib.pyplot (we could also plit if using SymPy but Matplotlib is more standard).\n"
   ]
  },
  {
   "cell_type": "markdown",
   "metadata": {},
   "source": [
    "## Beverton- Holt Stock Recruitment Equation"
   ]
  },
  {
   "cell_type": "markdown",
   "metadata": {},
   "source": [
    "The Beverton-Holt equation relates the stock to the recruits (survivors from an earlier point in time. there are both discrete-time and continuious-time versions of this equation, however, the discrete-time version is more common.\n",
    "\n",
    "SPC in its stock assessment models uses a version of this model that additionally includes age and length of fish. In fisheries economic we keep the biology simple because we add additional complexity on the economic side, so we need to trade-off biological complexit and economic complexity of our models.\n",
    "\n",
    "We will now show the link between this equation and the logistic equation.\n",
    "\n",
    "Start with the solution of the logistic equation above."
   ]
  },
  {
   "cell_type": "code",
   "execution_count": 114,
   "metadata": {},
   "outputs": [
    {
     "data": {
      "text/latex": [
       "$\\displaystyle \\frac{K x_{0} e^{r t}}{K + x_{0} \\left(e^{r t} - 1\\right)}$"
      ],
      "text/plain": [
       "K*x0*exp(r*t)/(K + x0*(exp(r*t) - 1))"
      ]
     },
     "execution_count": 114,
     "metadata": {},
     "output_type": "execute_result"
    }
   ],
   "source": [
    "GBHE = collect(logequation.rhs,x0)\n",
    "GBHE"
   ]
  },
  {
   "cell_type": "code",
   "execution_count": 136,
   "metadata": {},
   "outputs": [
    {
     "data": {
      "text/latex": [
       "$\\displaystyle \\frac{B K e^{r t}}{B \\left(e^{r t} - 1\\right) + K}$"
      ],
      "text/plain": [
       "B*K*exp(r*t)/(B*(exp(r*t) - 1) + K)"
      ]
     },
     "execution_count": 136,
     "metadata": {},
     "output_type": "execute_result"
    }
   ],
   "source": [
    "B = Symbol('B')\n",
    "v = Symbol('v')\n",
    "GBHE1 = GBHE.subs(x0,B)\n",
    "GBHE1"
   ]
  },
  {
   "cell_type": "markdown",
   "metadata": {},
   "source": [
    "Divide the denominator (bottom of fraction) and the numerator (top of fraction) by $\\frac{1}{K}$ and replace $e^{rt}$ with $\\alpha$ and $(e^{rt} - 1)/K$ with $\\beta$ we get\n",
    "\n",
    "$R(B) = \\frac{\\alpha B}{1 + \\beta B}$ is the usual Beverton-Holt recuitment function. \n",
    "\n"
   ]
  },
  {
   "cell_type": "markdown",
   "metadata": {},
   "source": [
    "## Steepness\n",
    "\n",
    "\n",
    "Steepness is the ratio of recruitment that occurs when biomass is at 20% of the unfished biomass, in other words at the limit reference point, to recuitment at the unfished level of biomass.\n",
    "\n",
    "so $R(0.2 B_0)$ to $R(B_0)$. \n",
    "\n",
    "So $R_0 = R(B_0) =\\frac{\\alpha B_0}{1 + \\beta B_0}$\n",
    "\n",
    "This can also be written as (divide numerator and denominator by $\\frac{1}{\\alpha}$)\n",
    "\n",
    "$R_0 = \\frac{B_0}{\\frac{1}{\\alpha} + \\frac{\\beta}{\\alpha} B_0}$\n",
    "\n",
    "\n",
    "set $\\tilde{\\alpha} = \\frac{1}{\\alpha}$ and $\\tilde{\\beta} = \\frac{\\beta}{\\alpha}$, so\n",
    "\n",
    "$R_0 = \\frac{B_0}{\\tilde{\\alpha} + \\tilde{\\beta} B_0}$ this version of the Beverton-Holt relationship is also used soemtimes.\n",
    "\n",
    "\n",
    "Steepness $h$ is then determiend by\n",
    "\n",
    "$h R_0 = \\frac{0.2 B_0}{\\tilde{\\alpha} + 0.2 \\tilde{\\beta} B_0)}$\n",
    "\n",
    "So let's use SymPy to solve for $h$\n"
   ]
  },
  {
   "cell_type": "code",
   "execution_count": 170,
   "metadata": {},
   "outputs": [
    {
     "data": {
      "text/plain": [
       "{a: -0.25*B0*(h - 1.0)/(R0*h), b: 0.25*(5.0*h - 1.0)/(R0*h)}"
      ]
     },
     "execution_count": 170,
     "metadata": {},
     "output_type": "execute_result"
    }
   ],
   "source": [
    "R0, a, b, B0, h = symbols('R0 a b B0 h') #deine symbols\n",
    "\n",
    "sol2 = solve({R0 - B0/(a +b*B0),h*R0 - 0.2*B0/(a + 0.2*b*B0)},{a,b}) #solve for parameters \n",
    "\n",
    "sol2"
   ]
  },
  {
   "cell_type": "markdown",
   "metadata": {},
   "source": [
    "Which show that the key parasmeters of the stock recruitment relationship are related by steepness $h$. So SPC estimates recuits and chooses $h$ to eastimate these eparameters. \n",
    "\n"
   ]
  },
  {
   "cell_type": "markdown",
   "metadata": {},
   "source": [
    "## Add fishing\n",
    "\n",
    "Use the following catch equation to modify the computer code above to incorporate fishing into our model:\n",
    "\n",
    "$Y = q X E$\n",
    "\n",
    "where$$Y$$is catch, $$q$$ is the catchability and $$X$$ is the stock and $$E$$ fishing effort.\n",
    "\n",
    "Produce a graph and vary fishing effort to see how the graph changes. Assume fishing effort is some cosntant.\n"
   ]
  },
  {
   "cell_type": "markdown",
   "metadata": {},
   "source": [
    "The following is a discrete time model of stock dynamics with constant effort."
   ]
  },
  {
   "cell_type": "code",
   "execution_count": 223,
   "metadata": {},
   "outputs": [
    {
     "name": "stdout",
     "output_type": "stream",
     "text": [
      "8 [ 1.          1.99        3.940399    7.72553056 14.85422289 27.5019664\n",
      " 47.44035125 72.37483323 92.36850161 99.41760232]\n"
     ]
    }
   ],
   "source": [
    "# Constants \n",
    "r = 1 # intrinsic growth rate\n",
    "K = 100 # carrying capacity/unfished biomass\n",
    "q = 0.01 #catchability\n",
    "x0 = 1 #initial value\n",
    "#initialize values\n",
    "x = np.zeros(10)  # vector of zeroes\n",
    "E = np.zeros(10)\n",
    "\n",
    "x[0] = x0 # pass initial value to vector\n",
    "\n",
    "for i in range(0,len(x)-1):\n",
    "     E[i] = 0.0000\n",
    "     x[i+1] = x[i] + r*x[i]*(1-x[i]/K) # - q*x[i]*E[i]\n",
    "print(i,x) \n"
   ]
  },
  {
   "cell_type": "code",
   "execution_count": 224,
   "metadata": {
    "scrolled": false
   },
   "outputs": [
    {
     "data": {
      "text/plain": [
       "[<matplotlib.lines.Line2D at 0x7ff1e2afeb80>]"
      ]
     },
     "execution_count": 224,
     "metadata": {},
     "output_type": "execute_result"
    },
    {
     "data": {
      "image/png": "[encoded data removed]",
      "text/plain": [
       "<Figure size 432x288 with 1 Axes>"
      ]
     },
     "metadata": {
      "needs_background": "light"
     },
     "output_type": "display_data"
    }
   ],
   "source": [
    "plt.plot(x)"
   ]
  },
  {
   "cell_type": "markdown",
   "metadata": {},
   "source": [
    "## Exercise\n",
    "\n",
    "How might one change the model to allow different effort levels in each time period?\n",
    "Let's discuss the code and try and modify it.\n"
   ]
  },
  {
   "cell_type": "markdown",
   "metadata": {},
   "source": [
    "# Addding economics\n",
    "\n",
    "Now we need to add economics how should we do that?\n",
    "\n",
    "\n",
    "Rent is not the same as profit. Consider a fleet of vessels. That can be ranked in terms of who are the best at catching fish. Assume the worst vessel starts fishing and then another vessel that is better at catching fish starts fishing. At the prevailing market price (no matter what it is the second better vessel can make more money than the first vessel, bbecause it catches the same amount as the first vessel at lower cost, if the first vessel is just breaking even, then the aditional profit being made by the second vessel is the rent. If a third vessel enters the fishery, then the rent is now the sum of all the additional profits of the more efficient vessels in the fishery.\n",
    "This is the idea of Ricardian rent (which comes from Agriculture applied to fisheries) first introduced by [Jens Warming in 1911](https://tidsskrift.dk/nationaloekonomisktidsskrift/article/download/59023/81346?inline=1) [Who was Jens Warming?](https://sv.wikipedia.org/wiki/Jens_Warming). \n",
    "\n",
    "\n",
    "\n",
    "\n",
    "\n"
   ]
  },
  {
   "cell_type": "code",
   "execution_count": null,
   "metadata": {},
   "outputs": [],
   "source": []
  }
 ],
 "metadata": {
  "kernelspec": {
   "display_name": "Python 3",
   "language": "python",
   "name": "python3"
  },
  "language_info": {
   "codemirror_mode": {
    "name": "ipython",
    "version": 3
   },
   "file_extension": ".py",
   "mimetype": "text/x-python",
   "name": "python",
   "nbconvert_exporter": "python",
   "pygments_lexer": "ipython3",
   "version": "3.8.3"
  }
 },
 "nbformat": 4,
 "nbformat_minor": 4
}
