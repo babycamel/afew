{
 "cells": [
  {
   "cell_type": "code",
   "execution_count": 4,
   "metadata": {
    "scrolled": true
   },
   "outputs": [],
   "source": [
    "import handcalcs.render\n",
    "from sympy import *\n",
    "import numpy as np\n",
    "import matplotlib.pyplot as plt\n",
    "%matplotlib inline"
   ]
  },
  {
   "cell_type": "code",
   "execution_count": 5,
   "metadata": {},
   "outputs": [],
   "source": [
    "y, x = symbols('y x')"
   ]
  },
  {
   "cell_type": "code",
   "execution_count": 6,
   "metadata": {
    "scrolled": true
   },
   "outputs": [
    {
     "data": {
      "text/latex": [
       "\\[\n",
       "\\begin{aligned}\n",
       "y &= \\left( x \\right) ^{ 2 }  = \\left( \\displaystyle x \\right) ^{ 2 } &= \\displaystyle x^{2}  \n",
       "\\end{aligned}\n",
       "\\]"
      ],
      "text/plain": [
       "<IPython.core.display.Latex object>"
      ]
     },
     "metadata": {},
     "output_type": "display_data"
    }
   ],
   "source": [
    "%%render sympy\n",
    "y = x**2\n"
   ]
  },
  {
   "cell_type": "code",
   "execution_count": 7,
   "metadata": {},
   "outputs": [],
   "source": [
    "y\n",
    "\n",
    "f_x = diff(x**2,x)"
   ]
  },
  {
   "cell_type": "code",
   "execution_count": 8,
   "metadata": {
    "scrolled": true
   },
   "outputs": [
    {
     "data": {
      "text/latex": [
       "\\[\n",
       "\\begin{aligned}\n",
       "f_{x} &= \\displaystyle 2 x \\; \n",
       "\\end{aligned}\n",
       "\\]"
      ],
      "text/plain": [
       "<IPython.core.display.Latex object>"
      ]
     },
     "metadata": {},
     "output_type": "display_data"
    }
   ],
   "source": [
    "%%render \n",
    "f_x\n"
   ]
  },
  {
   "cell_type": "code",
   "execution_count": 9,
   "metadata": {
    "scrolled": false
   },
   "outputs": [
    {
     "name": "stdout",
     "output_type": "stream",
     "text": [
      "[ 1.          2.782       5.86828857 10.94305683 18.54199342 28.1870888\n",
      " 37.43554429 43.15842015 45.15747013 45.57789828]\n"
     ]
    }
   ],
   "source": [
    "# Constants \n",
    "r = 1.8 # intrinsic growth rate\n",
    "K = 100 # carrying capacity/unfished biomass\n",
    "x0 = 1 #initial value\n",
    "#initialize values\n",
    "x = np.zeros(10)  # vector of zeroes\n",
    "x[0] = x0 # pass initial value to vector\n",
    "for i in range(0,len(x)-1):\n",
    "     x[i+1] = x0 + r*x[i]*(1-x[i]/K)\n",
    "print(x) \n"
   ]
  },
  {
   "cell_type": "code",
   "execution_count": 10,
   "metadata": {
    "scrolled": false
   },
   "outputs": [
    {
     "data": {
      "text/plain": [
       "[<matplotlib.lines.Line2D at 0x7ff1e0c653d0>]"
      ]
     },
     "execution_count": 10,
     "metadata": {},
     "output_type": "execute_result"
    },
    {
     "data": {
      "image/png": "[encoded data removed]",
      "text/plain": [
       "<Figure size 432x288 with 1 Axes>"
      ]
     },
     "metadata": {
      "needs_background": "light"
     },
     "output_type": "display_data"
    }
   ],
   "source": [
    "plt.plot(x)"
   ]
  },
  {
   "cell_type": "markdown",
   "metadata": {},
   "source": [
    "# What does this look like if time is continuous\n",
    "\n",
    "Use the previous code but modify it slightly\n",
    "\n",
    "To make time continuous we will usse a simple numerical technique called Euler's method"
   ]
  },
  {
   "cell_type": "markdown",
   "metadata": {},
   "source": [
    "Discrete-time dynamics $ x_{t+1} - x_{t} = r x_{t} (1 - \\frac{x_t}{K})$ This is called a difference equation\n",
    "\n",
    "\n",
    "Continuous-time dynamics $\\frac{dx}{dt} = r x(t)(1-\\frac{x(t)}{K})$ This is called a differential equation"
   ]
  },
  {
   "cell_type": "code",
   "execution_count": 38,
   "metadata": {
    "scrolled": true
   },
   "outputs": [
    {
     "name": "stdout",
     "output_type": "stream",
     "text": [
      "[ 9.9 10.9 11.9 12.9 13.9 14.9 15.9 16.9 17.9] [ 1.          2.9602      6.68769288 13.35607222 23.91300663 37.02548178\n",
      " 47.16690516 50.34107676 50.4976966 ]\n"
     ]
    },
    {
     "data": {
      "image/png": "[encoded data removed]",
      "text/plain": [
       "<Figure size 432x288 with 1 Axes>"
      ]
     },
     "metadata": {
      "needs_background": "light"
     },
     "output_type": "display_data"
    }
   ],
   "source": [
    "# Constants \n",
    "r = 0.2 # intrinsic growth rate\n",
    "K = 100 # carrying capacity/unfished biomass\n",
    "x0 = 1 #initial value\n",
    "n = 10 # note this should be (b - x0)/h so h = (b - x0)/n\n",
    "#initialize values\n",
    "x = np.zeros(n)  # vector of zeroes\n",
    "t = np.zeros(n)\n",
    "x[0] = x0 # pass initial value to vector\n",
    "t[0] = 1\n",
    "b = 100 # upper bound on the interval for x\n",
    "\n",
    "h = (b - x0)/n\n",
    "\n",
    "for i in range(0,n-1):\n",
    "     t[i] = i + h #tiemstep + or * can be used\n",
    "     x[i+1] = x0 + h*(r*x[i]*(1-x[i]/K))\n",
    "print(t[0:n - 1],x[0:n - 1]) #print values\n",
    "plt.plot(t[0:n - 1],x[0:n - 1])\n",
    "plt.title('Continuous-time dynamics')\n",
    "plt.show()"
   ]
  },
  {
   "cell_type": "markdown",
   "metadata": {
    "scrolled": true
   },
   "source": [
    "# Analytical solution\n",
    "\n",
    "\n",
    "\n",
    "We can solve these exactly without using numbers, we will use the Python SymPy module to do this.\n",
    "\n",
    "We first define an unknow function for the stock $x(t)$ let's call this $f$ (for fish or for function, so as not to consude it with x above or further below) as a function of time that we wish to solve for.\n",
    "\n"
   ]
  },
  {
   "cell_type": "code",
   "execution_count": 54,
   "metadata": {},
   "outputs": [
    {
     "data": {
      "text/latex": [
       "$\\displaystyle \\frac{d}{d t} f{\\left(t \\right)} = r \\left(1 - \\frac{f{\\left(t \\right)}}{K}\\right) f{\\left(t \\right)}$"
      ],
      "text/plain": [
       "Eq(Derivative(f(t), t), r*(1 - f(t)/K)*f(t))"
      ]
     },
     "execution_count": 54,
     "metadata": {},
     "output_type": "execute_result"
    }
   ],
   "source": [
    "f, t, r, K = symbols('f t r K')\n",
    "f = Function('f')\n",
    "ode = Eq(diff(f(t), t), r*f(t)*(1 - f(t)/K)) #ode = ordinary differential equation\n",
    "ode"
   ]
  },
  {
   "cell_type": "code",
   "execution_count": 55,
   "metadata": {
    "scrolled": true
   },
   "outputs": [
    {
     "data": {
      "text/latex": [
       "$\\displaystyle f{\\left(t \\right)} = \\frac{K e^{C_{1} K + r t}}{e^{C_{1} K + r t} - 1}$"
      ],
      "text/plain": [
       "Eq(f(t), K*exp(C1*K + r*t)/(exp(C1*K + r*t) - 1))"
      ]
     },
     "execution_count": 55,
     "metadata": {},
     "output_type": "execute_result"
    }
   ],
   "source": [
    "sol = dsolve(ode, f(t)) \n",
    "sol"
   ]
  },
  {
   "cell_type": "markdown",
   "metadata": {},
   "source": [
    "This is the solution! It gives us a formula for the stock of fish $f(t) = x(t)$ at every point in time. to calculate the stock at a point in time subsitute in the time $t$, the growth rate of the stock and the carrying capcity $K$.\n",
    "We will see later that the carrying capacity of the stock $K$ is jus tthe unfished biomass in steady-state (when the stock is constant through time). \n",
    "\n",
    "To calculate the stock (quantity of fish) we also need to know $C_1$. How do we find this number?\n",
    "\n",
    "\n",
    "\n"
   ]
  },
  {
   "cell_type": "markdown",
   "metadata": {},
   "source": [
    "From the earlier simulations we saw that we had to choose an initial value $ x_0 $ so using the solution \n",
    "\n",
    "$ x(t) = \\frac{K e^{C_{1} K} + r t}{e^{C_{1} K + r t} - 1} $ \n",
    "\n",
    "then when $ t = 0 $ we have \n",
    "\n",
    "$ x(0) = \\frac{\n",
    "K e^{C_{1} K}}{e^{C_{1} K} - 1} $\n",
    "\n",
    "rearranging\n",
    "\n",
    "\n",
    "$ x(0) \\left[e^{C_{1} K} - 1\\right] = K e^{C_{1} K}  $\n",
    "\n",
    "or \n",
    "\n",
    "\n",
    "$ x(0) C_1 K  - x(0) = C_1 K $\n",
    "\n",
    "$ = (x(0) - 1) C_1 K - x(0) = 0 $\n",
    "\n",
    "$  C_1 = \\frac{x(0)}{K (x(0) - 1)} $\n",
    "\n",
    "So we actually know $ C_1 $ as long as we know the inital value $ x(0) $"
   ]
  },
  {
   "cell_type": "code",
   "execution_count": null,
   "metadata": {},
   "outputs": [],
   "source": []
  },
  {
   "cell_type": "markdown",
   "metadata": {},
   "source": [
    "## Add fishing\n",
    "\n",
    "Use the following catch equation to modify the computer code above to incorporate fishing into our model:\n",
    "\n",
    "$Y = q X E$\n",
    "\n",
    "where$$Y$$is catch, $$q$$ is the catchability and $$X$$ is the stock and $$E$$ fishing effort.\n",
    "\n",
    "Produce a graph and vary fishing effort to see how the graph changes. Assume fishing effort is some cosntant.\n"
   ]
  },
  {
   "cell_type": "code",
   "execution_count": null,
   "metadata": {},
   "outputs": [],
   "source": []
  },
  {
   "cell_type": "code",
   "execution_count": null,
   "metadata": {},
   "outputs": [],
   "source": []
  },
  {
   "cell_type": "code",
   "execution_count": 42,
   "metadata": {},
   "outputs": [
    {
     "name": "stdout",
     "output_type": "stream",
     "text": [
      "[1.         0.192      0.84610509 0.31738878 0.74528309 0.39932995\n",
      " 0.67926032 0.45290058 0.63603858 0.48793277]\n"
     ]
    }
   ],
   "source": [
    "# Constants \n",
    "r = 0.8 # intrinsic growth rate\n",
    "K = 100 # carrying capacity/unfished biomass\n",
    "q = 0.01 #catchability\n",
    "x0 = 1 #initial value\n",
    "#initialize values\n",
    "x = np.zeros(10)  # vector of zeroes\n",
    "E = np.zeros(10)\n",
    "\n",
    "x[0] = x0 # pass initial value to vector\n",
    "\n",
    "for i in range(0,len(x)-1):\n",
    "     E[i] = 160\n",
    "     x[i+1] = x0 + r*x[i]*(1-x[i]/K) - q*x[i]*E[i]\n",
    "print(x) \n"
   ]
  },
  {
   "cell_type": "code",
   "execution_count": 41,
   "metadata": {
    "scrolled": true
   },
   "outputs": [
    {
     "data": {
      "text/plain": [
       "[<matplotlib.lines.Line2D at 0x7ff1e1324430>]"
      ]
     },
     "execution_count": 41,
     "metadata": {},
     "output_type": "execute_result"
    },
    {
     "data": {
      "image/png": "[encoded data removed]",
      "text/plain": [
       "<Figure size 432x288 with 1 Axes>"
      ]
     },
     "metadata": {
      "needs_background": "light"
     },
     "output_type": "display_data"
    }
   ],
   "source": [
    "plt.plot(x)"
   ]
  },
  {
   "cell_type": "code",
   "execution_count": null,
   "metadata": {},
   "outputs": [],
   "source": []
  }
 ],
 "metadata": {
  "kernelspec": {
   "display_name": "Python 3",
   "language": "python",
   "name": "python3"
  },
  "language_info": {
   "codemirror_mode": {
    "name": "ipython",
    "version": 3
   },
   "file_extension": ".py",
   "mimetype": "text/x-python",
   "name": "python",
   "nbconvert_exporter": "python",
   "pygments_lexer": "ipython3",
   "version": "3.8.3"
  }
 },
 "nbformat": 4,
 "nbformat_minor": 4
}
