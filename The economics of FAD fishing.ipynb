{
 "cells": [
  {
   "cell_type": "markdown",
   "metadata": {},
   "source": [
    "# The Economics of FAD fishing"
   ]
  },
  {
   "cell_type": "markdown",
   "metadata": {},
   "source": [
    "Samples, K. C., & Sproul, J. T. (1985). Fish aggregating devices and open-access commercial fisheries: a theoretical inquiry. *Bulletin of Marine Science*, 37(1), 305-317.\n",
    "\n",
    "Note there are a number of errors in this paper and the related paper Clark, C. W., & Mangel, M. (1979). Aggregation and fishery dynamics: a theoretical study of schooling and the purse seine tuna fisheries. Fish. Bull, 77(2), 317-337.\n",
    "should be consulted for clarification.\n",
    "\n",
    "- N stock size\n",
    "\n",
    "- Q school size at FAD\n",
    "\n",
    "- K is the number of FADs assumed to be homogeneous\n",
    "\n",
    "$$\\frac{dQ}{dt} = a N  - bQ(t)$$\n",
    "\n",
    "where $bQ(t)$ is the outflow to the main population from an individual FAD and is proportional to the size of the school aggregated on the FAD.\n",
    "\n",
    "$$\\frac{dKQ}{dt} = \\frac{dS}{dt} = a KN - b KQ$$\n",
    "$$ = a KN - bS$$\n",
    "\n",
    "where $S = KQ$. $S$ is the fish population aggregated around the netowk of FADs with $S \\leq N$. \n",
    "\n",
    "Catch or fishing mortality is given by\n",
    "\n",
    "$h = q_0 E_0 S$\n",
    "\n",
    "Combining these and assuming fishing is occurring we get\n",
    "\n",
    "$$\\frac{dS}{dt} = a KN - bS - q_0 E_0 S$$\n",
    "\n",
    "\n",
    "The dynmaics of the background fish stock is given by\n",
    "\n",
    "$$\\frac{dN}{dt} = rN (1 - \\frac{N}{\\bar{N}}) + bS$$\n",
    "\n",
    "Fishing mortality on the underlying stock is given by\n",
    "\n",
    "$$g_1 = q_1 E_1 N$$\n",
    "\n",
    "Combining these we get\n",
    "\n",
    "\n",
    "$$\\frac{dN}{dt} = rN (1 - \\frac{N}{\\bar{N}}) + b S  - q_1 E_1 N$$\n",
    "\n",
    "\n",
    "\n",
    "Samples and Sproul then assume an equilibrium with no migration between the FADs and the rest of the school and a costant stock $\\frac{dS}{dt} = \\frac{dN}{dt} = 0$.\n",
    "\n",
    "\n",
    "\n",
    "\n",
    "\n",
    "\n"
   ]
  },
  {
   "cell_type": "code",
   "execution_count": 286,
   "metadata": {
    "scrolled": false
   },
   "outputs": [
    {
     "data": {
      "text/plain": [
       "{N: -NN*(E0*E1*q0*q1 - E0*q0*r + E1*b*q1 - K*a*b - b*r)/(r*(E0*q0 + b)),\n",
       " S: -K*NN*a*(E0*E1*q0*q1 - E0*q0*r + E1*b*q1 - K*a*b - b*r)/(r*(E0*q0 + b)**2)}"
      ]
     },
     "execution_count": 286,
     "metadata": {},
     "output_type": "execute_result"
    }
   ],
   "source": [
    "from sympy import *\n",
    "a, b, K, N, q0, E0, S, r, N, NN, q1, E1, S1 = symbols('a b K N q0 E0 S r N NN q1 E1 S1')\n",
    "\n",
    "eq1 = a*K*N - b*S - q0*E0*S\n",
    "eq2 = r*N*(1-N/NN) + b*S - q1*E1*N\n",
    "sol = solve({eq1,eq2},{S,N})\n",
    "sol[1]"
   ]
  },
  {
   "cell_type": "code",
   "execution_count": 287,
   "metadata": {},
   "outputs": [
    {
     "data": {
      "text/latex": [
       "$\\displaystyle \\frac{NN \\left(- E_{0} E_{1} q_{0} q_{1} + E_{0} q_{0} r - E_{1} b q_{1} + K a b + b r\\right)}{r \\left(E_{0} q_{0} + b\\right)}$"
      ],
      "text/plain": [
       "NN*(-E0*E1*q0*q1 + E0*q0*r - E1*b*q1 + K*a*b + b*r)/(r*(E0*q0 + b))"
      ]
     },
     "execution_count": 287,
     "metadata": {},
     "output_type": "execute_result"
    }
   ],
   "source": [
    "N = simplify(sol[1][N])\n",
    "N"
   ]
  },
  {
   "cell_type": "code",
   "execution_count": 288,
   "metadata": {},
   "outputs": [
    {
     "data": {
      "text/latex": [
       "$\\displaystyle \\frac{K NN a \\left(- E_{0} E_{1} q_{0} q_{1} + E_{0} q_{0} r - E_{1} b q_{1} + K a b + b r\\right)}{r \\left(E_{0} q_{0} + b\\right)^{2}}$"
      ],
      "text/plain": [
       "K*NN*a*(-E0*E1*q0*q1 + E0*q0*r - E1*b*q1 + K*a*b + b*r)/(r*(E0*q0 + b)**2)"
      ]
     },
     "execution_count": 288,
     "metadata": {},
     "output_type": "execute_result"
    }
   ],
   "source": [
    "S = simplify(sol[1][S])\n",
    "S"
   ]
  },
  {
   "cell_type": "code",
   "execution_count": 289,
   "metadata": {},
   "outputs": [
    {
     "data": {
      "text/latex": [
       "$\\displaystyle \\frac{K NN a \\left(- E_{0} E_{1} q_{0} q_{1} + E_{0} q_{0} r - E_{1} b q_{1} + K a b + b r\\right)}{r \\left(E_{0} q_{0} + b\\right)^{2}}$"
      ],
      "text/plain": [
       "K*NN*a*(-E0*E1*q0*q1 + E0*q0*r - E1*b*q1 + K*a*b + b*r)/(r*(E0*q0 + b)**2)"
      ]
     },
     "execution_count": 289,
     "metadata": {},
     "output_type": "execute_result"
    }
   ],
   "source": [
    "simplify(S)"
   ]
  },
  {
   "cell_type": "markdown",
   "metadata": {},
   "source": [
    "# Catch "
   ]
  },
  {
   "cell_type": "code",
   "execution_count": 290,
   "metadata": {},
   "outputs": [
    {
     "data": {
      "text/latex": [
       "$\\displaystyle \\frac{E_{0} K NN a q_{0} \\left(- E_{0} E_{1} q_{0} q_{1} + E_{0} q_{0} r - E_{1} b q_{1} + K a b + b r\\right)}{r \\left(E_{0} q_{0} + b\\right)^{2}}$"
      ],
      "text/plain": [
       "E0*K*NN*a*q0*(-E0*E1*q0*q1 + E0*q0*r - E1*b*q1 + K*a*b + b*r)/(r*(E0*q0 + b)**2)"
      ]
     },
     "execution_count": 290,
     "metadata": {},
     "output_type": "execute_result"
    }
   ],
   "source": [
    "h = q0*S*E0\n",
    "h"
   ]
  },
  {
   "cell_type": "code",
   "execution_count": 291,
   "metadata": {},
   "outputs": [
    {
     "data": {
      "text/latex": [
       "$\\displaystyle \\frac{E_{1} K NN a q_{1} \\left(- E_{0} E_{1} q_{0} q_{1} + E_{0} q_{0} r - E_{1} b q_{1} + K a b + b r\\right)}{r \\left(E_{0} q_{0} + b\\right)^{2}}$"
      ],
      "text/plain": [
       "E1*K*NN*a*q1*(-E0*E1*q0*q1 + E0*q0*r - E1*b*q1 + K*a*b + b*r)/(r*(E0*q0 + b)**2)"
      ]
     },
     "execution_count": 291,
     "metadata": {},
     "output_type": "execute_result"
    }
   ],
   "source": [
    "g = q1*S*E1\n",
    "g"
   ]
  },
  {
   "cell_type": "code",
   "execution_count": 292,
   "metadata": {
    "scrolled": true
   },
   "outputs": [
    {
     "name": "stdout",
     "output_type": "stream",
     "text": [
      "E0*K*NN*a*q0*(-E0*E1*q0*q1 + E0*q0*r - E1*b*q1 + K*a*b + b*r)/(r*(E0*q0 + b)**2)\n"
     ]
    },
    {
     "data": {
      "image/png": "[encoded data removed]",
      "text/plain": [
       "<Figure size 432x288 with 1 Axes>"
      ]
     },
     "metadata": {
      "needs_background": "light"
     },
     "output_type": "display_data"
    },
    {
     "data": {
      "text/plain": [
       "<sympy.plotting.plot.Plot at 0x7fe256886cd0>"
      ]
     },
     "execution_count": 292,
     "metadata": {},
     "output_type": "execute_result"
    }
   ],
   "source": [
    "from sympy.plotting import plot\n",
    "E1 = 800\n",
    "\n",
    "K = 300\n",
    "NN = 1000\n",
    "q0 = 0.001\n",
    "q1 = 0.001\n",
    "b = 0.1\n",
    "a = 0.1\n",
    "r = 1.2\n",
    "print(h)\n",
    "plot(E0*K*NN*a*q0*(-E0*E1*q0*q1 + E0*q0*r - E1*b*q1 + K*a*b + b*r)/(r*(E0*q0 + b)**2),(E0 ,0,500))\n",
    "\n"
   ]
  },
  {
   "cell_type": "code",
   "execution_count": 293,
   "metadata": {
    "scrolled": true
   },
   "outputs": [
    {
     "name": "stdout",
     "output_type": "stream",
     "text": [
      "E1*K*NN*a*q1*(-E0*E1*q0*q1 + E0*q0*r - E1*b*q1 + K*a*b + b*r)/(r*(E0*q0 + b)**2)\n"
     ]
    },
    {
     "data": {
      "image/png": "[encoded data removed]",
      "text/plain": [
       "<Figure size 432x288 with 1 Axes>"
      ]
     },
     "metadata": {
      "needs_background": "light"
     },
     "output_type": "display_data"
    },
    {
     "data": {
      "text/plain": [
       "<sympy.plotting.plot.Plot at 0x7fe2566cf7f0>"
      ]
     },
     "execution_count": 293,
     "metadata": {},
     "output_type": "execute_result"
    }
   ],
   "source": [
    "print(g)\n",
    "E1 = Symbol('E1')\n",
    "E0 = 300\n",
    "plot(E1*K*NN*a*q1*(-E0*E1*q0*q1 + E0*q0*r - E1*b*q1 + K*a*b + b*r)/(r*(E0*q0 + b)**2),(E1,0,10000))"
   ]
  },
  {
   "cell_type": "markdown",
   "metadata": {},
   "source": [
    "# Rent"
   ]
  },
  {
   "cell_type": "code",
   "execution_count": null,
   "metadata": {},
   "outputs": [],
   "source": []
  }
 ],
 "metadata": {
  "kernelspec": {
   "display_name": "Python 3",
   "language": "python",
   "name": "python3"
  },
  "language_info": {
   "codemirror_mode": {
    "name": "ipython",
    "version": 3
   },
   "file_extension": ".py",
   "mimetype": "text/x-python",
   "name": "python",
   "nbconvert_exporter": "python",
   "pygments_lexer": "ipython3",
   "version": "3.8.3"
  }
 },
 "nbformat": 4,
 "nbformat_minor": 4
}
