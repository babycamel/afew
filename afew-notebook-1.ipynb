{
 "cells": [
  {
   "cell_type": "markdown",
   "metadata": {},
   "source": [
    "# Advanced Fisheries Economics Workshop\n",
    "\n",
    "This is a Jupyter note book. You can write fromatted text in a Jupyter notebook using markdown, you can do mathematics, you can analyze data and you can plot graphs. You can import Excel files \n",
    "\n",
    "Notebooks or interactie notebooks are a way of working that combines text and computation, they are free, don't take up a lot of space (lightweight) and are portable. They can be e-mailed attached in a Slack message, shared over the internet via Google collaboaratory or Microsoft Azure notebooks or any number of a range of other platforms.\n",
    "\n",
    "They can also be used to do presentations (slideshows) with the addition of package called RISE.\n",
    "\n"
   ]
  },
  {
   "cell_type": "markdown",
   "metadata": {},
   "source": [
    "## Exercise 1 \n",
    "\n",
    "[Markdown Tutorial](https://commonmark.org/help/tutorial/) We will do this as a warm-up exercise. Estimated Time 10 minutes."
   ]
  },
  {
   "cell_type": "markdown",
   "metadata": {},
   "source": [
    "## Exercise 2 \n",
    "\n",
    "Insert a markdown cell below and  write a brief bio of yourself and what you expect to achieve from the workshop. Estimated time 10 minutes."
   ]
  },
  {
   "cell_type": "markdown",
   "metadata": {},
   "source": [
    "## Exercise 3\n",
    "\n",
    "Enter 1 + 1 in the cell below and click on the &#9658;&#9475; Run button in the menu bar above. Check that it says Code in the menu bar above."
   ]
  },
  {
   "cell_type": "code",
   "execution_count": null,
   "metadata": {},
   "outputs": [],
   "source": []
  },
  {
   "cell_type": "markdown",
   "metadata": {},
   "source": [
    "## Exercise 4\n",
    "\n",
    "Enter $x = 1 + 1$ in the cell below and run the cell. Then enter $x$ and re-run the cell\n"
   ]
  },
  {
   "cell_type": "code",
   "execution_count": null,
   "metadata": {},
   "outputs": [],
   "source": []
  },
  {
   "cell_type": "markdown",
   "metadata": {},
   "source": [
    "## Exercise 5\n",
    "\n",
    "Enter $x + 1$ in the cell below and run the cell."
   ]
  },
  {
   "cell_type": "code",
   "execution_count": null,
   "metadata": {},
   "outputs": [],
   "source": []
  },
  {
   "cell_type": "markdown",
   "metadata": {},
   "source": [
    "## Exercise 6 \n",
    "\n",
    "Insert a markdown cell and describe what you did in Exercise 3-5 make use of bullet points."
   ]
  },
  {
   "cell_type": "code",
   "execution_count": null,
   "metadata": {},
   "outputs": [],
   "source": []
  }
 ],
 "metadata": {
  "kernelspec": {
   "display_name": "Python 3",
   "language": "python",
   "name": "python3"
  },
  "language_info": {
   "codemirror_mode": {
    "name": "ipython",
    "version": 3
   },
   "file_extension": ".py",
   "mimetype": "text/x-python",
   "name": "python",
   "nbconvert_exporter": "python",
   "pygments_lexer": "ipython3",
   "version": "3.6.8"
  }
 },
 "nbformat": 4,
 "nbformat_minor": 2
}
