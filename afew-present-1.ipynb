{
 "cells": [
  {
   "cell_type": "markdown",
   "metadata": {
    "slideshow": {
     "slide_type": "slide"
    }
   },
   "source": [
    "# Advanced Fisheries Economics Workshop\n",
    "\n",
    "\n",
    "\n",
    "\n",
    "## Presenter: Rodney Beard\n",
    "\n",
    "## Fisheries Economics Advisor. FFA\n",
    "\n",
    "\n",
    "## About me\n",
    "\n",
    "PhD Agricultural Economics,The University of Queensland \n",
    "Diplom-Volkswirt, University of Constance\n",
    "B.A., Griffith University\n",
    "\n",
    "Areas of specialty: Bio-economic modelling and dynamic game theory applied to fisheries, epidemiology, land management, water and marine resource economics. Microeconomic theory.\n",
    "\n",
    "\n"
   ]
  },
  {
   "cell_type": "markdown",
   "metadata": {
    "slideshow": {
     "slide_type": "slide"
    }
   },
   "source": [
    "Objective:\n",
    "\n",
    "- Introduce you to some methods in fisheries economics for the study of oceanic fisheries\n",
    "- To look at what is behind the graphs\n",
    "- To get you to develop your own simple bio-economic models\n",
    "- To learn some new software tools for doing this\n",
    "- To work with fisheries data from the Pacific\n",
    "- To learn what a reproducible workflow looks like"
   ]
  },
  {
   "cell_type": "markdown",
   "metadata": {
    "slideshow": {
     "slide_type": "subslide"
    }
   },
   "source": [
    "Day one we will mostly familiarize ourselves with the platform and technology we are using we will split the day into two 3 hour blocks.\n",
    "\n",
    "We will mix presentations and interactive exercises.\n",
    "\n",
    "You are already using zoom to join the workshop. You will also need to install [AnyDesk](https://anydesk.com/en) so I can help you when you get stuck.\n",
    "\n",
    "You will also need to install [Anaconda](https://www.anaconda.com) "
   ]
  },
  {
   "cell_type": "markdown",
   "metadata": {
    "slideshow": {
     "slide_type": "subslide"
    }
   },
   "source": [
    "We will use Jupyter notebooks to do our work. This presentation is written in a Jupyter notebook and will be presented using the [RISE presentation software](https://rise.readthedocs.io/en/stable/index.html). RISE is a html5 presentation platform that allows the presentation of interactive slides."
   ]
  },
  {
   "cell_type": "markdown",
   "metadata": {
    "slideshow": {
     "slide_type": "subslide"
    }
   },
   "source": [
    "We will also makle use of Google colaboratory. Particularly if you have any issues with the software we are using Google colaboratory is the fall back (Plan B).\n",
    "\n",
    "The best way to think of Jupyter notebooks is as a scratch pad for ideas. Interactive notebooks let you mix code text and multimedia in a simngle document."
   ]
  },
  {
   "cell_type": "markdown",
   "metadata": {
    "slideshow": {
     "slide_type": "slide"
    }
   },
   "source": [
    "So let'see what it can do! Calculations:"
   ]
  },
  {
   "cell_type": "code",
   "execution_count": 1,
   "metadata": {
    "scrolled": true,
    "slideshow": {
     "slide_type": "subslide"
    }
   },
   "outputs": [
    {
     "data": {
      "text/plain": [
       "8"
      ]
     },
     "execution_count": 1,
     "metadata": {},
     "output_type": "execute_result"
    }
   ],
   "source": [
    "5+3"
   ]
  },
  {
   "cell_type": "markdown",
   "metadata": {
    "slideshow": {
     "slide_type": "subslide"
    }
   },
   "source": [
    "The following image is imported directly from the Web courtesy of Wired magazine. you should also be able to just drag and drop images into the notebook."
   ]
  },
  {
   "cell_type": "code",
   "execution_count": 2,
   "metadata": {
    "scrolled": true,
    "slideshow": {
     "slide_type": "subslide"
    }
   },
   "outputs": [
    {
     "data": {
      "text/html": [
       "<img src=\"https://media.wired.com/photos/596f72b8eb889b7135754659/master/w_2560%2Cc_limit/Bluefin-Tuna-TA1-95662678.jpg\"/>"
      ],
      "text/plain": [
       "<IPython.core.display.Image object>"
      ]
     },
     "execution_count": 2,
     "metadata": {},
     "output_type": "execute_result"
    }
   ],
   "source": [
    "from IPython.display import Image\n",
    "from IPython.core.display import HTML \n",
    "Image(url= \"https://media.wired.com/photos/596f72b8eb889b7135754659/master/w_2560%2Cc_limit/Bluefin-Tuna-TA1-95662678.jpg\")"
   ]
  },
  {
   "cell_type": "markdown",
   "metadata": {
    "slideshow": {
     "slide_type": "subslide"
    }
   },
   "source": [
    "We can also embed video:"
   ]
  },
  {
   "cell_type": "code",
   "execution_count": 3,
   "metadata": {
    "slideshow": {
     "slide_type": "subslide"
    }
   },
   "outputs": [
    {
     "data": {
      "image/jpeg": "[encoded data removed]",
      "text/html": [
       "\n",
       "        <iframe\n",
       "            width=\"400\"\n",
       "            height=\"300\"\n",
       "            src=\"https://www.youtube.com/embed/XlopHmUb0X4\"\n",
       "            frameborder=\"0\"\n",
       "            allowfullscreen\n",
       "        ></iframe>\n",
       "        "
      ],
      "text/plain": [
       "<IPython.lib.display.YouTubeVideo at 0x7fc71a73cd30>"
      ]
     },
     "execution_count": 3,
     "metadata": {},
     "output_type": "execute_result"
    }
   ],
   "source": [
    "from IPython.lib.display import YouTubeVideo\n",
    "YouTubeVideo('XlopHmUb0X4')\n",
    "\n"
   ]
  },
  {
   "cell_type": "code",
   "execution_count": null,
   "metadata": {},
   "outputs": [],
   "source": [
    "from IPython.lib.display import YouTubeVideo\n",
    "YouTubeVideo('XlopHmUb0X4')\n",
    "\n"
   ]
  },
  {
   "cell_type": "markdown",
   "metadata": {
    "slideshow": {
     "slide_type": "slide"
    }
   },
   "source": [
    "# Analyzing data"
   ]
  },
  {
   "cell_type": "code",
   "execution_count": 4,
   "metadata": {},
   "outputs": [
    {
     "data": {
      "text/html": [
       "<div>\n",
       "<style scoped>\n",
       "    .dataframe tbody tr th:only-of-type {\n",
       "        vertical-align: middle;\n",
       "    }\n",
       "\n",
       "    .dataframe tbody tr th {\n",
       "        vertical-align: top;\n",
       "    }\n",
       "\n",
       "    .dataframe thead th {\n",
       "        text-align: right;\n",
       "    }\n",
       "</style>\n",
       "<table border=\"1\" class=\"dataframe\">\n",
       "  <thead>\n",
       "    <tr style=\"text-align: right;\">\n",
       "      <th></th>\n",
       "      <th>a</th>\n",
       "      <th>b</th>\n",
       "      <th>c</th>\n",
       "    </tr>\n",
       "  </thead>\n",
       "  <tbody>\n",
       "    <tr>\n",
       "      <th>0</th>\n",
       "      <td>4</td>\n",
       "      <td>2</td>\n",
       "      <td>3</td>\n",
       "    </tr>\n",
       "    <tr>\n",
       "      <th>1</th>\n",
       "      <td>4</td>\n",
       "      <td>5</td>\n",
       "      <td>6</td>\n",
       "    </tr>\n",
       "    <tr>\n",
       "      <th>2</th>\n",
       "      <td>7</td>\n",
       "      <td>8</td>\n",
       "      <td>9</td>\n",
       "    </tr>\n",
       "  </tbody>\n",
       "</table>\n",
       "</div>"
      ],
      "text/plain": [
       "   a  b  c\n",
       "0  4  2  3\n",
       "1  4  5  6\n",
       "2  7  8  9"
      ]
     },
     "execution_count": 4,
     "metadata": {},
     "output_type": "execute_result"
    }
   ],
   "source": [
    "import numpy as np\n",
    "import pandas as pd\n",
    "\n",
    "df = pd.DataFrame(np.array([[4, 2, 3], [4, 5, 6], [7, 8, 9]]),\n",
    "                    columns=['a', 'b', 'c']) #This creates a data frame object\n",
    "df"
   ]
  },
  {
   "cell_type": "markdown",
   "metadata": {
    "slideshow": {
     "slide_type": "subslide"
    }
   },
   "source": [
    "Let's do a calculation. select a column and calculate the mean."
   ]
  },
  {
   "cell_type": "code",
   "execution_count": 5,
   "metadata": {
    "slideshow": {
     "slide_type": "subslide"
    }
   },
   "outputs": [
    {
     "data": {
      "text/plain": [
       "5.0"
      ]
     },
     "execution_count": 5,
     "metadata": {},
     "output_type": "execute_result"
    }
   ],
   "source": [
    "df['a'].mean() #average"
   ]
  },
  {
   "cell_type": "code",
   "execution_count": 6,
   "metadata": {
    "scrolled": true
   },
   "outputs": [
    {
     "data": {
      "text/plain": [
       "0    1.00\n",
       "1    1.00\n",
       "2    1.75\n",
       "Name: a, dtype: float64"
      ]
     },
     "execution_count": 6,
     "metadata": {},
     "output_type": "execute_result"
    }
   ],
   "source": [
    "df['a']/4"
   ]
  },
  {
   "cell_type": "code",
   "execution_count": 7,
   "metadata": {},
   "outputs": [
    {
     "data": {
      "text/plain": [
       "15"
      ]
     },
     "execution_count": 7,
     "metadata": {},
     "output_type": "execute_result"
    }
   ],
   "source": [
    "df['b'].sum()"
   ]
  },
  {
   "cell_type": "markdown",
   "metadata": {
    "slideshow": {
     "slide_type": "slide"
    }
   },
   "source": [
    "# Plotting graphs"
   ]
  },
  {
   "cell_type": "code",
   "execution_count": 8,
   "metadata": {
    "scrolled": false
   },
   "outputs": [
    {
     "data": {
      "text/plain": [
       "<matplotlib.axes._subplots.AxesSubplot at 0x7fc71c50f8e0>"
      ]
     },
     "execution_count": 8,
     "metadata": {},
     "output_type": "execute_result"
    },
    {
     "data": {
      "image/png": "[encoded data removed]",
      "text/plain": [
       "<Figure size 432x288 with 1 Axes>"
      ]
     },
     "metadata": {
      "needs_background": "light"
     },
     "output_type": "display_data"
    }
   ],
   "source": [
    "df.plot.scatter(x='a',y='b',c='red',title='A scatter plot')"
   ]
  },
  {
   "cell_type": "markdown",
   "metadata": {
    "slideshow": {
     "slide_type": "slide"
    }
   },
   "source": [
    "## Choice of language\n",
    "\n",
    "- We are using the programing language Python as our working language. As you can see it is very powerful.\n",
    "\n",
    "- Why Python and not R? Basically Python module SymPy let's us do symbolic computation r doesn't do this well. Some of you won't like math much so we will get the computer to do that for us.\n",
    "\n",
    "- Why not Excel? Same answer Excel can't do symbolic computation, but also Excel doesn't lend itself to a reproducbile workflow\n",
    "\n"
   ]
  },
  {
   "cell_type": "markdown",
   "metadata": {
    "slideshow": {
     "slide_type": "slide"
    }
   },
   "source": [
    "## Replication crisis and reproducibility\n",
    "\n",
    "Two examples of reproducibility error impacts on policy:\n",
    "\n",
    "\n",
    "The [Reinhart-Rogoff controversy](https://www.theguardian.com/commentisfree/2013/apr/18/rogoff-reinhart-deficit-research-false) in 2013 in which a spreadsheet error led to policy errors.\n",
    "\n",
    "The [UK Government CoVID-19 spreadhseet error](https://theconversation.com/why-you-should-never-use-microsoft-excel-to-count-coronavirus-cases-147681) involving lost data 2020.\n",
    "\n",
    "The Europen Spreadsheet Risk Interest Group (EUSPRIG) [horror stories](http://www.eusprig.org/horror-stories.htm).\n",
    "\n",
    "There is a better way [reproducible research](https://reproducibleresearch.net).\n",
    "\n"
   ]
  },
  {
   "cell_type": "markdown",
   "metadata": {},
   "source": []
  },
  {
   "cell_type": "markdown",
   "metadata": {},
   "source": [
    "## Web Resources\n",
    "\n",
    "\n",
    "- Workshop materials including these slides can be found on the [webpage](https://github.com/babycamel/afew/blob/master/README.md)\n",
    "\n",
    "- Discussion and any confidential information will be shared on Slack not on the webpage.\n",
    "\n"
   ]
  },
  {
   "cell_type": "markdown",
   "metadata": {},
   "source": [
    "# Housekeeping\n",
    "\n",
    "- Make sure you are able to access the Slack group\n",
    "\n",
    "\n",
    "- Do you have the individual version of Anaconda installed? If not go to [Anaconda](https://www.anaconda.com/products/individual)\n",
    "\n",
    "- Do you have AnyDesk installed? If not go to [AnyDesk](https://anydesk.com/en)\n",
    "\n",
    "\n",
    "- We will spend a few minutes making sure this works and getting people set-up with their computers"
   ]
  },
  {
   "cell_type": "code",
   "execution_count": null,
   "metadata": {},
   "outputs": [],
   "source": []
  }
 ],
 "metadata": {
  "celltoolbar": "Slideshow",
  "kernelspec": {
   "display_name": "Python 3",
   "language": "python",
   "name": "python3"
  },
  "language_info": {
   "codemirror_mode": {
    "name": "ipython",
    "version": 3
   },
   "file_extension": ".py",
   "mimetype": "text/x-python",
   "name": "python",
   "nbconvert_exporter": "python",
   "pygments_lexer": "ipython3",
   "version": "3.8.3"
  }
 },
 "nbformat": 4,
 "nbformat_minor": 4
}
