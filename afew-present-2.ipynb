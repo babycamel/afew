{
 "cells": [
  {
   "cell_type": "markdown",
   "metadata": {
    "slideshow": {
     "slide_type": "slide"
    }
   },
   "source": [
    "# Population Biology Review"
   ]
  },
  {
   "cell_type": "code",
   "execution_count": 31,
   "metadata": {
    "slideshow": {
     "slide_type": "fragment"
    }
   },
   "outputs": [],
   "source": [
    "import handcalcs.render\n",
    "import math as math\n",
    "from sympy import * #symbolic algebra package\n",
    "import numpy as np #numerical python packagee\n",
    "import matplotlib.pyplot as plt #matplotlib is a plotting package\n",
    "%matplotlib inline  \n",
    "# without this plots are popouts"
   ]
  },
  {
   "cell_type": "markdown",
   "metadata": {
    "slideshow": {
     "slide_type": "slide"
    }
   },
   "source": [
    "Fisheries  and biology in general involves growth of organism and poulations. the stock of fish changes overtime, \n",
    "it increases through natural growth and decreases through natural mortality and fishing.\n",
    "\n",
    "We will start by reviewing some basic models of poulation growth. You have most likely seen versions of these beofre but not to the elvel of detail we will cover here.\n"
   ]
  },
  {
   "cell_type": "markdown",
   "metadata": {
    "slideshow": {
     "slide_type": "slide"
    }
   },
   "source": [
    "# Logistic Growth\n",
    "\n",
    "\n",
    "Let us first write some simple python code to simulate logistic growth. We will do this in stages."
   ]
  },
  {
   "cell_type": "markdown",
   "metadata": {
    "slideshow": {
     "slide_type": "subslide"
    }
   },
   "source": [
    "Let's start with exponential growth\n",
    "\n",
    "$x(t) = x_0 e^{rt}$\n",
    "\n",
    "$x_0$ is an initial value (The starting value of say a stock of fish) without limits to food, resources (nutrients), space, predation, etc. the stock would continue to grow. Let us plot this"
   ]
  },
  {
   "cell_type": "code",
   "execution_count": 32,
   "metadata": {
    "scrolled": false,
    "slideshow": {
     "slide_type": "subslide"
    }
   },
   "outputs": [
    {
     "data": {
      "text/plain": [
       "Text(0.5, 1.0, 'Exponetial growth')"
      ]
     },
     "execution_count": 32,
     "metadata": {},
     "output_type": "execute_result"
    },
    {
     "data": {
      "image/png": "[encoded data removed]",
      "text/plain": [
       "<Figure size 432x288 with 1 Axes>"
      ]
     },
     "metadata": {
      "needs_background": "light"
     },
     "output_type": "display_data"
    }
   ],
   "source": [
    "x0 = 1 #choose a starting value\n",
    "r = 0.2 #choose a growth rate\n",
    "t = np.linspace(0,10,20) #define an x-axis\n",
    "x = x0*np.exp(r*t) #function to plot\n",
    "plt.plot(t,x) # plot pairs of values\n",
    "plt.xlabel(\"t\")\n",
    "plt.ylabel(\"x(t)\")\n",
    "plt.title(\"Exponetial growth\")\n"
   ]
  },
  {
   "cell_type": "markdown",
   "metadata": {
    "slideshow": {
     "slide_type": "slide"
    }
   },
   "source": [
    "## What is the rate of change of this over time?\n",
    "\n",
    "\n",
    "To determine the rate of change we need to examine how the stock changes with time\n"
   ]
  },
  {
   "cell_type": "code",
   "execution_count": 38,
   "metadata": {
    "slideshow": {
     "slide_type": "subslide"
    }
   },
   "outputs": [
    {
     "data": {
      "text/latex": [
       "$\\displaystyle r x_{0} e^{r t}$"
      ],
      "text/plain": [
       "r*x0*exp(r*t)"
      ]
     },
     "execution_count": 38,
     "metadata": {},
     "output_type": "execute_result"
    }
   ],
   "source": [
    "x0, r, t = symbols('x0 r t')\n",
    "deriv = diff(x0*exp(r*t),t) #differrentiates the function, \n",
    "#calculates the slop of the curve at the point t\n",
    "deriv"
   ]
  },
  {
   "cell_type": "markdown",
   "metadata": {
    "slideshow": {
     "slide_type": "subslide"
    }
   },
   "source": [
    "Now we need to substitute in $x(t)$. to get $\\frac{dx(t)}{dt} = rx(t)$\n",
    "\n",
    "divide both sides by $x(t)$ to get a rate of change\n",
    "\n",
    "$\\frac{1}{x(t)}\\frac{dx(t)}{dt} = r$ Basically this is like a percentage change.\n",
    "\n",
    "\n",
    "Becauase stocks can't grow forever we penalize their growth by a mortality term $r \\frac{x(t)^2}{K}$ where $K$ called the carrying capcity is a measure of the available resources need to sustain the population.\n",
    "\n",
    "Combining this we get \n",
    "\n",
    "$\\frac{dx(t)}{dt} = r x(t)(1-\\frac{x(t)}{K})$\n",
    "\n",
    "where $\\frac{x(t)}{K}$ is a density dependent mortality term.\n",
    "\n"
   ]
  },
  {
   "cell_type": "markdown",
   "metadata": {},
   "source": [
    "## Discrete-time dynamics"
   ]
  },
  {
   "cell_type": "code",
   "execution_count": null,
   "metadata": {
    "slideshow": {
     "slide_type": "subslide"
    }
   },
   "outputs": [],
   "source": [
    "#Constants \n",
    "r = 1.8 # intrinsic growth rate\n",
    "K = 100 # carrying capacity/unfished biomass\n",
    "x0 = 1 #initial value\n",
    "#initialize values\n",
    "x = np.zeros(10)  # vector of zeroes\n",
    "x[0] = x0 # pass initial value to vector\n",
    "for i in range(0,len(x)-1):\n",
    "     x[i+1] = x[i] + r*x[i]*(1-x[i]/K)\n",
    "print(x) \n"
   ]
  }
 ],
 "metadata": {
  "celltoolbar": "Slideshow",
  "kernelspec": {
   "display_name": "Python 3",
   "language": "python",
   "name": "python3"
  },
  "language_info": {
   "codemirror_mode": {
    "name": "ipython",
    "version": 3
   },
   "file_extension": ".py",
   "mimetype": "text/x-python",
   "name": "python",
   "nbconvert_exporter": "python",
   "pygments_lexer": "ipython3",
   "version": "3.8.3"
  }
 },
 "nbformat": 4,
 "nbformat_minor": 4
}
