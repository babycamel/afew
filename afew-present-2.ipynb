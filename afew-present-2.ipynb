{
 "cells": [
  {
   "cell_type": "markdown",
   "metadata": {
    "slideshow": {
     "slide_type": "fragment"
    }
   },
   "source": [
    "# Advanced Fisheries Economics Workshop"
   ]
  },
  {
   "cell_type": "markdown",
   "metadata": {
    "slideshow": {
     "slide_type": "slide"
    }
   },
   "source": [
    "# Population Biology Review"
   ]
  },
  {
   "cell_type": "code",
   "execution_count": 1,
   "metadata": {
    "slideshow": {
     "slide_type": "fragment"
    }
   },
   "outputs": [],
   "source": [
    "import handcalcs.render\n",
    "import math as math\n",
    "from sympy import * #symbolic algebra package\n",
    "import numpy as np #numerical python packagee\n",
    "import matplotlib.pyplot as plt #matplotlib is a plotting package\n",
    "%matplotlib inline  \n",
    "# without this plots are popouts"
   ]
  },
  {
   "cell_type": "markdown",
   "metadata": {
    "slideshow": {
     "slide_type": "slide"
    }
   },
   "source": [
    "Fisheries  and biology in general involves growth of organism and populations. the stock of fish changes overtime, \n",
    "it increases through natural growth and decreases through natural mortality and fishing.\n",
    "\n",
    "We will start by reviewing some basic models of poulation growth. You have most likely seen versions of these before but not to the elvel of detail we will cover here.\n"
   ]
  },
  {
   "cell_type": "markdown",
   "metadata": {
    "slideshow": {
     "slide_type": "slide"
    }
   },
   "source": [
    "# Logistic Growth\n",
    "\n",
    "\n",
    "Let us first write some simple python code to simulate logistic growth. We will do this in stages."
   ]
  },
  {
   "cell_type": "markdown",
   "metadata": {
    "slideshow": {
     "slide_type": "subslide"
    }
   },
   "source": [
    "Let's start with exponential growth\n",
    "\n",
    "$x(t) = x_0 e^{rt}$\n",
    "\n",
    "$x_0$ is an initial value (The starting value of say a stock of fish) without limits to food, resources (nutrients), space, predation, etc. the stock would continue to grow. Let us plot this"
   ]
  },
  {
   "cell_type": "code",
   "execution_count": 2,
   "metadata": {
    "scrolled": false,
    "slideshow": {
     "slide_type": "subslide"
    }
   },
   "outputs": [
    {
     "data": {
      "text/plain": [
       "Text(0.5, 1.0, 'Exponetial growth')"
      ]
     },
     "execution_count": 2,
     "metadata": {},
     "output_type": "execute_result"
    },
    {
     "data": {
      "image/png": "[encoded data removed]",
      "text/plain": [
       "<Figure size 432x288 with 1 Axes>"
      ]
     },
     "metadata": {
      "needs_background": "light"
     },
     "output_type": "display_data"
    }
   ],
   "source": [
    "x0 = 1 #choose a starting value\n",
    "r = 0.2 #choose a growth rate\n",
    "t = np.linspace(0,10,20) #define an x-axis\n",
    "x = x0*np.exp(r*t) #function to plot\n",
    "plt.plot(t,x) # plot pairs of values\n",
    "plt.xlabel(\"t\")\n",
    "plt.ylabel(\"x(t)\")\n",
    "plt.title(\"Exponetial growth\")\n"
   ]
  },
  {
   "cell_type": "markdown",
   "metadata": {
    "slideshow": {
     "slide_type": "slide"
    }
   },
   "source": [
    "## What is the rate of change of this over time?\n",
    "\n",
    "\n",
    "To determine the rate of change we need to examine how the stock changes with time\n"
   ]
  },
  {
   "cell_type": "code",
   "execution_count": 3,
   "metadata": {
    "slideshow": {
     "slide_type": "subslide"
    }
   },
   "outputs": [
    {
     "data": {
      "text/latex": [
       "$\\displaystyle r x_{0} e^{r t}$"
      ],
      "text/plain": [
       "r*x0*exp(r*t)"
      ]
     },
     "execution_count": 3,
     "metadata": {},
     "output_type": "execute_result"
    }
   ],
   "source": [
    "x0, r, t = symbols('x0 r t')\n",
    "deriv = diff(x0*exp(r*t),t) #differrentiates the function, \n",
    "#calculates the slop of the curve at the point t\n",
    "deriv"
   ]
  },
  {
   "cell_type": "markdown",
   "metadata": {
    "slideshow": {
     "slide_type": "subslide"
    }
   },
   "source": [
    "Now we need to substitute in $x(t)$. to get $\\frac{dx(t)}{dt} = rx(t)$\n",
    "\n",
    "divide both sides by $x(t)$ to get a rate of change\n",
    "\n",
    "$\\frac{1}{x(t)}\\frac{dx(t)}{dt} = r$ Basically this is like a percentage change.\n",
    "\n",
    "\n",
    "Becauase stocks can't grow forever we penalize their growth by a mortality term $r \\frac{x(t)^2}{K}$ where $K$ called the carrying capcity is a measure of the available resources need to sustain the population.\n",
    "\n",
    "Combining this we get \n",
    "\n",
    "$\\frac{dx(t)}{dt} = r x(t)(1-\\frac{x(t)}{K})$\n",
    "\n",
    "where $\\frac{x(t)}{K}$ is a density dependent mortality term.\n",
    "\n",
    "This equation is a differential equation (time is continuous), it contain a (first) derivative $\\frac{dx(t)}{dt}$, so $x(t)$ has been differentiated once, so it is a first-order differential equation. The derivative is an ordinary derivative because $x$ depends only on $t$ and not something else. If it depended say on the age of fish $a$ so we had \n",
    "$x(t,a)$ then it would be a partial differential equation. Also when you expand it you see it is quadratic in $x(t)$ so it is a non-linear differential equation. \n",
    "\n",
    "We will come back to differential equations later.\n",
    "\n"
   ]
  },
  {
   "cell_type": "markdown",
   "metadata": {
    "slideshow": {
     "slide_type": "slide"
    }
   },
   "source": [
    "## Discrete-time dynamics\n",
    "\n",
    "\n",
    "We now turn to discre-time. Instead of using a derivative ($\\frac{dx(t)}{dt} = \\lim_{h \\rightarrow 0} = \n",
    "\\frac{x(t+h) - x(t)}{h}$) we use $h=1$ and $x_{t+1} - x_{t}$ to capture the change in the stock.\n",
    "\n",
    "So we have\n",
    "\n",
    "$x_{t+1} - x_{t} = r x_{t} (1 - \\frac{x_{t}}{K})$\n",
    "\n",
    "We will see later why this is problematic and sometimes a point of contention between biologists and economists (the biologists are correct in this case).\n",
    "\n",
    "Let's see how we can numerically compute the above equation.\n"
   ]
  },
  {
   "cell_type": "code",
   "execution_count": 4,
   "metadata": {
    "slideshow": {
     "slide_type": "subslide"
    }
   },
   "outputs": [
    {
     "name": "stdout",
     "output_type": "stream",
     "text": [
      "[  1.           2.782        7.65028857  20.36732352  49.56160424\n",
      "  94.5581448  103.82043597  96.68092806 102.45696526  97.92576759]\n"
     ]
    }
   ],
   "source": [
    "#Constants \n",
    "r = 1.8 # intrinsic growth rate\n",
    "K = 100 # carrying capacity/unfished biomass\n",
    "x0 = 1 #initial value\n",
    "#initialize values\n",
    "x = np.zeros(10)  # vector of zeroes\n",
    "x[0] = x0 # pass initial value to vector\n",
    "for i in range(0,len(x)-1):\n",
    "     x[i+1] = x[i] + r*x[i]*(1-x[i]/K)\n",
    "print(x) \n"
   ]
  },
  {
   "cell_type": "markdown",
   "metadata": {
    "slideshow": {
     "slide_type": "fragment"
    }
   },
   "source": [
    "Now plot the result"
   ]
  },
  {
   "cell_type": "code",
   "execution_count": 5,
   "metadata": {},
   "outputs": [
    {
     "data": {
      "text/plain": [
       "Text(0, 0.5, 'stock x')"
      ]
     },
     "execution_count": 5,
     "metadata": {},
     "output_type": "execute_result"
    },
    {
     "data": {
      "image/png": "[encoded data removed]",
      "text/plain": [
       "<Figure size 432x288 with 1 Axes>"
      ]
     },
     "metadata": {
      "needs_background": "light"
     },
     "output_type": "display_data"
    }
   ],
   "source": [
    "plt.plot(x)\n",
    "plt.xlabel(\"t\")\n",
    "plt.ylabel(\"stock x\")"
   ]
  },
  {
   "cell_type": "markdown",
   "metadata": {
    "slideshow": {
     "slide_type": "slide"
    }
   },
   "source": [
    "# What does this look like if time is continuous\n",
    "\n",
    "Use the previous code but modify it slightly\n",
    "\n",
    "To make time continuous we will usse a simple numerical technique called Euler's method"
   ]
  },
  {
   "cell_type": "code",
   "execution_count": 6,
   "metadata": {
    "slideshow": {
     "slide_type": "subslide"
    }
   },
   "outputs": [
    {
     "name": "stdout",
     "output_type": "stream",
     "text": [
      "[ 9.9 10.9 11.9 12.9 13.9 14.9 15.9 16.9 17.9] [ 1.          2.9602      6.68769288 13.35607222 23.91300663 37.02548178\n",
      " 47.16690516 50.34107676 50.4976966 ]\n"
     ]
    },
    {
     "data": {
      "image/png": "[encoded data removed]",
      "text/plain": [
       "<Figure size 432x288 with 1 Axes>"
      ]
     },
     "metadata": {
      "needs_background": "light"
     },
     "output_type": "display_data"
    }
   ],
   "source": [
    "# Constants \n",
    "r = 0.2 # intrinsic growth rate\n",
    "K = 100 # carrying capacity/unfished biomass\n",
    "x0 = 1 #initial value\n",
    "n = 10 # note this should be (b - x0)/h so h = (b - x0)/n\n",
    "#initialize values\n",
    "x = np.zeros(n)  # vector of zeroes\n",
    "t = np.zeros(n)\n",
    "x[0] = x0 # pass initial value to vector\n",
    "t[0] = 1\n",
    "b = 100 # upper bound on the interval for x\n",
    "\n",
    "h = (b - x0)/n\n",
    "\n",
    "for i in range(0,n-1):\n",
    "     t[i] = i + h #tiemstep + or * can be used\n",
    "     x[i+1] = x0 + h*(r*x[i]*(1-x[i]/K))\n",
    "print(t[0:n - 1],x[0:n - 1]) #print values\n",
    "plt.plot(t[0:n - 1],x[0:n - 1])\n",
    "plt.title('Continuous-time dynamics')\n",
    "plt.show()"
   ]
  },
  {
   "cell_type": "markdown",
   "metadata": {
    "slideshow": {
     "slide_type": "slide"
    }
   },
   "source": [
    "## Analytical solution\n",
    "\n",
    "\n",
    "We can solve $\\frac{dx}{dt} = r x(t)(1-\\frac{x(t)}{K})$exactly without using numbers, we will use the Python SymPy module to do this.\n",
    "\n",
    "We first define an unknown function for the stock $x(t)$ let's call this $f$ (for fish or for function, \n",
    "so as not to confuse it with $x$ above or further below) as a function of time that we wish to solve for.\n",
    "\n",
    "We will make us of symbolic algebra (math with symbols) rahtner than numerical mathematics (math with numbers) to do our analysis."
   ]
  },
  {
   "cell_type": "code",
   "execution_count": 7,
   "metadata": {
    "slideshow": {
     "slide_type": "subslide"
    }
   },
   "outputs": [
    {
     "data": {
      "text/latex": [
       "$\\displaystyle \\frac{d}{d t} f{\\left(t \\right)} = r \\left(1 - \\frac{f{\\left(t \\right)}}{K}\\right) f{\\left(t \\right)}$"
      ],
      "text/plain": [
       "Eq(Derivative(f(t), t), r*(1 - f(t)/K)*f(t))"
      ]
     },
     "execution_count": 7,
     "metadata": {},
     "output_type": "execute_result"
    }
   ],
   "source": [
    "f, t, r, K = symbols('f t r K') #first define symbols\n",
    "f = Function('f') #defien the symbol f as a function\n",
    "ode = Eq(diff(f(t), t), r*f(t)*(1 - f(t)/K)) # ode = ordinary differential equation, define our growth equation\n",
    "ode"
   ]
  },
  {
   "cell_type": "code",
   "execution_count": 8,
   "metadata": {
    "slideshow": {
     "slide_type": "subslide"
    }
   },
   "outputs": [
    {
     "data": {
      "text/latex": [
       "$\\displaystyle f{\\left(t \\right)} = \\frac{K e^{C_{1} K + r t}}{e^{C_{1} K + r t} - 1}$"
      ],
      "text/plain": [
       "Eq(f(t), K*exp(C1*K + r*t)/(exp(C1*K + r*t) - 1))"
      ]
     },
     "execution_count": 8,
     "metadata": {},
     "output_type": "execute_result"
    }
   ],
   "source": [
    "sol = dsolve(ode, f(t))  # solve the equation\n",
    "sol"
   ]
  },
  {
   "cell_type": "markdown",
   "metadata": {
    "slideshow": {
     "slide_type": "subslide"
    }
   },
   "source": [
    "This is the solution! It gives us a formula for the stock of fish $f(t) = x(t)$ at every point in time. to calculate the stock at a point in time subsitute in the time $t$, the growth rate of the stock and the carrying capcity $K$.\n",
    "We will see later that the carrying capacity of the stock $K$ is jus tthe unfished biomass in steady-state (when the stock is constant through time). \n",
    "\n",
    "To calculate the stock (quantity of fish) we also need to know $C_1$. How do we find this number?\n"
   ]
  },
  {
   "cell_type": "markdown",
   "metadata": {
    "slideshow": {
     "slide_type": "subslide"
    }
   },
   "source": [
    "To find $C_1$ set $f(t) = x(0) = x0$ and $t= 0$ and solve for $C_1$\n"
   ]
  },
  {
   "cell_type": "code",
   "execution_count": 9,
   "metadata": {
    "slideshow": {
     "slide_type": "subslide"
    }
   },
   "outputs": [
    {
     "data": {
      "text/latex": [
       "$\\displaystyle \\frac{K e^{C_{1} K}}{e^{C_{1} K} - 1} = x_{0}$"
      ],
      "text/plain": [
       "Eq(K*exp(C1*K)/(exp(C1*K) - 1), x0)"
      ]
     },
     "execution_count": 9,
     "metadata": {},
     "output_type": "execute_result"
    }
   ],
   "source": [
    "t = Symbol('t')\n",
    "x0 = Symbol('x0')\n",
    "eq1 = Eq(sol.rhs.subs(t,0),x0) \n",
    "eq1"
   ]
  },
  {
   "cell_type": "markdown",
   "metadata": {
    "slideshow": {
     "slide_type": "subslide"
    }
   },
   "source": [
    "Define things that have not yet been defined as symbols"
   ]
  },
  {
   "cell_type": "code",
   "execution_count": 10,
   "metadata": {
    "slideshow": {
     "slide_type": "subslide"
    }
   },
   "outputs": [
    {
     "data": {
      "text/plain": [
       "[log(x0/(-K + x0))/K]"
      ]
     },
     "execution_count": 10,
     "metadata": {},
     "output_type": "execute_result"
    }
   ],
   "source": [
    "C1 = symbols('C1')\n",
    "C2 = solve(eq1,C1)\n",
    "C2"
   ]
  },
  {
   "cell_type": "markdown",
   "metadata": {
    "slideshow": {
     "slide_type": "subslide"
    }
   },
   "source": [
    "Now substitute the unknow terms"
   ]
  },
  {
   "cell_type": "code",
   "execution_count": 11,
   "metadata": {
    "slideshow": {
     "slide_type": "subslide"
    }
   },
   "outputs": [
    {
     "data": {
      "text/latex": [
       "$\\displaystyle x(t) = \\frac{K x_{0} e^{r t}}{K + x_{0} e^{r t} - x_{0}}$"
      ],
      "text/plain": [
       "Eq(x(t), K*x0*exp(r*t)/(K + x0*exp(r*t) - x0))"
      ]
     },
     "execution_count": 11,
     "metadata": {},
     "output_type": "execute_result"
    }
   ],
   "source": [
    "x = Symbol('x(t)')\n",
    "eq3 = Eq(sol.rhs.subs(C1,C2),x)\n",
    "logequation = simplify(eq3.subs({Symbol('C1'): C2[0]}) ) #substitute C! and simplify\n",
    "logequation"
   ]
  },
  {
   "cell_type": "markdown",
   "metadata": {
    "slideshow": {
     "slide_type": "subslide"
    }
   },
   "source": [
    "On the right hand-side we see only things we know, and on the left hand-side the stock at time $t$ whcih was unknown but after solving the equation is now known."
   ]
  }
 ],
 "metadata": {
  "celltoolbar": "Slideshow",
  "kernelspec": {
   "display_name": "Python 3",
   "language": "python",
   "name": "python3"
  },
  "language_info": {
   "codemirror_mode": {
    "name": "ipython",
    "version": 3
   },
   "file_extension": ".py",
   "mimetype": "text/x-python",
   "name": "python",
   "nbconvert_exporter": "python",
   "pygments_lexer": "ipython3",
   "version": "3.8.3"
  }
 },
 "nbformat": 4,
 "nbformat_minor": 4
}
