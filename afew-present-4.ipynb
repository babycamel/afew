{
 "cells": [
  {
   "cell_type": "markdown",
   "metadata": {},
   "source": [
    "# Bio-economic modelling"
   ]
  },
  {
   "cell_type": "code",
   "execution_count": 7,
   "metadata": {},
   "outputs": [],
   "source": [
    "import handcalcs.render\n",
    "import math as math\n",
    "from sympy import * #symbolic algebra package\n",
    "import numpy as np #numerical python packagee\n",
    "import matplotlib.pyplot as plt #matplotlib is a plotting package\n",
    "%matplotlib inline  \n",
    "# without this plots are popouts"
   ]
  },
  {
   "cell_type": "markdown",
   "metadata": {},
   "source": [
    "## Add fishing\n",
    "\n",
    "Use the following catch equation to modify the computer code above to incorporate fishing into our model:\n",
    "\n",
    "$Y = q X E$\n",
    "\n",
    "where$$Y$$is catch, $$q$$ is the catchability and $$X$$ is the stock and $$E$$ fishing effort.\n",
    "\n",
    "Produce a graph and vary fishing effort to see how the graph changes. Assume fishing effort is some cosntant.\n"
   ]
  },
  {
   "cell_type": "markdown",
   "metadata": {},
   "source": [
    "The following is a discrete time model of stock dynamics with constant effort."
   ]
  },
  {
   "cell_type": "code",
   "execution_count": 8,
   "metadata": {
    "scrolled": true
   },
   "outputs": [
    {
     "name": "stdout",
     "output_type": "stream",
     "text": [
      "8 [ 1.          1.99        3.940399    7.72553056 14.85422289 27.5019664\n",
      " 47.44035125 72.37483323 92.36850161 99.41760232]\n"
     ]
    }
   ],
   "source": [
    "# Constants \n",
    "r = 1 # intrinsic growth rate\n",
    "K = 100 # carrying capacity/unfished biomass\n",
    "q = 0.01 #catchability\n",
    "x0 = 1 #initial value\n",
    "#initialize values\n",
    "x = np.zeros(10)  # vector of zeroes\n",
    "E = np.zeros(10)\n",
    "\n",
    "x[0] = x0 # pass initial value to vector\n",
    "\n",
    "for i in range(0,len(x)-1):\n",
    "     E[i] = 0.0000\n",
    "     x[i+1] = x[i] + r*x[i]*(1-x[i]/K) # - q*x[i]*E[i]\n",
    "print(i,x) \n"
   ]
  },
  {
   "cell_type": "code",
   "execution_count": 10,
   "metadata": {},
   "outputs": [
    {
     "data": {
      "text/plain": [
       "[<matplotlib.lines.Line2D at 0x7fe0cbd4d9a0>]"
      ]
     },
     "execution_count": 10,
     "metadata": {},
     "output_type": "execute_result"
    },
    {
     "data": {
      "image/png": "[encoded data removed]",
      "text/plain": [
       "<Figure size 432x288 with 1 Axes>"
      ]
     },
     "metadata": {
      "needs_background": "light"
     },
     "output_type": "display_data"
    }
   ],
   "source": [
    "plt.plot(x)"
   ]
  },
  {
   "cell_type": "code",
   "execution_count": null,
   "metadata": {},
   "outputs": [],
   "source": []
  }
 ],
 "metadata": {
  "kernelspec": {
   "display_name": "Python 3",
   "language": "python",
   "name": "python3"
  },
  "language_info": {
   "codemirror_mode": {
    "name": "ipython",
    "version": 3
   },
   "file_extension": ".py",
   "mimetype": "text/x-python",
   "name": "python",
   "nbconvert_exporter": "python",
   "pygments_lexer": "ipython3",
   "version": "3.8.3"
  }
 },
 "nbformat": 4,
 "nbformat_minor": 4
}
