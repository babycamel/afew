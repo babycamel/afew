{
 "cells": [
  {
   "cell_type": "markdown",
   "metadata": {},
   "source": [
    "# Bio-economic modelling"
   ]
  },
  {
   "cell_type": "code",
   "execution_count": 71,
   "metadata": {},
   "outputs": [],
   "source": [
    "import handcalcs.render\n",
    "import math as math\n",
    "from sympy import * #symbolic algebra package\n",
    "import numpy as np #numerical python packagee\n",
    "import matplotlib.pyplot as plt #matplotlib is a plotting package\n",
    "%matplotlib inline  \n",
    "# without this plots are popouts"
   ]
  },
  {
   "cell_type": "markdown",
   "metadata": {},
   "source": [
    "## Add fishing\n",
    "\n",
    "Use the following catch equation to modify the computer code above to incorporate fishing into our model:\n",
    "\n",
    "$Y = q X E$\n",
    "\n",
    "where$$Y$$is catch, $$q$$ is the catchability and $$X$$ is the stock and $$E$$ fishing effort.\n",
    "\n",
    "Produce a graph and vary fishing effort to see how the graph changes. Assume fishing effort is some cosntant.\n"
   ]
  },
  {
   "cell_type": "markdown",
   "metadata": {},
   "source": [
    "The following is a discrete time model of stock dynamics with constant effort."
   ]
  },
  {
   "cell_type": "code",
   "execution_count": 72,
   "metadata": {
    "scrolled": true
   },
   "outputs": [
    {
     "name": "stdout",
     "output_type": "stream",
     "text": [
      "8 [ 1.          1.99        3.940399    7.72553056 14.85422289 27.5019664\n",
      " 47.44035125 72.37483323 92.36850161 99.41760232]\n"
     ]
    }
   ],
   "source": [
    "# Constants \n",
    "r = 1 # intrinsic growth rate\n",
    "K = 100 # carrying capacity/unfished biomass\n",
    "q = 0.01 #catchability\n",
    "x0 = 1 #initial value\n",
    "#initialize values\n",
    "x = np.zeros(10)  # vector of zeroes\n",
    "E = np.zeros(10)\n",
    "\n",
    "x[0] = x0 # pass initial value to vector\n",
    "\n",
    "for i in range(0,len(x)-1):\n",
    "     E[i] = 0.0000\n",
    "     x[i+1] = x[i] + r*x[i]*(1-x[i]/K) # - q*x[i]*E[i]\n",
    "print(i,x) "
   ]
  },
  {
   "cell_type": "code",
   "execution_count": 73,
   "metadata": {},
   "outputs": [
    {
     "data": {
      "text/plain": [
       "[<matplotlib.lines.Line2D at 0x7fe5f483aeb0>]"
      ]
     },
     "execution_count": 73,
     "metadata": {},
     "output_type": "execute_result"
    },
    {
     "data": {
      "image/png": "[encoded data removed]",
      "text/plain": [
       "<Figure size 432x288 with 1 Axes>"
      ]
     },
     "metadata": {
      "needs_background": "light"
     },
     "output_type": "display_data"
    }
   ],
   "source": [
    "plt.plot(x)"
   ]
  },
  {
   "cell_type": "markdown",
   "metadata": {},
   "source": [
    "## Exercise\n",
    "\n",
    "Try varing the constant effort level to see what happens (Note: This was one of the exercises in the Introductory National and Regional Fisheries Economcis Workshops - so the computer code here is basically what I wrote at the backend of that exercise the only difference really is there I wrote it in R and here in Python and there we used a slide to vary effort)\n",
    "\n",
    "\n",
    "\n"
   ]
  },
  {
   "cell_type": "markdown",
   "metadata": {},
   "source": [
    "## Economics"
   ]
  },
  {
   "cell_type": "code",
   "execution_count": 74,
   "metadata": {
    "scrolled": false
   },
   "outputs": [
    {
     "name": "stdout",
     "output_type": "stream",
     "text": [
      "[ 0.  1.  2.  3.  4.  5.  6.  7.  8.  9. 10. 11. 12. 13. 14. 15. 16. 17.\n",
      " 18.  0.] [  1.           2.385        5.64197985  13.08946255  29.00294423\n",
      "  57.80167238  91.89174542 102.23099699  98.93568734 100.31093072\n",
      "  99.77396329  99.98992542  99.90403848  99.93835165  99.92466778\n",
      "  99.93012877  99.92795002  99.92881937  99.9284725   99.9286109 ]\n",
      "[ 0.  1.  2.  3.  4.  5.  6.  7.  8.  9. 10. 11. 12. 13. 14. 15. 16. 17.\n",
      " 18.  0.] [ 0.8         1.98636364  4.49750401  9.68404399 19.67279847 35.76610662\n",
      " 51.75759989 52.35803442 46.06092683 42.45680729 38.39007335 34.97576009\n",
      " 31.76877931 28.89064777 26.26062185 23.87459991 21.70370758 19.73081525\n",
      " 17.93704238  0.        ]\n",
      "NPV: 508.5722326408433\n"
     ]
    }
   ],
   "source": [
    "# Constants \n",
    "r = 1.4 # intrinsic growth rate\n",
    "K = 100 # carrying capacity/unfished biomass\n",
    "q = 0.01 #catchability\n",
    "p = 1000 #price\n",
    "c  = 2 # cost of fishing\n",
    "d  = 0.1\n",
    "x0 = 1 #initial value\n",
    "n = 20 #time horizon\n",
    "#initialize values\n",
    "x = np.zeros(n)  # vector of zeroes\n",
    "E = np.zeros(n)\n",
    "t = np.zeros(n)\n",
    "profit = np.zeros(n)\n",
    "x[0] = x0 # pass initial value to vector\n",
    "\n",
    "for i in range(0,len(x)-1):\n",
    "     E[i] = 0.1\n",
    "     x[i+1] = x[i] + r*x[i]*(1-x[i]/K) - q*x[i]*E[i]\n",
    "     t[i] = i\n",
    "     profit[i] = (p*q*x[i]*E[i] - c*E[i])*(1/(1 + d)**t[i]) # revenue  minus costs   \n",
    "print(t,x) \n",
    "print(t,profit)\n",
    "print(\"NPV:\",sum(profit))"
   ]
  },
  {
   "cell_type": "code",
   "execution_count": null,
   "metadata": {},
   "outputs": [],
   "source": []
  },
  {
   "cell_type": "code",
   "execution_count": 75,
   "metadata": {
    "scrolled": true
   },
   "outputs": [
    {
     "data": {
      "text/plain": [
       "Text(0.5, 0, 'Time')"
      ]
     },
     "execution_count": 75,
     "metadata": {},
     "output_type": "execute_result"
    },
    {
     "data": {
      "image/png": "[encoded data removed]",
      "text/plain": [
       "<Figure size 432x288 with 1 Axes>"
      ]
     },
     "metadata": {
      "needs_background": "light"
     },
     "output_type": "display_data"
    }
   ],
   "source": [
    "\n",
    "\n",
    "plt.plot(t[0:n - 1],x[0:n - 1])\n",
    "plt.plot(t[0:n - 1],profit[0:n - 1])\n",
    "plt.ylabel(\"$,x\")\n",
    "plt.xlabel(\"Time\")\n",
    "plt.legend(,(\"Stock\",\"Profit\"))"
   ]
  },
  {
   "cell_type": "markdown",
   "metadata": {},
   "source": [
    "# Net Present Value\n",
    "\n",
    "The stream of values represented by the orange curve is discounted back to the beginning of time $(t = 0)$. \n",
    "If we add these up we get the Net Present Value:\n",
    "\n",
    "$$NPV = \\sum_{i=0}^T \\frac{1}{(1 + d)^t} Profit_i $$\n",
    "\n",
    "where $d$ is the discount rate. Don't confuse discount rate and discount factor. the discount factor $\\delta$ is\n",
    "\n",
    "$$\\delta = \\frac{1}{1+d}$$.\n",
    "\n"
   ]
  },
  {
   "cell_type": "code",
   "execution_count": 76,
   "metadata": {},
   "outputs": [
    {
     "name": "stdout",
     "output_type": "stream",
     "text": [
      "NPV: 508.5722326408433\n"
     ]
    }
   ],
   "source": [
    "print(\"NPV:\",sum(profit))"
   ]
  },
  {
   "cell_type": "markdown",
   "metadata": {},
   "source": [
    "# Observations\n",
    "\n",
    "- Observe what happens when you vary prices, costs, and discount rate\n",
    "\n",
    "- Can you explain these effcts (Let's have a discussion discussion )?"
   ]
  }
 ],
 "metadata": {
  "kernelspec": {
   "display_name": "Python 3",
   "language": "python",
   "name": "python3"
  },
  "language_info": {
   "codemirror_mode": {
    "name": "ipython",
    "version": 3
   },
   "file_extension": ".py",
   "mimetype": "text/x-python",
   "name": "python",
   "nbconvert_exporter": "python",
   "pygments_lexer": "ipython3",
   "version": "3.8.3"
  }
 },
 "nbformat": 4,
 "nbformat_minor": 4
}
