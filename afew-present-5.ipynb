{
 "cells": [
  {
   "cell_type": "markdown",
   "metadata": {
    "slideshow": {
     "slide_type": "fragment"
    }
   },
   "source": [
    "# Advanced Fisheries Economics Workshop"
   ]
  },
  {
   "cell_type": "markdown",
   "metadata": {
    "slideshow": {
     "slide_type": "slide"
    }
   },
   "source": [
    "## Bio-economic modelling: the open-access fisheries model\n",
    "### Long-run or static model\n",
    "\n",
    "\n",
    "We will start with the Gordon-Schaefer fisheries model.\n",
    "\n",
    "The stock grows according the following equation:\n",
    "\n",
    "$$\\frac{dx(t)}{dt} = rx(t)(1-\\frac{x(t)}{K}) - Y(x(t),E(t))$$\n",
    "\n",
    "where $Y(x,E)$ is the yiled , catch or havest as a finction of the stock and total fishing effort.\n",
    "\n",
    "\n",
    "\n",
    "\n"
   ]
  },
  {
   "cell_type": "markdown",
   "metadata": {
    "slideshow": {
     "slide_type": "subslide"
    }
   },
   "source": [
    "The dynamics can also be given in discrete-time we will see that in this model it doesn't matter whether time is discrete or continuous. However, this is not always the case.\n",
    "\n",
    "In dscrete-time the stock grows according to\n",
    "\n",
    "$$X_{t+1} - X_t = r X_t (1 - \\frac{X_t}{K} - Y(X_t,E_t))$$\n",
    "\n",
    "Let's assume $Y(X,E) = q X E$\n"
   ]
  },
  {
   "cell_type": "markdown",
   "metadata": {
    "slideshow": {
     "slide_type": "slide"
    }
   },
   "source": [
    "## Steady -State and sustainability\n",
    "\n",
    "\n",
    "In steady-state either $\\frac{dx}{dt} = 0$ or $X_{t+1} - X_t = 0$. In steady-state we can ignore any subscripts for time or indices because the solution will be independent of time.\n",
    "\n",
    "In steady-state the stock is unchanging so we can interet the steady-state as being a situation where the fishery is sustainable in the strong sense.\n",
    "\n",
    "\n",
    "\n"
   ]
  },
  {
   "cell_type": "markdown",
   "metadata": {
    "slideshow": {
     "slide_type": "subslide"
    }
   },
   "source": [
    "In steady-state:\n",
    "\n",
    "$$r X (1- \\frac{X}{K}) - q X E = 0$$\n",
    "\n",
    "Let's use SymPy to solve this for $X$.\n"
   ]
  },
  {
   "cell_type": "code",
   "execution_count": 112,
   "metadata": {
    "slideshow": {
     "slide_type": "fragment"
    }
   },
   "outputs": [],
   "source": [
    "from sympy import *"
   ]
  },
  {
   "cell_type": "code",
   "execution_count": 113,
   "metadata": {
    "slideshow": {
     "slide_type": "subslide"
    }
   },
   "outputs": [],
   "source": [
    " r, X, K, q, E = symbols('r X K q E')\n",
    "    \n",
    "eqn = r*X*(1- X/K) - q*X*E "
   ]
  },
  {
   "cell_type": "code",
   "execution_count": 114,
   "metadata": {
    "slideshow": {
     "slide_type": "subslide"
    }
   },
   "outputs": [
    {
     "data": {
      "text/plain": [
       "[0, -E*K*q/r + K]"
      ]
     },
     "execution_count": 114,
     "metadata": {},
     "output_type": "execute_result"
    }
   ],
   "source": [
    "sol = solve(eqn, X)\n",
    "sol #finds all solutions There are two."
   ]
  },
  {
   "cell_type": "code",
   "execution_count": 115,
   "metadata": {
    "slideshow": {
     "slide_type": "subslide"
    }
   },
   "outputs": [
    {
     "name": "stdout",
     "output_type": "stream",
     "text": [
      "X: K*(-E*q + r)/r\n"
     ]
    }
   ],
   "source": [
    "print('X:',simplify(sol[1])) # provides the non-trivial solution sol[1] selects the second solution sol[0] \n",
    "# the first, try it!"
   ]
  },
  {
   "cell_type": "markdown",
   "metadata": {
    "slideshow": {
     "slide_type": "slide"
    }
   },
   "source": [
    "## Rent\n",
    "\n",
    "\n",
    "$$\\Pi = p q X(E) E = c E$$\n",
    "\n",
    "where\n",
    "\n",
    "- $p$ is the ex-vessel price of fish\n",
    "- $q$ is the catchability of fish\n",
    "- $X(E)$ The stock as a fiunction of toal fishing effort, we just derived this aboe\n",
    "- $E$ total fishing effort\n",
    "- $c$ the cost of fishing per unit of effort\n",
    "\n",
    "the next step is to subnstitute the stock $X(E)$ into the rent equation\n",
    "\n"
   ]
  },
  {
   "cell_type": "code",
   "execution_count": 116,
   "metadata": {
    "slideshow": {
     "slide_type": "subslide"
    }
   },
   "outputs": [
    {
     "data": {
      "text/latex": [
       "$\\displaystyle - \\frac{E \\left(K p q \\left(E q - r\\right) + c r\\right)}{r}$"
      ],
      "text/plain": [
       "-E*(K*p*q*(E*q - r) + c*r)/r"
      ]
     },
     "execution_count": 116,
     "metadata": {},
     "output_type": "execute_result"
    }
   ],
   "source": [
    "p, q, c = symbols('p q c')\n",
    "rent = p*q*X*E - c*E\n",
    "simplify(rent.subs(X,sol[1]))"
   ]
  },
  {
   "cell_type": "markdown",
   "metadata": {
    "slideshow": {
     "slide_type": "subslide"
    }
   },
   "source": [
    "This the total rent as a function of $E$ which is a variable and the rest are cosntants. \n",
    "\n",
    "We can also calculate the yield or catch separately"
   ]
  },
  {
   "cell_type": "code",
   "execution_count": 117,
   "metadata": {
    "scrolled": false,
    "slideshow": {
     "slide_type": "subslide"
    }
   },
   "outputs": [
    {
     "data": {
      "text/latex": [
       "$\\displaystyle E q \\left(- \\frac{E K q}{r} + K\\right)$"
      ],
      "text/plain": [
       "E*q*(-E*K*q/r + K)"
      ]
     },
     "execution_count": 117,
     "metadata": {},
     "output_type": "execute_result"
    }
   ],
   "source": [
    "\n",
    "Y = q*X*E\n",
    "Y = Y.subs(X,sol[1]) #normally this is a bad idea\n",
    "Yss = Y.subs(E,Emsy)\n",
    "Yss #sustainable yield"
   ]
  },
  {
   "cell_type": "markdown",
   "metadata": {
    "slideshow": {
     "slide_type": "fragment"
    }
   },
   "source": [
    "Let's plot this against total effort $E$"
   ]
  },
  {
   "cell_type": "code",
   "execution_count": 118,
   "metadata": {
    "scrolled": false,
    "slideshow": {
     "slide_type": "subslide"
    }
   },
   "outputs": [
    {
     "data": {
      "image/png": "[encoded data removed]",
      "text/plain": [
       "<Figure size 432x288 with 1 Axes>"
      ]
     },
     "metadata": {
      "needs_background": "light"
     },
     "output_type": "display_data"
    },
    {
     "data": {
      "text/plain": [
       "<sympy.plotting.plot.Plot at 0x7ffc07d62700>"
      ]
     },
     "execution_count": 118,
     "metadata": {},
     "output_type": "execute_result"
    }
   ],
   "source": [
    "from sympy.plotting import plot\n",
    "\n",
    "plot(E*0.01*(1 - E*1*0.01/2),(E, 0, 200),show='TRUE')  #you need to choose some values for K,q,r"
   ]
  },
  {
   "cell_type": "markdown",
   "metadata": {
    "slideshow": {
     "slide_type": "subslide"
    }
   },
   "source": [
    "We want to find the maximum of the sustaiable yield curve. Because maximum sustaiable yield has often been used as a goal for fisheries management. As economiststs we wish to know whether it isa good goal or whether we can do better."
   ]
  },
  {
   "cell_type": "code",
   "execution_count": 119,
   "metadata": {
    "slideshow": {
     "slide_type": "subslide"
    }
   },
   "outputs": [
    {
     "data": {
      "text/latex": [
       "$\\displaystyle \\frac{r}{2 q}$"
      ],
      "text/plain": [
       "r/(2*q)"
      ]
     },
     "execution_count": 119,
     "metadata": {},
     "output_type": "execute_result"
    }
   ],
   "source": [
    "focY = diff(Y,E)\n",
    "Emsy = solve(diff(Y,E),E)\n",
    "Emsy[0]"
   ]
  },
  {
   "cell_type": "code",
   "execution_count": 120,
   "metadata": {},
   "outputs": [],
   "source": [
    "MSY  = Y.subs(E,Emsy[0])\n",
    "#q*sol[1].subs(E,Emsy)"
   ]
  },
  {
   "cell_type": "markdown",
   "metadata": {
    "slideshow": {
     "slide_type": "slide"
    }
   },
   "source": [
    "## At what level of stocks is sustainable yield maximized?\n"
   ]
  },
  {
   "cell_type": "code",
   "execution_count": 121,
   "metadata": {
    "slideshow": {
     "slide_type": "subslide"
    }
   },
   "outputs": [
    {
     "data": {
      "text/latex": [
       "$\\displaystyle \\frac{K}{2}$"
      ],
      "text/plain": [
       "K/2"
      ]
     },
     "execution_count": 121,
     "metadata": {},
     "output_type": "execute_result"
    }
   ],
   "source": [
    "sol[1].subs(E,Emsy[0]) # This repalces $ in the equation X(E) with Emsy"
   ]
  },
  {
   "cell_type": "markdown",
   "metadata": {
    "slideshow": {
     "slide_type": "subslide"
    }
   },
   "source": [
    "This is an interesting result. why? Firstly, we have assumed a steady-state and we know that if no fishing \n",
    "were occurring then in steady-state the stock $X = K$. So the stock level that would result in steady-state would be $50\\%$ of unfished biomass.This is interesting us is gives us a basis for understanding debates concerning target refernce points in the region. Are they close to the maximum economic yield leve of stock. "
   ]
  },
  {
   "cell_type": "markdown",
   "metadata": {
    "slideshow": {
     "slide_type": "slide"
    }
   },
   "source": [
    "So what we have done is \n",
    "\n",
    "- assume a steady-state (sustainability)\n",
    "\n",
    "- solve for the level of stock in steady-state as a function of foishing effort \n",
    "\n",
    "- we have maximized yield by varying total fishing effort to find the effort level that maiximizes yield $E_{MSY}$.\n",
    "\n",
    "- We then susbitute this into the yield/catch equation to find the maximum sustainable yield $MSY$\n",
    "\n",
    "- The results do not depend on data but they do depend on the model assumptions (logistic growth of the stock and the multiplicative catch equation, the catch per unit effort fisheries production function). \n",
    "\n",
    "\n"
   ]
  },
  {
   "cell_type": "markdown",
   "metadata": {
    "slideshow": {
     "slide_type": "slide"
    }
   },
   "source": [
    "## Rent maximization\n",
    "\n",
    "\n",
    "So we wish to maximize the rent\n",
    "\n",
    "$$\\Pi (E) = p q X(E) E - c E$$\n",
    "\n",
    "by varying totl fishing effort.\n",
    "\n",
    "the key question is how much fishing effort gives the greatest economic return? We already know that this is a quadratic equation because the sustainable yield equation is quadratic, so a maximum exists.\n",
    "\n",
    "Let's first do this graphically.\n",
    "\n"
   ]
  },
  {
   "cell_type": "code",
   "execution_count": 122,
   "metadata": {},
   "outputs": [
    {
     "name": "stdout",
     "output_type": "stream",
     "text": [
      "E*p*q*(-E*K*q/r + K)\n"
     ]
    }
   ],
   "source": [
    "revenue = p*Yss\n",
    "print(revenue)\n",
    "revenuess = revenue.subs({p:1000,K:1,q:0.01,r:1.2})"
   ]
  },
  {
   "cell_type": "code",
   "execution_count": 123,
   "metadata": {
    "scrolled": true
   },
   "outputs": [
    {
     "data": {
      "image/png": "[encoded data removed]",
      "text/plain": [
       "<Figure size 432x288 with 1 Axes>"
      ]
     },
     "metadata": {
      "needs_background": "light"
     },
     "output_type": "display_data"
    },
    {
     "data": {
      "text/plain": [
       "<sympy.plotting.plot.Plot at 0x7ffc07f465e0>"
      ]
     },
     "execution_count": 123,
     "metadata": {},
     "output_type": "execute_result"
    }
   ],
   "source": [
    "plot(revenuess,(E,0,120))"
   ]
  },
  {
   "cell_type": "markdown",
   "metadata": {
    "slideshow": {
     "slide_type": "subslide"
    }
   },
   "source": [
    "Let's add the total costs $c E$."
   ]
  },
  {
   "cell_type": "code",
   "execution_count": 124,
   "metadata": {
    "scrolled": true
   },
   "outputs": [
    {
     "data": {
      "image/png": "[encoded data removed]",
      "text/plain": [
       "<Figure size 432x288 with 1 Axes>"
      ]
     },
     "metadata": {
      "needs_background": "light"
     },
     "output_type": "display_data"
    },
    {
     "data": {
      "text/plain": [
       "<sympy.plotting.plot.Plot at 0x7ffc07f4e700>"
      ]
     },
     "execution_count": 124,
     "metadata": {},
     "output_type": "execute_result"
    }
   ],
   "source": [
    "\n",
    "plot(revenuess,1*E,(E,0,120))"
   ]
  },
  {
   "cell_type": "code",
   "execution_count": 125,
   "metadata": {
    "slideshow": {
     "slide_type": "subslide"
    }
   },
   "outputs": [
    {
     "data": {
      "text/latex": [
       "$\\displaystyle - E c + E p q \\left(- \\frac{E K q}{r} + K\\right)$"
      ],
      "text/plain": [
       "-E*c + E*p*q*(-E*K*q/r + K)"
      ]
     },
     "execution_count": 125,
     "metadata": {},
     "output_type": "execute_result"
    }
   ],
   "source": [
    "rentss = rent.subs(X,sol[1]) # Rent is given by this (don't worry about the order of things.\n",
    "# You can check it is correct by comparing with the previous slide. This is the steady-state rent\n",
    "rentss"
   ]
  },
  {
   "cell_type": "code",
   "execution_count": 126,
   "metadata": {
    "slideshow": {
     "slide_type": "subslide"
    }
   },
   "outputs": [
    {
     "data": {
      "text/latex": [
       "$\\displaystyle - \\frac{E K p q^{2}}{r} - c + p q \\left(- \\frac{E K q}{r} + K\\right)$"
      ],
      "text/plain": [
       "-E*K*p*q**2/r - c + p*q*(-E*K*q/r + K)"
      ]
     },
     "execution_count": 126,
     "metadata": {},
     "output_type": "execute_result"
    }
   ],
   "source": [
    "focrent = diff(rentss,E)\n",
    "focrent"
   ]
  },
  {
   "cell_type": "code",
   "execution_count": 127,
   "metadata": {
    "slideshow": {
     "slide_type": "subslide"
    }
   },
   "outputs": [
    {
     "data": {
      "text/latex": [
       "$\\displaystyle \\frac{r}{q} - \\frac{c r}{K p q^{2}}$"
      ],
      "text/plain": [
       "r/q - c*r/(K*p*q**2)"
      ]
     },
     "execution_count": 127,
     "metadata": {},
     "output_type": "execute_result"
    }
   ],
   "source": [
    "Emey = solve(rentss,E)\n",
    "simplify(Emey[1])"
   ]
  },
  {
   "cell_type": "markdown",
   "metadata": {
    "slideshow": {
     "slide_type": "slide"
    }
   },
   "source": [
    "so what did we do?\n",
    "\n",
    "\n",
    "- We first defined rent mathematically\n",
    "\n",
    "- We then plotted revenue and costs\n",
    "\n",
    "- we then maximized total rent by varying total effort $E$ to find $E_{MEY}$.\n",
    "\n",
    "- we have done this without using any data.\n",
    "\n",
    "- For this to be useful we need to some values for  $r,q,c,p,K$\n",
    "\n",
    "- We know the ex-vessel price more or less, or can at least estimate it from the market price or import prices\n",
    "\n",
    "- $c$ is typically hard to obtain. There are a couple of options: 1) survey vessel operators, 2) calculate it from other data and published research reports.\n",
    "\n",
    "- $r,q,K$ are biological parameters that need to be estimated from catch and effort data (SPC provides us with this data). This comes from log-book data verified by observers.\n",
    "\n"
   ]
  },
  {
   "cell_type": "code",
   "execution_count": null,
   "metadata": {},
   "outputs": [],
   "source": []
  }
 ],
 "metadata": {
  "celltoolbar": "Slideshow",
  "kernelspec": {
   "display_name": "Python 3",
   "language": "python",
   "name": "python3"
  },
  "language_info": {
   "codemirror_mode": {
    "name": "ipython",
    "version": 3
   },
   "file_extension": ".py",
   "mimetype": "text/x-python",
   "name": "python",
   "nbconvert_exporter": "python",
   "pygments_lexer": "ipython3",
   "version": "3.8.3"
  }
 },
 "nbformat": 4,
 "nbformat_minor": 4
}
