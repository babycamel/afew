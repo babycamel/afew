{
 "cells": [
  {
   "cell_type": "markdown",
   "metadata": {
    "slideshow": {
     "slide_type": "fragment"
    }
   },
   "source": [
    "# Advanced Fisheries Economics Workshop"
   ]
  },
  {
   "cell_type": "markdown",
   "metadata": {
    "slideshow": {
     "slide_type": "slide"
    }
   },
   "source": [
    "## Bio-economic modelling: the open-access fisheries model\n",
    "### Long-run or static model\n",
    "\n",
    "\n",
    "We will start with the Gordon-Schaefer fisheries model.\n",
    "\n",
    "The stock grows according the following equation:\n",
    "\n",
    "$$\\frac{dx(t)}{dt} = rx(t)(1-\\frac{x(t)}{K}) - Y(x(t),E(t))$$\n",
    "\n",
    "where $Y(x,E)$ is the yiled , catch or havest as a finction of the stock and total fishing effort.\n",
    "\n",
    "\n",
    "\n",
    "\n"
   ]
  },
  {
   "cell_type": "markdown",
   "metadata": {
    "slideshow": {
     "slide_type": "subslide"
    }
   },
   "source": [
    "The dynamics can also be given in discrete-time we will see that in this model it doesn't matter whether time is discrete or continuous. However, this is not always the case.\n",
    "\n",
    "In dscrete-time the stock grows according to\n",
    "\n",
    "$$X_{t+1} - X_t = r X_t (1 - \\frac{X_t}{K} - Y(X_t,E_t))$$\n",
    "\n",
    "Let's assume $Y(X,E) = q X E$\n"
   ]
  },
  {
   "cell_type": "markdown",
   "metadata": {
    "slideshow": {
     "slide_type": "slide"
    }
   },
   "source": [
    "## Steady -State and sustainability\n",
    "\n",
    "\n",
    "In steady-state either $\\frac{dx}{dt} = 0$ or $X_{t+1} - X_t = 0$. In steady-state we can ignore any subscripts for time or indices because the solution will be independent of time.\n",
    "\n",
    "In steady-state the stock is unchanging so we can interet the steady-state as being a situation where the fishery is sustainable in the strong sense.\n",
    "\n",
    "\n",
    "\n"
   ]
  },
  {
   "cell_type": "markdown",
   "metadata": {
    "slideshow": {
     "slide_type": "subslide"
    }
   },
   "source": [
    "In steady-state:\n",
    "\n",
    "$$r X (1- \\frac{X}{K}) - q X E = 0$$\n",
    "\n",
    "Let's use SymPy to solve this for $X$.\n"
   ]
  },
  {
   "cell_type": "code",
   "execution_count": 56,
   "metadata": {
    "slideshow": {
     "slide_type": "fragment"
    }
   },
   "outputs": [],
   "source": [
    "from sympy import *"
   ]
  },
  {
   "cell_type": "code",
   "execution_count": 57,
   "metadata": {
    "slideshow": {
     "slide_type": "subslide"
    }
   },
   "outputs": [],
   "source": [
    " r, X, K, q, E = symbols('r X K q E')\n",
    "    \n",
    "eqn = r*X*(1- X/K) - q*X*E "
   ]
  },
  {
   "cell_type": "code",
   "execution_count": 58,
   "metadata": {
    "slideshow": {
     "slide_type": "subslide"
    }
   },
   "outputs": [
    {
     "data": {
      "text/plain": [
       "[0, -E*K*q/r + K]"
      ]
     },
     "execution_count": 58,
     "metadata": {},
     "output_type": "execute_result"
    }
   ],
   "source": [
    "sol = solve(eqn, X)\n",
    "sol #finds all solutions There are two."
   ]
  },
  {
   "cell_type": "code",
   "execution_count": 59,
   "metadata": {
    "slideshow": {
     "slide_type": "subslide"
    }
   },
   "outputs": [
    {
     "name": "stdout",
     "output_type": "stream",
     "text": [
      "X: K*(-E*q + r)/r\n"
     ]
    }
   ],
   "source": [
    "print('X:',simplify(sol[1])) # provides the non-trivial solution sol[1] selects the second solution sol[0] \n",
    "# the first, try it!"
   ]
  },
  {
   "cell_type": "markdown",
   "metadata": {
    "slideshow": {
     "slide_type": "slide"
    }
   },
   "source": [
    "## Rent\n",
    "\n",
    "\n",
    "$$\\Pi = p q X(E) E = c E$$\n",
    "\n",
    "where\n",
    "\n",
    "- $p$ is the ex-vessel price of fish\n",
    "- $q$ is the catchability of fish\n",
    "- $X(E)$ The stock as a fiunction of toal fishing effort, we just derived this aboe\n",
    "- $E$ total fishing effort\n",
    "- $c$ the cost of fishing per unit of effort\n",
    "\n",
    "the next step is to subnstitute the stock $X(E)$ into the rent equation\n",
    "\n"
   ]
  },
  {
   "cell_type": "code",
   "execution_count": 60,
   "metadata": {
    "slideshow": {
     "slide_type": "subslide"
    }
   },
   "outputs": [
    {
     "data": {
      "text/latex": [
       "$\\displaystyle - \\frac{E \\left(K p q \\left(E q - r\\right) + c r\\right)}{r}$"
      ],
      "text/plain": [
       "-E*(K*p*q*(E*q - r) + c*r)/r"
      ]
     },
     "execution_count": 60,
     "metadata": {},
     "output_type": "execute_result"
    }
   ],
   "source": [
    "p, q, c = symbols('p q c')\n",
    "rent = p*q*X*E - c*E\n",
    "simplify(rent.subs(X,sol[1]))"
   ]
  },
  {
   "cell_type": "markdown",
   "metadata": {
    "slideshow": {
     "slide_type": "subslide"
    }
   },
   "source": [
    "This the total rent as a function of $E$ which is a variable and the rest are cosntants. \n",
    "\n",
    "We can also calculate the yiled or catch separately"
   ]
  },
  {
   "cell_type": "code",
   "execution_count": 61,
   "metadata": {
    "scrolled": false,
    "slideshow": {
     "slide_type": "subslide"
    }
   },
   "outputs": [
    {
     "data": {
      "text/latex": [
       "$\\displaystyle E q \\left(- \\frac{E K q}{r} + K\\right)$"
      ],
      "text/plain": [
       "E*q*(-E*K*q/r + K)"
      ]
     },
     "execution_count": 61,
     "metadata": {},
     "output_type": "execute_result"
    }
   ],
   "source": [
    "\n",
    "Y = q*X*E\n",
    "Y = Y.subs(X,sol[1]) #normally this is a bad idea\n",
    "Y.subs(E,Emsy)"
   ]
  },
  {
   "cell_type": "code",
   "execution_count": 62,
   "metadata": {
    "slideshow": {
     "slide_type": "subslide"
    }
   },
   "outputs": [
    {
     "data": {
      "text/latex": [
       "$\\displaystyle \\frac{r}{2 q}$"
      ],
      "text/plain": [
       "r/(2*q)"
      ]
     },
     "execution_count": 62,
     "metadata": {},
     "output_type": "execute_result"
    }
   ],
   "source": [
    "focY = diff(Y,E)\n",
    "Emsy = solve(diff(Y,E),E)\n",
    "Emsy[0]"
   ]
  },
  {
   "cell_type": "code",
   "execution_count": 63,
   "metadata": {},
   "outputs": [],
   "source": [
    "MSY  = Y.subs(E,Emsy[0])\n",
    "#q*sol[1].subs(E,Emsy)"
   ]
  },
  {
   "cell_type": "markdown",
   "metadata": {
    "slideshow": {
     "slide_type": "slide"
    }
   },
   "source": [
    "## At what level of stocks is sustainable yield maximized?\n"
   ]
  },
  {
   "cell_type": "code",
   "execution_count": 64,
   "metadata": {
    "slideshow": {
     "slide_type": "subslide"
    }
   },
   "outputs": [
    {
     "data": {
      "text/latex": [
       "$\\displaystyle \\frac{K}{2}$"
      ],
      "text/plain": [
       "K/2"
      ]
     },
     "execution_count": 64,
     "metadata": {},
     "output_type": "execute_result"
    }
   ],
   "source": [
    "sol[1].subs(E,Emsy[0])"
   ]
  },
  {
   "cell_type": "markdown",
   "metadata": {
    "slideshow": {
     "slide_type": "subslide"
    }
   },
   "source": [
    "This is an interesting result. why? Firstly, we have assumed a steady-state and we know that if no fishing \n",
    "were occurring then in steady-state the stock $X = K$. So the stock level that would result in steady-state would be $50\\%$ of unfished biomass.This is interesting us is gives us a basis for understanding debates concerning target refernce points in the region. Are they close to the maximum economic yield leve of stock. "
   ]
  },
  {
   "cell_type": "markdown",
   "metadata": {
    "slideshow": {
     "slide_type": "slide"
    }
   },
   "source": [
    "So what we have done is \n",
    "\n",
    "- assume a steady-state (sustainability)\n",
    "\n",
    "- solve for the level of stock in steady-state as a function of foishing effort \n",
    "\n",
    "- we have maximized yield by varying total fishing effort to find the effort level that maiximizes yield $E_{MSY}$.\n",
    "\n",
    "- We then susbitute this into the yield/catch equation to find the maximum sustainable yield $MSY$\n",
    "\n",
    "- The results do not depend on data but they do depend on the model assumptions (logistic growth of the stock and the multiplicative catch equation, the catch per unit effort fisheries production function). \n",
    "\n",
    "\n"
   ]
  },
  {
   "cell_type": "code",
   "execution_count": null,
   "metadata": {},
   "outputs": [],
   "source": []
  }
 ],
 "metadata": {
  "celltoolbar": "Slideshow",
  "kernelspec": {
   "display_name": "Python 3",
   "language": "python",
   "name": "python3"
  },
  "language_info": {
   "codemirror_mode": {
    "name": "ipython",
    "version": 3
   },
   "file_extension": ".py",
   "mimetype": "text/x-python",
   "name": "python",
   "nbconvert_exporter": "python",
   "pygments_lexer": "ipython3",
   "version": "3.8.3"
  }
 },
 "nbformat": 4,
 "nbformat_minor": 4
}
