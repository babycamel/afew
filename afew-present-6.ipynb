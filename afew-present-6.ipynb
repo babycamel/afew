{
 "cells": [
  {
   "cell_type": "markdown",
   "metadata": {
    "id": "szkZq7ruF3TV"
   },
   "source": [
    "# Advanced Fisheries Economics workshop"
   ]
  },
  {
   "cell_type": "markdown",
   "metadata": {
    "id": "ZIgiXL74F3Td"
   },
   "source": [
    "## Empirical bio-economic modelling\n",
    "\n",
    "\n",
    "**Aim**:  Estimate the unknown parameters in the Gordon-Schaefer fisheries model using data from the fishery\n",
    "\n",
    "What we need:\n",
    "\n",
    "- Data (There is lots of data but data infrastrcuture and data governance is not well developed in the Pacific. Lack of data is not the problem) In recent work we have been working with over 970,000 observations so we are approaching data sets of 1 million observations in some of our work.\n",
    "\n",
    "- A way to manipulate data (Pandas)\n",
    "\n",
    "- A way to estimate paprameters (Statsmodels)\n",
    "\n",
    "- A way to extract the policy from the parameter estimates or relate the policy to the parameter estimates\n",
    "\n",
    "This is an example of structural econometrics."
   ]
  },
  {
   "cell_type": "markdown",
   "metadata": {
    "id": "-NaoUPntF3Te"
   },
   "source": [
    "## Where do we get data?\n",
    "\n",
    "\n",
    "- Market and trade data: Company websites (thai Union) and government trade statistics (EU, Japan, Thailand, US)\n",
    "\n",
    "- Data aggregators [Quandl](https://www.quandl.com/) has an API and [directly accessible using Python](https://www.quandl.com/tools/python)\n",
    "\n",
    "- Central Banks US Federal Reserve [FRED](https://fred.stlouisfed.org/) database ([API](https://github.com/mortada/fredapi)), others by downloading\n",
    "\n",
    "- SPC (usually sent via Slack in spreadsheet form very inefficient\n",
    "\n",
    "- Members (usually e-mailed in a spreadsheet also very inefficient) \n",
    "\n",
    "- API (Application programming interface) World Bank, UN Comtrade, Quandl\n",
    "\n",
    "- Webscraping company websites - Also a possible workshop topic\n",
    "\n",
    "- Surveys (last reort) - This might be a topic of a futture workshop on survey sampling methods and design\n",
    "\n"
   ]
  },
  {
   "cell_type": "markdown",
   "metadata": {
    "id": "3ki6IRXNF3Tf"
   },
   "source": [
    "## Where do we put data?\n",
    "\n",
    "\n",
    "- relational database (Postgresql) in the cloud (Safe and secure)\n",
    "\n",
    "- spreadsheets (old way of doing it): Unsafe and difficult to manage\n",
    "\n",
    "- How do we get data from a database: **E**xtract **T**ransform **L**oad  (ETL) tool.\n",
    "\n"
   ]
  },
  {
   "cell_type": "code",
   "execution_count": 185,
   "metadata": {
    "id": "VnyX-f9CF3Tf"
   },
   "outputs": [],
   "source": []
  },
  {
   "cell_type": "markdown",
   "metadata": {
    "id": "yg-sfmEyF3Tg"
   },
   "source": [
    "## Reproducibility\n",
    "\n",
    "\n",
    "- Using API's enhances reproducibility (automation of data collection helps)\n",
    "\n",
    "- Webscraping enhances reproducibility\n",
    "\n",
    "- Reproducibility means we want to be able to reproduce graphs and results in any reports in such a way that they can be traced back to the original data. Think of it as traceability for data and report writing. \n",
    "\n"
   ]
  },
  {
   "cell_type": "code",
   "execution_count": 185,
   "metadata": {
    "id": "IAa4BktCF3Th"
   },
   "outputs": [],
   "source": []
  },
  {
   "cell_type": "code",
   "execution_count": 186,
   "metadata": {
    "colab": {
     "base_uri": "https://localhost:8080/"
    },
    "id": "K3fh-LujF3Th",
    "outputId": "3142b619-c65f-411b-c6d3-4ea4cfad5d01"
   },
   "outputs": [
    {
     "name": "stdout",
     "output_type": "stream",
     "text": [
      "Requirement already satisfied: psycopg2 in /usr/local/lib/python3.7/dist-packages (2.7.6.1)\n"
     ]
    }
   ],
   "source": [
    "!pip install psycopg2\n",
    "import psycopg2 #need this to connect to the database you will need to install this from the command line with pip install psycopg2\n",
    "# This is why you need administrator rights on your computer. Alternatively load the notebook to Google colaboratory and install \n",
    "#it there using !pip install psycopg2. You have limited administrator rights on Google colaboratory.\n",
    "import sqlite3\n",
    "import io\n",
    "from sqlalchemy import create_engine\n",
    "#import gspread # To link to google sheets only needed for google colaboratory\n",
    "import pandas as pd\n",
    "import numpy as np"
   ]
  },
  {
   "cell_type": "markdown",
   "metadata": {
    "id": "mUhOHomhF3Th"
   },
   "source": [
    "### Using PANDAS\n",
    "\n",
    "Make sure you do the tutorial 10 minutes to Pandas\n",
    "\n",
    "[10 Minutes to Pandas](https://pandas.pydata.org/pandas-docs/stable/user_guide/10min.html) (Do this as an **exercise!**)\n",
    "\n",
    "Also it's worth reading the [Intro to Pandas](https://pandas.pydata.org/pandas-docs/stable/getting_started/index.html#getting-started)\n",
    "\n",
    "We have already used Pandas a little above df is a Pandas data frame.\n",
    "\n",
    "We can also import data from a spreadsheet directly into Pandas. This is covered in section 2 of Intro to Pandas.\n",
    "\n",
    "\n",
    "A good reference for [SQL](https://www.w3schools.com/sql/)\n",
    "\n"
   ]
  },
  {
   "cell_type": "markdown",
   "metadata": {
    "id": "N-3MAtN9F3Ti"
   },
   "source": [
    "## Connecting to a database\n",
    "\n",
    "\n",
    "conn = psycopg2.connect(\"host=  dbname= user= password= \") establishes a connection\n",
    "\n",
    "You need to enter the details that you will be provided with for host, dbname and password\n",
    "\n",
    "cur = conn.cursor() \n",
    "\n",
    "\n",
    "Note this can in theory also be done using Excel Powerquery but may be blocked by your IT department.\n",
    "\n"
   ]
  },
  {
   "cell_type": "code",
   "execution_count": 187,
   "metadata": {
    "id": "sMr6Q3JYF3Ti"
   },
   "outputs": [],
   "source": [
    "conn = psycopg2.connect(\"host=  dbname= user= password=\") \n",
    "cur = conn.cursor() "
   ]
  },
  {
   "cell_type": "markdown",
   "metadata": {
    "id": "_IhIR7JPF3Tj"
   },
   "source": [
    "## Queries\n",
    "\n",
    "\n",
    "- Now we write a query in SQL (Structured Query Language - pronounced sequel by purists)\n",
    "\n",
    "- We execute the query cur.execute\n",
    "\n",
    "- We fetch the data cur.fetchall()\n",
    "\n",
    "- we pass the data to a data frame (a list of vectors or columns)\n",
    "\n",
    "- Finally check you have the data\n",
    "\n"
   ]
  },
  {
   "cell_type": "code",
   "execution_count": 188,
   "metadata": {
    "id": "WC8GHrq2F3Tj"
   },
   "outputs": [],
   "source": [
    "cur.execute('SELECT * FROM ace;') # write SQL query in brackets\n",
    "data = cur.fetchall()\n",
    "\n",
    "col_names = []\n",
    "for elt in cur.description:\n",
    "    col_names.append(elt[0])\n",
    "\n",
    "df = pd.DataFrame(data, columns=col_names) # Need to add headers after this call. So need to document this in Manual\n",
    "df #This is a data frame you can writexl to write to Excel file\n",
    "\n",
    "#close the connection after you ahve obtained the data\n",
    "cur.close() \n",
    "conn.close()"
   ]
  },
  {
   "cell_type": "code",
   "execution_count": 189,
   "metadata": {
    "colab": {
     "base_uri": "https://localhost:8080/",
     "height": 609
    },
    "id": "SWyTileOH151",
    "outputId": "30828d94-b0c1-4aa2-9dbd-06974370268c"
   },
   "outputs": [
    {
     "data": {
      "text/html": [
       "<div>\n",
       "<style scoped>\n",
       "    .dataframe tbody tr th:only-of-type {\n",
       "        vertical-align: middle;\n",
       "    }\n",
       "\n",
       "    .dataframe tbody tr th {\n",
       "        vertical-align: top;\n",
       "    }\n",
       "\n",
       "    .dataframe thead th {\n",
       "        text-align: right;\n",
       "    }\n",
       "</style>\n",
       "<table border=\"1\" class=\"dataframe\">\n",
       "  <thead>\n",
       "    <tr style=\"text-align: right;\">\n",
       "      <th></th>\n",
       "      <th>yr</th>\n",
       "      <th>gr_id</th>\n",
       "      <th>flag_id</th>\n",
       "      <th>fleet_id</th>\n",
       "      <th>ez_id</th>\n",
       "      <th>days</th>\n",
       "      <th>skj_c</th>\n",
       "      <th>yft_c</th>\n",
       "      <th>bet_c</th>\n",
       "      <th>days_arch</th>\n",
       "      <th>skj_arch_c</th>\n",
       "      <th>yft_arch_c</th>\n",
       "      <th>bet_arch_c</th>\n",
       "      <th>alb_c</th>\n",
       "      <th>bum_c</th>\n",
       "      <th>blm_c</th>\n",
       "      <th>mls_c</th>\n",
       "      <th>swo_c</th>\n",
       "    </tr>\n",
       "  </thead>\n",
       "  <tbody>\n",
       "    <tr>\n",
       "      <th>0</th>\n",
       "      <td>1990-01-10</td>\n",
       "      <td>G</td>\n",
       "      <td>JP</td>\n",
       "      <td>NA</td>\n",
       "      <td>I6</td>\n",
       "      <td>0</td>\n",
       "      <td>8326</td>\n",
       "      <td>49</td>\n",
       "      <td>61</td>\n",
       "      <td>0</td>\n",
       "      <td>0</td>\n",
       "      <td>0</td>\n",
       "      <td>0</td>\n",
       "      <td>9885</td>\n",
       "      <td>252</td>\n",
       "      <td>0</td>\n",
       "      <td>1926</td>\n",
       "      <td>102.0</td>\n",
       "    </tr>\n",
       "    <tr>\n",
       "      <th>1</th>\n",
       "      <td>1990-01-10</td>\n",
       "      <td>G</td>\n",
       "      <td>TW</td>\n",
       "      <td>NA</td>\n",
       "      <td>I6</td>\n",
       "      <td>0</td>\n",
       "      <td>0</td>\n",
       "      <td>0</td>\n",
       "      <td>0</td>\n",
       "      <td>0</td>\n",
       "      <td>0</td>\n",
       "      <td>0</td>\n",
       "      <td>0</td>\n",
       "      <td>1859</td>\n",
       "      <td>0</td>\n",
       "      <td>0</td>\n",
       "      <td>0</td>\n",
       "      <td>NaN</td>\n",
       "    </tr>\n",
       "    <tr>\n",
       "      <th>2</th>\n",
       "      <td>1990-01-10</td>\n",
       "      <td>H</td>\n",
       "      <td>ID</td>\n",
       "      <td>NA</td>\n",
       "      <td>ID</td>\n",
       "      <td>0</td>\n",
       "      <td>0</td>\n",
       "      <td>5247</td>\n",
       "      <td>167</td>\n",
       "      <td>0</td>\n",
       "      <td>0</td>\n",
       "      <td>4198</td>\n",
       "      <td>134</td>\n",
       "      <td>0</td>\n",
       "      <td>272</td>\n",
       "      <td>17</td>\n",
       "      <td>0</td>\n",
       "      <td>1.0</td>\n",
       "    </tr>\n",
       "    <tr>\n",
       "      <th>3</th>\n",
       "      <td>1990-01-10</td>\n",
       "      <td>H</td>\n",
       "      <td>PH</td>\n",
       "      <td>NA</td>\n",
       "      <td>PH</td>\n",
       "      <td>0</td>\n",
       "      <td>0</td>\n",
       "      <td>9012</td>\n",
       "      <td>278</td>\n",
       "      <td>0</td>\n",
       "      <td>0</td>\n",
       "      <td>7210</td>\n",
       "      <td>222</td>\n",
       "      <td>0</td>\n",
       "      <td>4191</td>\n",
       "      <td>266</td>\n",
       "      <td>0</td>\n",
       "      <td>15.0</td>\n",
       "    </tr>\n",
       "    <tr>\n",
       "      <th>4</th>\n",
       "      <td>1990-01-10</td>\n",
       "      <td>K</td>\n",
       "      <td>PH</td>\n",
       "      <td>NA</td>\n",
       "      <td>PH</td>\n",
       "      <td>0</td>\n",
       "      <td>9444</td>\n",
       "      <td>36049</td>\n",
       "      <td>3962</td>\n",
       "      <td>0</td>\n",
       "      <td>7555</td>\n",
       "      <td>28839</td>\n",
       "      <td>3170</td>\n",
       "      <td>0</td>\n",
       "      <td>0</td>\n",
       "      <td>0</td>\n",
       "      <td>0</td>\n",
       "      <td>NaN</td>\n",
       "    </tr>\n",
       "    <tr>\n",
       "      <th>...</th>\n",
       "      <td>...</td>\n",
       "      <td>...</td>\n",
       "      <td>...</td>\n",
       "      <td>...</td>\n",
       "      <td>...</td>\n",
       "      <td>...</td>\n",
       "      <td>...</td>\n",
       "      <td>...</td>\n",
       "      <td>...</td>\n",
       "      <td>...</td>\n",
       "      <td>...</td>\n",
       "      <td>...</td>\n",
       "      <td>...</td>\n",
       "      <td>...</td>\n",
       "      <td>...</td>\n",
       "      <td>...</td>\n",
       "      <td>...</td>\n",
       "      <td>...</td>\n",
       "    </tr>\n",
       "    <tr>\n",
       "      <th>7066</th>\n",
       "      <td>2019-01-10</td>\n",
       "      <td>T</td>\n",
       "      <td>US</td>\n",
       "      <td>AS</td>\n",
       "      <td>AS</td>\n",
       "      <td>0</td>\n",
       "      <td>6</td>\n",
       "      <td>1</td>\n",
       "      <td>0</td>\n",
       "      <td>0</td>\n",
       "      <td>0</td>\n",
       "      <td>0</td>\n",
       "      <td>0</td>\n",
       "      <td>0</td>\n",
       "      <td>0</td>\n",
       "      <td>0</td>\n",
       "      <td>0</td>\n",
       "      <td>0.0</td>\n",
       "    </tr>\n",
       "    <tr>\n",
       "      <th>7067</th>\n",
       "      <td>2019-01-10</td>\n",
       "      <td>T</td>\n",
       "      <td>US</td>\n",
       "      <td>GU</td>\n",
       "      <td>GU</td>\n",
       "      <td>0</td>\n",
       "      <td>218</td>\n",
       "      <td>38</td>\n",
       "      <td>0</td>\n",
       "      <td>0</td>\n",
       "      <td>0</td>\n",
       "      <td>0</td>\n",
       "      <td>0</td>\n",
       "      <td>0</td>\n",
       "      <td>25</td>\n",
       "      <td>0</td>\n",
       "      <td>0</td>\n",
       "      <td>0.0</td>\n",
       "    </tr>\n",
       "    <tr>\n",
       "      <th>7068</th>\n",
       "      <td>2019-01-10</td>\n",
       "      <td>T</td>\n",
       "      <td>US</td>\n",
       "      <td>HW</td>\n",
       "      <td>HW</td>\n",
       "      <td>0</td>\n",
       "      <td>104</td>\n",
       "      <td>404</td>\n",
       "      <td>35</td>\n",
       "      <td>0</td>\n",
       "      <td>0</td>\n",
       "      <td>0</td>\n",
       "      <td>0</td>\n",
       "      <td>1</td>\n",
       "      <td>151</td>\n",
       "      <td>2</td>\n",
       "      <td>13</td>\n",
       "      <td>0.0</td>\n",
       "    </tr>\n",
       "    <tr>\n",
       "      <th>7069</th>\n",
       "      <td>2019-01-10</td>\n",
       "      <td>T</td>\n",
       "      <td>US</td>\n",
       "      <td>MP</td>\n",
       "      <td>MP</td>\n",
       "      <td>0</td>\n",
       "      <td>157</td>\n",
       "      <td>17</td>\n",
       "      <td>0</td>\n",
       "      <td>0</td>\n",
       "      <td>0</td>\n",
       "      <td>0</td>\n",
       "      <td>0</td>\n",
       "      <td>0</td>\n",
       "      <td>2</td>\n",
       "      <td>0</td>\n",
       "      <td>0</td>\n",
       "      <td>0.0</td>\n",
       "    </tr>\n",
       "    <tr>\n",
       "      <th>7070</th>\n",
       "      <td>2019-01-10</td>\n",
       "      <td>T</td>\n",
       "      <td>WF</td>\n",
       "      <td>NA</td>\n",
       "      <td>WF</td>\n",
       "      <td>0</td>\n",
       "      <td>6</td>\n",
       "      <td>11</td>\n",
       "      <td>0</td>\n",
       "      <td>0</td>\n",
       "      <td>0</td>\n",
       "      <td>0</td>\n",
       "      <td>0</td>\n",
       "      <td>1</td>\n",
       "      <td>0</td>\n",
       "      <td>0</td>\n",
       "      <td>1</td>\n",
       "      <td>0.0</td>\n",
       "    </tr>\n",
       "  </tbody>\n",
       "</table>\n",
       "<p>7071 rows × 18 columns</p>\n",
       "</div>"
      ],
      "text/plain": [
       "              yr gr_id flag_id fleet_id  ... bum_c  blm_c  mls_c  swo_c\n",
       "0     1990-01-10     G      JP       NA  ...   252      0   1926  102.0\n",
       "1     1990-01-10     G      TW       NA  ...     0      0      0    NaN\n",
       "2     1990-01-10     H      ID       NA  ...   272     17      0    1.0\n",
       "3     1990-01-10     H      PH       NA  ...  4191    266      0   15.0\n",
       "4     1990-01-10     K      PH       NA  ...     0      0      0    NaN\n",
       "...          ...   ...     ...      ...  ...   ...    ...    ...    ...\n",
       "7066  2019-01-10     T      US       AS  ...     0      0      0    0.0\n",
       "7067  2019-01-10     T      US       GU  ...    25      0      0    0.0\n",
       "7068  2019-01-10     T      US       HW  ...   151      2     13    0.0\n",
       "7069  2019-01-10     T      US       MP  ...     2      0      0    0.0\n",
       "7070  2019-01-10     T      WF       NA  ...     0      0      1    0.0\n",
       "\n",
       "[7071 rows x 18 columns]"
      ]
     },
     "execution_count": 189,
     "metadata": {
      "tags": []
     },
     "output_type": "execute_result"
    }
   ],
   "source": [
    "df"
   ]
  },
  {
   "cell_type": "markdown",
   "metadata": {
    "id": "r9qMU5drF3Tj"
   },
   "source": [
    "## Data cleaning with Pandas\n",
    "\n",
    "\n",
    "- Extract the data you need to fit catch to effort (days)\n",
    "\n",
    "- do this by selecting the two columns you need from the data frame df\n",
    "\n",
    "\n"
   ]
  },
  {
   "cell_type": "code",
   "execution_count": 190,
   "metadata": {
    "colab": {
     "base_uri": "https://localhost:8080/",
     "height": 309
    },
    "id": "0dYfW1RuNNp2",
    "outputId": "1c9c6681-870f-44c8-ef8f-77be4c51edb2"
   },
   "outputs": [
    {
     "data": {
      "text/html": [
       "<div>\n",
       "<style scoped>\n",
       "    .dataframe tbody tr th:only-of-type {\n",
       "        vertical-align: middle;\n",
       "    }\n",
       "\n",
       "    .dataframe tbody tr th {\n",
       "        vertical-align: top;\n",
       "    }\n",
       "\n",
       "    .dataframe thead th {\n",
       "        text-align: right;\n",
       "    }\n",
       "</style>\n",
       "<table border=\"1\" class=\"dataframe\">\n",
       "  <thead>\n",
       "    <tr style=\"text-align: right;\">\n",
       "      <th></th>\n",
       "      <th>yr</th>\n",
       "      <th>gr_id</th>\n",
       "      <th>flag_id</th>\n",
       "      <th>fleet_id</th>\n",
       "      <th>ez_id</th>\n",
       "      <th>days</th>\n",
       "      <th>skj_c</th>\n",
       "      <th>yft_c</th>\n",
       "      <th>bet_c</th>\n",
       "      <th>days_arch</th>\n",
       "      <th>skj_arch_c</th>\n",
       "      <th>yft_arch_c</th>\n",
       "      <th>bet_arch_c</th>\n",
       "      <th>alb_c</th>\n",
       "      <th>bum_c</th>\n",
       "      <th>blm_c</th>\n",
       "      <th>mls_c</th>\n",
       "      <th>swo_c</th>\n",
       "    </tr>\n",
       "  </thead>\n",
       "  <tbody>\n",
       "    <tr>\n",
       "      <th>30</th>\n",
       "      <td>1990-01-10</td>\n",
       "      <td>L</td>\n",
       "      <td>JP</td>\n",
       "      <td>CS</td>\n",
       "      <td>SB</td>\n",
       "      <td>0</td>\n",
       "      <td>0</td>\n",
       "      <td>0</td>\n",
       "      <td>0</td>\n",
       "      <td>0</td>\n",
       "      <td>0</td>\n",
       "      <td>0</td>\n",
       "      <td>0</td>\n",
       "      <td>0</td>\n",
       "      <td>0</td>\n",
       "      <td>0</td>\n",
       "      <td>0</td>\n",
       "      <td>NaN</td>\n",
       "    </tr>\n",
       "    <tr>\n",
       "      <th>52</th>\n",
       "      <td>1990-01-10</td>\n",
       "      <td>L</td>\n",
       "      <td>JP</td>\n",
       "      <td>DW</td>\n",
       "      <td>SB</td>\n",
       "      <td>1512</td>\n",
       "      <td>0</td>\n",
       "      <td>3014</td>\n",
       "      <td>655</td>\n",
       "      <td>0</td>\n",
       "      <td>0</td>\n",
       "      <td>0</td>\n",
       "      <td>0</td>\n",
       "      <td>65</td>\n",
       "      <td>29</td>\n",
       "      <td>5</td>\n",
       "      <td>1</td>\n",
       "      <td>NaN</td>\n",
       "    </tr>\n",
       "    <tr>\n",
       "      <th>70</th>\n",
       "      <td>1990-01-10</td>\n",
       "      <td>L</td>\n",
       "      <td>KR</td>\n",
       "      <td>NA</td>\n",
       "      <td>SB</td>\n",
       "      <td>185</td>\n",
       "      <td>2</td>\n",
       "      <td>124</td>\n",
       "      <td>26</td>\n",
       "      <td>0</td>\n",
       "      <td>0</td>\n",
       "      <td>0</td>\n",
       "      <td>0</td>\n",
       "      <td>211</td>\n",
       "      <td>2</td>\n",
       "      <td>1</td>\n",
       "      <td>2</td>\n",
       "      <td>NaN</td>\n",
       "    </tr>\n",
       "    <tr>\n",
       "      <th>91</th>\n",
       "      <td>1990-01-10</td>\n",
       "      <td>L</td>\n",
       "      <td>TW</td>\n",
       "      <td>DW</td>\n",
       "      <td>SB</td>\n",
       "      <td>78</td>\n",
       "      <td>0</td>\n",
       "      <td>7</td>\n",
       "      <td>2</td>\n",
       "      <td>0</td>\n",
       "      <td>0</td>\n",
       "      <td>0</td>\n",
       "      <td>0</td>\n",
       "      <td>82</td>\n",
       "      <td>0</td>\n",
       "      <td>1</td>\n",
       "      <td>0</td>\n",
       "      <td>NaN</td>\n",
       "    </tr>\n",
       "    <tr>\n",
       "      <th>105</th>\n",
       "      <td>1990-01-10</td>\n",
       "      <td>L</td>\n",
       "      <td>TW</td>\n",
       "      <td>OS</td>\n",
       "      <td>SB</td>\n",
       "      <td>35</td>\n",
       "      <td>0</td>\n",
       "      <td>1</td>\n",
       "      <td>7</td>\n",
       "      <td>0</td>\n",
       "      <td>0</td>\n",
       "      <td>0</td>\n",
       "      <td>1</td>\n",
       "      <td>0</td>\n",
       "      <td>0</td>\n",
       "      <td>2</td>\n",
       "      <td>0</td>\n",
       "      <td>NaN</td>\n",
       "    </tr>\n",
       "  </tbody>\n",
       "</table>\n",
       "</div>"
      ],
      "text/plain": [
       "             yr gr_id flag_id fleet_id ez_id  ...  alb_c  bum_c  blm_c  mls_c  swo_c\n",
       "30   1990-01-10     L      JP       CS    SB  ...      0      0      0      0    NaN\n",
       "52   1990-01-10     L      JP       DW    SB  ...     65     29      5      1    NaN\n",
       "70   1990-01-10     L      KR       NA    SB  ...    211      2      1      2    NaN\n",
       "91   1990-01-10     L      TW       DW    SB  ...     82      0      1      0    NaN\n",
       "105  1990-01-10     L      TW       OS    SB  ...      0      0      2      0    NaN\n",
       "\n",
       "[5 rows x 18 columns]"
      ]
     },
     "execution_count": 190,
     "metadata": {
      "tags": []
     },
     "output_type": "execute_result"
    }
   ],
   "source": [
    "soldata = df[df['ez_id']=='SB']\n",
    "soldata.head()"
   ]
  },
  {
   "cell_type": "code",
   "execution_count": 191,
   "metadata": {
    "colab": {
     "base_uri": "https://localhost:8080/"
    },
    "id": "RYI6AbGzNeaX",
    "outputId": "b8d1f763-0063-4e26-b478-16c42a695a18"
   },
   "outputs": [
    {
     "name": "stdout",
     "output_type": "stream",
     "text": [
      "30        0\n",
      "52       65\n",
      "70      211\n",
      "91       82\n",
      "105       0\n",
      "       ... \n",
      "6695    224\n",
      "6860    221\n",
      "6889     15\n",
      "6935      3\n",
      "6945     37\n",
      "Name: alb_c, Length: 139, dtype: int64 30         0\n",
      "52      1512\n",
      "70       185\n",
      "91        78\n",
      "105       35\n",
      "        ... \n",
      "6695     428\n",
      "6860     479\n",
      "6889     139\n",
      "6935     162\n",
      "6945      81\n",
      "Name: days, Length: 139, dtype: int64\n"
     ]
    }
   ],
   "source": [
    "soldata2 = pd.DataFrame(soldata)\n",
    "soldata2['yr'] = pd.to_datetime(soldata2['yr'])\n",
    "soldata2[soldata2['yr'] > '2010-01-10']\n",
    "soldata2 = soldata2[soldata2['gr_id'] =='L']\n",
    "\n",
    "days = soldata2['days']\n",
    "catch = soldata2['alb_c']\n",
    "print(catch,days)"
   ]
  },
  {
   "cell_type": "code",
   "execution_count": 192,
   "metadata": {
    "colab": {
     "base_uri": "https://localhost:8080/",
     "height": 609
    },
    "id": "rmDgi9osiXtM",
    "outputId": "0d44ecf3-8052-4695-a1ca-d46fe67a5972"
   },
   "outputs": [
    {
     "data": {
      "text/html": [
       "<div>\n",
       "<style scoped>\n",
       "    .dataframe tbody tr th:only-of-type {\n",
       "        vertical-align: middle;\n",
       "    }\n",
       "\n",
       "    .dataframe tbody tr th {\n",
       "        vertical-align: top;\n",
       "    }\n",
       "\n",
       "    .dataframe thead th {\n",
       "        text-align: right;\n",
       "    }\n",
       "</style>\n",
       "<table border=\"1\" class=\"dataframe\">\n",
       "  <thead>\n",
       "    <tr style=\"text-align: right;\">\n",
       "      <th></th>\n",
       "      <th>yr</th>\n",
       "      <th>gr_id</th>\n",
       "      <th>flag_id</th>\n",
       "      <th>fleet_id</th>\n",
       "      <th>ez_id</th>\n",
       "      <th>days</th>\n",
       "      <th>skj_c</th>\n",
       "      <th>yft_c</th>\n",
       "      <th>bet_c</th>\n",
       "      <th>days_arch</th>\n",
       "      <th>skj_arch_c</th>\n",
       "      <th>yft_arch_c</th>\n",
       "      <th>bet_arch_c</th>\n",
       "      <th>alb_c</th>\n",
       "      <th>bum_c</th>\n",
       "      <th>blm_c</th>\n",
       "      <th>mls_c</th>\n",
       "      <th>swo_c</th>\n",
       "    </tr>\n",
       "  </thead>\n",
       "  <tbody>\n",
       "    <tr>\n",
       "      <th>30</th>\n",
       "      <td>1990-01-10</td>\n",
       "      <td>L</td>\n",
       "      <td>JP</td>\n",
       "      <td>CS</td>\n",
       "      <td>SB</td>\n",
       "      <td>0</td>\n",
       "      <td>0</td>\n",
       "      <td>0</td>\n",
       "      <td>0</td>\n",
       "      <td>0</td>\n",
       "      <td>0</td>\n",
       "      <td>0</td>\n",
       "      <td>0</td>\n",
       "      <td>0</td>\n",
       "      <td>0</td>\n",
       "      <td>0</td>\n",
       "      <td>0</td>\n",
       "      <td>NaN</td>\n",
       "    </tr>\n",
       "    <tr>\n",
       "      <th>52</th>\n",
       "      <td>1990-01-10</td>\n",
       "      <td>L</td>\n",
       "      <td>JP</td>\n",
       "      <td>DW</td>\n",
       "      <td>SB</td>\n",
       "      <td>1512</td>\n",
       "      <td>0</td>\n",
       "      <td>3014</td>\n",
       "      <td>655</td>\n",
       "      <td>0</td>\n",
       "      <td>0</td>\n",
       "      <td>0</td>\n",
       "      <td>0</td>\n",
       "      <td>65</td>\n",
       "      <td>29</td>\n",
       "      <td>5</td>\n",
       "      <td>1</td>\n",
       "      <td>NaN</td>\n",
       "    </tr>\n",
       "    <tr>\n",
       "      <th>70</th>\n",
       "      <td>1990-01-10</td>\n",
       "      <td>L</td>\n",
       "      <td>KR</td>\n",
       "      <td>NA</td>\n",
       "      <td>SB</td>\n",
       "      <td>185</td>\n",
       "      <td>2</td>\n",
       "      <td>124</td>\n",
       "      <td>26</td>\n",
       "      <td>0</td>\n",
       "      <td>0</td>\n",
       "      <td>0</td>\n",
       "      <td>0</td>\n",
       "      <td>211</td>\n",
       "      <td>2</td>\n",
       "      <td>1</td>\n",
       "      <td>2</td>\n",
       "      <td>NaN</td>\n",
       "    </tr>\n",
       "    <tr>\n",
       "      <th>91</th>\n",
       "      <td>1990-01-10</td>\n",
       "      <td>L</td>\n",
       "      <td>TW</td>\n",
       "      <td>DW</td>\n",
       "      <td>SB</td>\n",
       "      <td>78</td>\n",
       "      <td>0</td>\n",
       "      <td>7</td>\n",
       "      <td>2</td>\n",
       "      <td>0</td>\n",
       "      <td>0</td>\n",
       "      <td>0</td>\n",
       "      <td>0</td>\n",
       "      <td>82</td>\n",
       "      <td>0</td>\n",
       "      <td>1</td>\n",
       "      <td>0</td>\n",
       "      <td>NaN</td>\n",
       "    </tr>\n",
       "    <tr>\n",
       "      <th>105</th>\n",
       "      <td>1990-01-10</td>\n",
       "      <td>L</td>\n",
       "      <td>TW</td>\n",
       "      <td>OS</td>\n",
       "      <td>SB</td>\n",
       "      <td>35</td>\n",
       "      <td>0</td>\n",
       "      <td>1</td>\n",
       "      <td>7</td>\n",
       "      <td>0</td>\n",
       "      <td>0</td>\n",
       "      <td>0</td>\n",
       "      <td>1</td>\n",
       "      <td>0</td>\n",
       "      <td>0</td>\n",
       "      <td>2</td>\n",
       "      <td>0</td>\n",
       "      <td>NaN</td>\n",
       "    </tr>\n",
       "    <tr>\n",
       "      <th>...</th>\n",
       "      <td>...</td>\n",
       "      <td>...</td>\n",
       "      <td>...</td>\n",
       "      <td>...</td>\n",
       "      <td>...</td>\n",
       "      <td>...</td>\n",
       "      <td>...</td>\n",
       "      <td>...</td>\n",
       "      <td>...</td>\n",
       "      <td>...</td>\n",
       "      <td>...</td>\n",
       "      <td>...</td>\n",
       "      <td>...</td>\n",
       "      <td>...</td>\n",
       "      <td>...</td>\n",
       "      <td>...</td>\n",
       "      <td>...</td>\n",
       "      <td>...</td>\n",
       "    </tr>\n",
       "    <tr>\n",
       "      <th>6695</th>\n",
       "      <td>2018-01-10</td>\n",
       "      <td>L</td>\n",
       "      <td>VU</td>\n",
       "      <td>NA</td>\n",
       "      <td>SB</td>\n",
       "      <td>428</td>\n",
       "      <td>6</td>\n",
       "      <td>181</td>\n",
       "      <td>31</td>\n",
       "      <td>0</td>\n",
       "      <td>0</td>\n",
       "      <td>0</td>\n",
       "      <td>0</td>\n",
       "      <td>224</td>\n",
       "      <td>9</td>\n",
       "      <td>0</td>\n",
       "      <td>0</td>\n",
       "      <td>1.0</td>\n",
       "    </tr>\n",
       "    <tr>\n",
       "      <th>6860</th>\n",
       "      <td>2019-01-10</td>\n",
       "      <td>L</td>\n",
       "      <td>FJ</td>\n",
       "      <td>NA</td>\n",
       "      <td>SB</td>\n",
       "      <td>479</td>\n",
       "      <td>10</td>\n",
       "      <td>191</td>\n",
       "      <td>53</td>\n",
       "      <td>0</td>\n",
       "      <td>0</td>\n",
       "      <td>0</td>\n",
       "      <td>0</td>\n",
       "      <td>221</td>\n",
       "      <td>20</td>\n",
       "      <td>0</td>\n",
       "      <td>0</td>\n",
       "      <td>1.0</td>\n",
       "    </tr>\n",
       "    <tr>\n",
       "      <th>6889</th>\n",
       "      <td>2019-01-10</td>\n",
       "      <td>L</td>\n",
       "      <td>KR</td>\n",
       "      <td>NA</td>\n",
       "      <td>SB</td>\n",
       "      <td>139</td>\n",
       "      <td>3</td>\n",
       "      <td>33</td>\n",
       "      <td>48</td>\n",
       "      <td>0</td>\n",
       "      <td>0</td>\n",
       "      <td>0</td>\n",
       "      <td>0</td>\n",
       "      <td>15</td>\n",
       "      <td>14</td>\n",
       "      <td>0</td>\n",
       "      <td>0</td>\n",
       "      <td>1.0</td>\n",
       "    </tr>\n",
       "    <tr>\n",
       "      <th>6935</th>\n",
       "      <td>2019-01-10</td>\n",
       "      <td>L</td>\n",
       "      <td>TW</td>\n",
       "      <td>OS</td>\n",
       "      <td>SB</td>\n",
       "      <td>162</td>\n",
       "      <td>0</td>\n",
       "      <td>61</td>\n",
       "      <td>7</td>\n",
       "      <td>0</td>\n",
       "      <td>0</td>\n",
       "      <td>0</td>\n",
       "      <td>0</td>\n",
       "      <td>3</td>\n",
       "      <td>3</td>\n",
       "      <td>3</td>\n",
       "      <td>0</td>\n",
       "      <td>0.0</td>\n",
       "    </tr>\n",
       "    <tr>\n",
       "      <th>6945</th>\n",
       "      <td>2019-01-10</td>\n",
       "      <td>L</td>\n",
       "      <td>VU</td>\n",
       "      <td>NA</td>\n",
       "      <td>SB</td>\n",
       "      <td>81</td>\n",
       "      <td>2</td>\n",
       "      <td>48</td>\n",
       "      <td>2</td>\n",
       "      <td>0</td>\n",
       "      <td>0</td>\n",
       "      <td>0</td>\n",
       "      <td>0</td>\n",
       "      <td>37</td>\n",
       "      <td>4</td>\n",
       "      <td>2</td>\n",
       "      <td>0</td>\n",
       "      <td>0.0</td>\n",
       "    </tr>\n",
       "  </tbody>\n",
       "</table>\n",
       "<p>139 rows × 18 columns</p>\n",
       "</div>"
      ],
      "text/plain": [
       "             yr gr_id flag_id fleet_id ez_id  ...  alb_c  bum_c  blm_c  mls_c  swo_c\n",
       "30   1990-01-10     L      JP       CS    SB  ...      0      0      0      0    NaN\n",
       "52   1990-01-10     L      JP       DW    SB  ...     65     29      5      1    NaN\n",
       "70   1990-01-10     L      KR       NA    SB  ...    211      2      1      2    NaN\n",
       "91   1990-01-10     L      TW       DW    SB  ...     82      0      1      0    NaN\n",
       "105  1990-01-10     L      TW       OS    SB  ...      0      0      2      0    NaN\n",
       "...         ...   ...     ...      ...   ...  ...    ...    ...    ...    ...    ...\n",
       "6695 2018-01-10     L      VU       NA    SB  ...    224      9      0      0    1.0\n",
       "6860 2019-01-10     L      FJ       NA    SB  ...    221     20      0      0    1.0\n",
       "6889 2019-01-10     L      KR       NA    SB  ...     15     14      0      0    1.0\n",
       "6935 2019-01-10     L      TW       OS    SB  ...      3      3      3      0    0.0\n",
       "6945 2019-01-10     L      VU       NA    SB  ...     37      4      2      0    0.0\n",
       "\n",
       "[139 rows x 18 columns]"
      ]
     },
     "execution_count": 192,
     "metadata": {
      "tags": []
     },
     "output_type": "execute_result"
    }
   ],
   "source": [
    "soldata2"
   ]
  },
  {
   "cell_type": "markdown",
   "metadata": {
    "id": "PyNqRPv6x4Eb"
   },
   "source": [
    "## Plotting\n",
    "\n",
    "\n",
    "First plot your data. Use a scatter plot for this. Catch on the vertical axis and effort on the horizontal."
   ]
  },
  {
   "cell_type": "markdown",
   "metadata": {
    "id": "f5SAfI-ex_wC"
   },
   "source": [
    "*italicized text*"
   ]
  },
  {
   "cell_type": "code",
   "execution_count": 193,
   "metadata": {
    "id": "eWj5Iop2yG8A"
   },
   "outputs": [],
   "source": [
    "import matplotlib.pyplot as plt"
   ]
  },
  {
   "cell_type": "code",
   "execution_count": 194,
   "metadata": {
    "colab": {
     "base_uri": "https://localhost:8080/",
     "height": 282
    },
    "id": "Ucd7dbJRyKty",
    "outputId": "1633056f-014f-41b7-d566-da455fb12c73"
   },
   "outputs": [
    {
     "data": {
      "text/plain": [
       "<matplotlib.collections.PathCollection at 0x7f11f727cb90>"
      ]
     },
     "execution_count": 194,
     "metadata": {
      "tags": []
     },
     "output_type": "execute_result"
    },
    {
     "data": {
      "image/png": "[encoded data removed]",
      "text/plain": [
       "<Figure size 432x288 with 1 Axes>"
      ]
     },
     "metadata": {
      "needs_background": "light",
      "tags": []
     },
     "output_type": "display_data"
    }
   ],
   "source": [
    "plt.scatter(days,catch)"
   ]
  },
  {
   "cell_type": "markdown",
   "metadata": {
    "id": "NCWXX3--F3Tk"
   },
   "source": [
    "## Econometrics\n",
    "\n",
    "We will use the equations from the previous notebook afew-present-5.ipynb\n",
    "\n",
    "- we wish to estimate the relationship between catch and effort the sustainable yield curve from the alst notebook\n",
    "\n",
    "- For the Gordon-Schaefer model that is a quadratic relationship\n",
    "\n",
    "$$ y_i = \\beta_0 +\\beta_{i} X_{i1} + \\beta_2 X_{i}^2 + \\epsilon_i, i=1,\\dots,n$$\n",
    "\n",
    "The theory tells us that $\\beta_0 = 0$.\n",
    "\n",
    "where $X_{i}$ is total fishing effort.\n",
    "\n",
    "Now we ccould just estimate this relationship from the data. However, the theory tells us that $E_{MEY}$ depdns on the model parameters \n",
    "\n"
   ]
  },
  {
   "cell_type": "markdown",
   "metadata": {
    "id": "IBQT-JutF3Tk"
   },
   "source": []
  },
  {
   "cell_type": "markdown",
   "metadata": {
    "id": "UuwRrtc8F3Tk"
   },
   "source": [
    "## Estimate the model\n",
    "\n",
    "\n",
    "The model can be estimated using ordinary least squares (linear regression/line of best fit).\n",
    "\n"
   ]
  },
  {
   "cell_type": "code",
   "execution_count": 195,
   "metadata": {
    "colab": {
     "base_uri": "https://localhost:8080/"
    },
    "id": "MPi5iTOKPQzg",
    "outputId": "d665b794-b3be-400e-fbbe-5142e5818d0f"
   },
   "outputs": [
    {
     "data": {
      "text/plain": [
       "array([[       0,        0],\n",
       "       [    1512,  2286144],\n",
       "       [     185,    34225],\n",
       "       [      78,     6084],\n",
       "       [      35,     1225],\n",
       "       [       0,        0],\n",
       "       [    2539,  6446521],\n",
       "       [      24,      576],\n",
       "       [      95,     9025],\n",
       "       [      77,     5929],\n",
       "       [       0,        0],\n",
       "       [    1129,  1274641],\n",
       "       [      31,      961],\n",
       "       [       0,        0],\n",
       "       [    1541,  2374681],\n",
       "       [     121,    14641],\n",
       "       [    1359,  1846881],\n",
       "       [     209,    43681],\n",
       "       [    4701, 22099401],\n",
       "       [     149,    22201],\n",
       "       [     719,   516961],\n",
       "       [     122,    14884],\n",
       "       [      68,     4624],\n",
       "       [       3,        9],\n",
       "       [     956,   913936],\n",
       "       [       1,        1],\n",
       "       [     216,    46656],\n",
       "       [     390,   152100],\n",
       "       [     437,   190969],\n",
       "       [      17,      289],\n",
       "       [     158,    24964],\n",
       "       [       1,        1],\n",
       "       [     116,    13456],\n",
       "       [     449,   201601],\n",
       "       [       1,        1],\n",
       "       [     497,   247009],\n",
       "       [      16,      256],\n",
       "       [       1,        1],\n",
       "       [      52,     2704],\n",
       "       [     227,    51529],\n",
       "       [      30,      900],\n",
       "       [       3,        9],\n",
       "       [      10,      100],\n",
       "       [     138,    19044],\n",
       "       [      61,     3721],\n",
       "       [     976,   952576],\n",
       "       [       1,        1],\n",
       "       [     296,    87616],\n",
       "       [       8,       64],\n",
       "       [     164,    26896],\n",
       "       [       1,        1],\n",
       "       [     682,   465124],\n",
       "       [      97,     9409],\n",
       "       [      66,     4356],\n",
       "       [      24,      576],\n",
       "       [     169,    28561],\n",
       "       [     979,   958441],\n",
       "       [     237,    56169],\n",
       "       [     392,   153664],\n",
       "       [      33,     1089],\n",
       "       [     552,   304704],\n",
       "       [      60,     3600],\n",
       "       [      26,      676],\n",
       "       [     169,    28561],\n",
       "       [     179,    32041],\n",
       "       [     212,    44944],\n",
       "       [     230,    52900],\n",
       "       [      15,      225],\n",
       "       [     167,    27889],\n",
       "       [     709,   502681],\n",
       "       [     414,   171396],\n",
       "       [     811,   657721],\n",
       "       [     759,   576081],\n",
       "       [     667,   444889],\n",
       "       [     412,   169744],\n",
       "       [     608,   369664],\n",
       "       [     449,   201601],\n",
       "       [      29,      841],\n",
       "       [     787,   619369],\n",
       "       [     783,   613089],\n",
       "       [      54,     2916],\n",
       "       [       1,        1],\n",
       "       [     617,   380689],\n",
       "       [     134,    17956],\n",
       "       [     887,   786769],\n",
       "       [     625,   390625],\n",
       "       [     100,    10000],\n",
       "       [      48,     2304],\n",
       "       [     468,   219024],\n",
       "       [     858,   736164],\n",
       "       [      62,     3844],\n",
       "       [      32,     1024],\n",
       "       [     380,   144400],\n",
       "       [     370,   136900],\n",
       "       [       0,        0],\n",
       "       [      89,     7921],\n",
       "       [      99,     9801],\n",
       "       [     470,   220900],\n",
       "       [      87,     7569],\n",
       "       [     614,   376996],\n",
       "       [      31,      961],\n",
       "       [       0,        0],\n",
       "       [     607,   368449],\n",
       "       [      52,     2704],\n",
       "       [     508,   258064],\n",
       "       [      74,     5476],\n",
       "       [     622,   386884],\n",
       "       [     354,   125316],\n",
       "       [      90,     8100],\n",
       "       [      36,     1296],\n",
       "       [     940,   883600],\n",
       "       [     339,   114921],\n",
       "       [     190,    36100],\n",
       "       [     492,   242064],\n",
       "       [     153,    23409],\n",
       "       [     353,   124609],\n",
       "       [     944,   891136],\n",
       "       [     152,    23104],\n",
       "       [     787,   619369],\n",
       "       [     155,    24025],\n",
       "       [     469,   219961],\n",
       "       [     461,   212521],\n",
       "       [      28,      784],\n",
       "       [      28,      784],\n",
       "       [       8,       64],\n",
       "       [     452,   204304],\n",
       "       [       4,       16],\n",
       "       [     126,    15876],\n",
       "       [     227,    51529],\n",
       "       [     283,    80089],\n",
       "       [       3,        9],\n",
       "       [       6,       36],\n",
       "       [      44,     1936],\n",
       "       [     847,   717409],\n",
       "       [     428,   183184],\n",
       "       [     479,   229441],\n",
       "       [     139,    19321],\n",
       "       [     162,    26244],\n",
       "       [      81,     6561]])"
      ]
     },
     "execution_count": 195,
     "metadata": {
      "tags": []
     },
     "output_type": "execute_result"
    }
   ],
   "source": [
    "\n",
    "\n",
    "y = catch\n",
    "y = y.values\n",
    "\n",
    "x = soldata2['days']\n",
    "\n",
    "X = np.column_stack((x, x**2))\n",
    "\n",
    "X \n"
   ]
  },
  {
   "cell_type": "code",
   "execution_count": 196,
   "metadata": {
    "colab": {
     "base_uri": "https://localhost:8080/"
    },
    "id": "x4O8CoI7F3Tk",
    "outputId": "c8df1224-edc7-4de8-f7cf-f2340f716f82",
    "scrolled": true
   },
   "outputs": [
    {
     "name": "stdout",
     "output_type": "stream",
     "text": [
      "                                 OLS Regression Results                                \n",
      "=======================================================================================\n",
      "Dep. Variable:                      y   R-squared (uncentered):                   0.679\n",
      "Model:                            OLS   Adj. R-squared (uncentered):              0.675\n",
      "Method:                 Least Squares   F-statistic:                              25.75\n",
      "Date:                Thu, 04 Mar 2021   Prob (F-statistic):                    3.22e-10\n",
      "Time:                        20:13:27   Log-Likelihood:                         -874.13\n",
      "No. Observations:                 139   AIC:                                      1752.\n",
      "Df Residuals:                     137   BIC:                                      1758.\n",
      "Df Model:                           2                                                  \n",
      "Covariance Type:                  HAC                                                  \n",
      "==============================================================================\n",
      "                 coef    std err          z      P>|z|      [0.025      0.975]\n",
      "------------------------------------------------------------------------------\n",
      "x1             0.3428      0.059      5.820      0.000       0.227       0.458\n",
      "x2         -1.764e-05   1.46e-05     -1.207      0.227   -4.63e-05     1.1e-05\n",
      "==============================================================================\n",
      "Omnibus:                       40.253   Durbin-Watson:                   1.758\n",
      "Prob(Omnibus):                  0.000   Jarque-Bera (JB):              401.312\n",
      "Skew:                          -0.578   Prob(JB):                     7.18e-88\n",
      "Kurtosis:                      11.244   Cond. No.                     5.53e+03\n",
      "==============================================================================\n",
      "\n",
      "Warnings:\n",
      "[1] Standard Errors are heteroscedasticity and autocorrelation robust (HAC) using 1 lags and without small sample correction\n",
      "[2] The condition number is large, 5.53e+03. This might indicate that there are\n",
      "strong multicollinearity or other numerical problems.\n"
     ]
    }
   ],
   "source": [
    "import statsmodels.api as sm #Import statsmodels for econometrics\n",
    "\n",
    "# need to define y and X you should already have extracted the data and plotted it\n",
    "# so you just need to pass catch to y and days and day squared to X\n",
    "\n",
    "\n",
    "model = sm.OLS(y,X)\n",
    "results = model.fit(cov_type='HAC',cov_kwds={'maxlags':1})\n",
    "print(results.summary())"
   ]
  },
  {
   "cell_type": "markdown",
   "metadata": {
    "id": "nZsjH2fvF3Tk"
   },
   "source": [
    "## Standard errors\n",
    "\n",
    "\n",
    "- Econometric practice has changed over time \n",
    "\n",
    "- \"Credibility revolution\"\n",
    "\n",
    "- Use of asymptotic rather than small sample standard errors\n",
    "\n",
    "- [Newey-West robust standard errors](https://en.wikipedia.org/wiki/Newey%E2%80%93West_estimator) \n",
    "\n",
    "- use of robustness tests\n",
    "\n",
    "- Reduced form is associated with the credibility revolution\n",
    "\n",
    "- Here we are doing a very simple structural model"
   ]
  },
  {
   "cell_type": "markdown",
   "metadata": {
    "id": "C7QWwerTF3Tl"
   },
   "source": [
    "## Extract the parameters\n"
   ]
  },
  {
   "cell_type": "code",
   "execution_count": 197,
   "metadata": {
    "colab": {
     "base_uri": "https://localhost:8080/"
    },
    "id": "2b0aEBKEF3Tm",
    "outputId": "1841e3ad-7d1e-440b-b66e-0ab5c126d692"
   },
   "outputs": [
    {
     "name": "stdout",
     "output_type": "stream",
     "text": [
      "0.342839783583941 1.763902045536504e-05\n"
     ]
    }
   ],
   "source": [
    "params = pd.DataFrame(results.params)\n",
    "hh = params[:1]\n",
    "hsq = params[1:]\n",
    "b0 = hh[0][0]\n",
    "b1 = - hsq[0][1] # revers the sign here because we have estimated boE - b1 E^2 whereas statsmodels estimated b0 E + b1 E^2\n",
    "print(b0,b1)"
   ]
  },
  {
   "cell_type": "markdown",
   "metadata": {
    "id": "myqyOrqVF3Tm"
   },
   "source": [
    "## Calculating MEY from the estimated relationship\n",
    "To determine maximum economic yield we solve the following problem\n",
    "\n",
    "$$\\max \\Pi (E) = p h(E)- cE $$\n",
    "subject to\n",
    "\n",
    "$$\\frac{dX}{dt} = rX(1-\\frac{X}{K})- h(E)= 0$$\n",
    "and $Y(E) = qXE$.\n",
    "\n",
    "In stready state (if you are fishing sustainably) the constraint can be rearranged to obtain\n",
    "\n",
    "$$X = K (1 - \\frac{q}{r} E) $$\n",
    "Substituting into the total rent results in\n",
    "\n",
    "$$ \\Pi (E) = p q K (1 - \\frac{q}{r} E) E - c E = p q K E - \\frac{p q^2 K}{r} E^2  - c E $$\n",
    "Maximizing and solving for E results in\n",
    "\n",
    "$$ E = \\frac{r(pqK - c)}{2 pq^2 K} $$\n",
    "which is exactly half of open access effort level. To determine this level we need the price $p$.\n",
    "\n",
    "Note that sustainable harvest is given by\n",
    "\n",
    "$$ q K (1 - \\frac{q}{r} E) E  =  q K E - \\frac{q^2 K}{r } E^2$$\n",
    "\n",
    "Setting $ q K = b_0 $ and $ \\frac{q^2 K}{r} = b_1$. Wecan then fit a quadratic regression but this implies a constraint on the parameters that depends on the parameter values and so would have to be estimated with Bayesian methods. Alternatively, we can use non-linear least-squares to fit the model.\n",
    "\n",
    "We can rewrite $E_{MEY}$ as\n",
    "\n",
    "$$ \\frac{r(p b_0  - c)}{2 p r b_1} = \\frac{p b_0 - c}{2 p b_1}$$\n",
    "\n",
    " \n",
    "How much will be caught at this level of fishing?\n",
    "\n",
    "$$Y = q E X$$\n",
    "\n",
    "where $X = K (1 - \\frac{q}{r} E)$\n",
    "\n",
    "So\n",
    "\n",
    "$$Y_{TAC} = q E K (1 - \\frac{q}{r} E) = qK E - \\frac{q^2 K}{r} E^2 = b_0 E -b_1 E^2$$$$ =  b_0 \\frac{p b_0 - c}{2 p b_1} -b_1 (\\frac{p b_0 - c}{2 p b_1})^2 $$$$ = \\frac{p b_0^2 - c b_0}{2 p b_1} - \\frac{(p b_0 - c)^2}{4 p^2 b_1}$$\n",
    "\n",
    "We can now compute this and compare with the historical TAC.\n",
    "\n"
   ]
  },
  {
   "cell_type": "markdown",
   "metadata": {
    "id": "HLOnic9nF3Tn"
   },
   "source": [
    "## How to calculate costs\n",
    "\n",
    "\n",
    "- Costs often tobtained from vessel surveys but this requires careful planning to avoid collecting biased data\n",
    "\n",
    "- Alternatively costs can be calculated from catch, the price of fuel/oil and fuel utilization per mt of catch and information on what proportion of the total costs are due to fuel use\n",
    "\n",
    "- This can be validated against other data in the region.\n",
    "\n"
   ]
  },
  {
   "cell_type": "markdown",
   "metadata": {
    "id": "qWkwHFNJF3Tn"
   },
   "source": [
    "## Surveys\n",
    "\n",
    "\n",
    "- First identify a sampling frame (A list of all member sof the population, i.e. **a list of all vessels**)\n",
    "\n",
    "- Radomly select a sample from this population\n",
    "\n",
    "- How many to sample?\n",
    "\n",
    "We are interested in the mean cost of fishing per day. We will assume the cost of fishing is normally distributed for purposes of illustration and that we are examining a single gear type.\n",
    "\n",
    "\n",
    "\n"
   ]
  },
  {
   "cell_type": "markdown",
   "metadata": {
    "id": "vjuDi7cUF3Tn"
   },
   "source": [
    "Then if $\\bar{x}$ is the mean cost of fishing the standard error of the cost of fishing is given by $\\frac{\\sigma}{\\sqrt{n}}$\n",
    "\n",
    "The sampling bias is given by $\\mu - \\bar{x}$\n",
    "\n",
    "The confidence interval for $\\mu$ is\n",
    "\n",
    "$$\\bar{x} - Z_{\\frac{\\alpha}{2}}\\frac{\\sigma}{\\sqrt{n}} \\leq \\mu \\leq \\bar{x} + Z_{\\frac{\\alpha}{2}}\\frac{\\sigma}{\\sqrt{n}} $$\n",
    "\n",
    "If we set an error tolerance for the sampling error so that\n",
    "\n",
    "$$ \\mu -\\bar{x} \\leq \\epsilon$$\n",
    "\n",
    "Then $$Z_{\\frac{\\alpha}{2}}\\frac{\\sigma}{\\sqrt{n}} \\leq \\epsilon$$\n",
    "\n",
    "From this we obtain that $n > Z_{\\frac{\\alpha}{2}}^2\\frac{\\sigma^2}{\\epsilon^2}$.\n",
    "\n",
    "Usually we set $\\alpha = 0.05$ for a 9\n",
    "%% confidence interval, $\\sigma$ we otain from previous studies, e.g. past surevys. $\\epsilon$ we choose what error we are prepared to accespt and $Z$ we obtain from the normal distribution tables or from the computer.\n",
    "\n"
   ]
  },
  {
   "cell_type": "code",
   "execution_count": 197,
   "metadata": {
    "id": "sn9uss18F3Tn"
   },
   "outputs": [],
   "source": []
  },
  {
   "cell_type": "markdown",
   "metadata": {
    "id": "UjqYEfJN52Sv"
   },
   "source": [
    "$$ \\mbox{Total cost of fishing} = $$ \n",
    "\n",
    "$$\\mbox{oil price} \\times \\mbox{conversion factor to marine diesel equivalents} \\times (\\mbox{fuel use intensity (L/mt)})/0.2  \\times \\mbox{catch (mt)}$$\n",
    "\n",
    "- fuel use intensity is avaible from published literature\n",
    "\n",
    "- conversion factors from petroleum engineering tables\n",
    "\n",
    "- oil price from Quandl\n",
    "\n",
    "- catch from the database"
   ]
  },
  {
   "cell_type": "code",
   "execution_count": 200,
   "metadata": {
    "colab": {
     "base_uri": "https://localhost:8080/"
    },
    "id": "O2eO6wYMF3To",
    "outputId": "72355327-6432-482c-ab67-5c62a6c3533c"
   },
   "outputs": [
    {
     "name": "stdout",
     "output_type": "stream",
     "text": [
      "MEY: 0.7545801169277081\n",
      "MSY: 9718.220590862338\n",
      "Difference: 9717.466010745411\n",
      "TAC 91.10491868069245\n",
      "TAC at MSY 1665.8963220961216\n",
      "Rent 21.490004518435512\n"
     ]
    }
   ],
   "source": [
    "p = 3000 # price \n",
    "c = 1000 # costs per day \n",
    "\n",
    "EMEY = (p*b0 - c)/2*p*b1\n",
    "print('MEY:',EMEY)\n",
    "EMSY = b0/(2*b1)\n",
    "\n",
    "yTAC = ((p*(b0**2) - c*b0)/(2*p*b1)) - ((p*b0 - c)**2)/(4*(p**2)*b1)\n",
    "\n",
    "Ymsy = 0.25*(b0**2)/b1\n",
    "rent = p*(b0*EMEY - b1*EMEY**2) - c*EMEY\n",
    "#M = (r*(p*q*K+c)**2)/(4*K*(p*q)**2) need to express n terms of b0 and b1 can use this to compare to SAM18 M=0.4\n",
    "print('MSY:',EMSY)\n",
    "print('Difference:',EMSY-EMEY)\n",
    "print('TAC',yTAC)\n",
    "print('TAC at MSY',Ymsy) \n",
    "print('Rent',rent)\n",
    "#print('Natural mortality at MEY',M\n",
    "bb1 = yTAC"
   ]
  },
  {
   "cell_type": "markdown",
   "metadata": {
    "id": "AjNFgRbMF3Tp"
   },
   "source": [
    "## Sensitivity analysis (Uncertainty quantification)\n",
    "\n",
    "To conduct the [sensitivity analysis](https://en.wikipedia.org/wiki/Sensitivity_analysis) we will use the Sobol sensitivity analysis method, this differs somewhat from a ceteris-paribus approach to sensitivity analysis which is a local method. Sobol or [variance-based sensitivity analysis](https://en.wikipedia.org/wiki/Variance-based_sensitivity_analysis) is a global method, So that it allows us to systematically examine variations in multiple parameters, e.g. price and cost but also the biologial parameters within given confidence bounds."
   ]
  },
  {
   "cell_type": "code",
   "execution_count": 201,
   "metadata": {
    "colab": {
     "base_uri": "https://localhost:8080/"
    },
    "id": "GKCJOH8vF3Tp",
    "outputId": "eda8fbac-20ef-4833-fb3f-6f4b96941fc4"
   },
   "outputs": [
    {
     "name": "stdout",
     "output_type": "stream",
     "text": [
      "Collecting SALib\n",
      "\u001b[?25l  Downloading https://files.pythonhosted.org/packages/ba/36/84735444f4faded327e1158ed15228a3ff57268f351c799f0038ee68b53f/SALib-1.3.12.tar.gz (855kB)\n",
      "\u001b[K     |████████████████████████████████| 860kB 4.1MB/s \n",
      "\u001b[?25hRequirement already satisfied: numpy in /usr/local/lib/python3.7/dist-packages (from SALib) (1.19.5)\n",
      "Requirement already satisfied: scipy in /usr/local/lib/python3.7/dist-packages (from SALib) (1.4.1)\n",
      "Requirement already satisfied: matplotlib in /usr/local/lib/python3.7/dist-packages (from SALib) (3.2.2)\n",
      "Requirement already satisfied: pandas in /usr/local/lib/python3.7/dist-packages (from SALib) (1.1.5)\n",
      "Requirement already satisfied: cycler>=0.10 in /usr/local/lib/python3.7/dist-packages (from matplotlib->SALib) (0.10.0)\n",
      "Requirement already satisfied: python-dateutil>=2.1 in /usr/local/lib/python3.7/dist-packages (from matplotlib->SALib) (2.8.1)\n",
      "Requirement already satisfied: pyparsing!=2.0.4,!=2.1.2,!=2.1.6,>=2.0.1 in /usr/local/lib/python3.7/dist-packages (from matplotlib->SALib) (2.4.7)\n",
      "Requirement already satisfied: kiwisolver>=1.0.1 in /usr/local/lib/python3.7/dist-packages (from matplotlib->SALib) (1.3.1)\n",
      "Requirement already satisfied: pytz>=2017.2 in /usr/local/lib/python3.7/dist-packages (from pandas->SALib) (2018.9)\n",
      "Requirement already satisfied: six in /usr/local/lib/python3.7/dist-packages (from cycler>=0.10->matplotlib->SALib) (1.15.0)\n",
      "Building wheels for collected packages: SALib\n",
      "  Building wheel for SALib (setup.py) ... \u001b[?25l\u001b[?25hdone\n",
      "  Created wheel for SALib: filename=SALib-1.3.12-py2.py3-none-any.whl size=729049 sha256=6cc5db6892055e60601258f5e88d45daf190b7992b0011e087abcbb7dd1fca0c\n",
      "  Stored in directory: /root/.cache/pip/wheels/04/5c/9f/09d58ab84d5a7ef7d2e5fedc5cd2f46a64a77c99035571aa0c\n",
      "Successfully built SALib\n",
      "Installing collected packages: SALib\n",
      "Successfully installed SALib-1.3.12\n"
     ]
    }
   ],
   "source": [
    "!pip install SALib\n",
    "from SALib.sample import saltelli\n",
    "from SALib.analyze import sobol \n",
    "#from SALib.test_functions import Ishigami"
   ]
  },
  {
   "cell_type": "code",
   "execution_count": 202,
   "metadata": {
    "id": "yHozR9R3F3Tp"
   },
   "outputs": [],
   "source": [
    "def gordonschaefer(par):\n",
    "    hh = params[:1]\n",
    "    hsq = params[1:]\n",
    "    b0 = hh[0][0]\n",
    "    b1 = - hsq[0][1]\n",
    "    #p = (155455707/46620575)*1000 # Albacore price per tonne 2018 Thailand average import price\n",
    "    #p = X[0]\n",
    "    \n",
    "    p = param_values[i][0]\n",
    "    E = np.linspace(0,500000,10000)\n",
    "    y_pred = b0*E - (E**2)*b1\n",
    "    rev = p*y\n",
    "    rev_pred = p*y_pred\n",
    "    c = 1.01 # cost per unit effort \n",
    "    \n",
    "    #c = x[1]\n",
    "    #c = param_values[i][1]\n",
    "    \n",
    "    cost = c*E\n",
    "    EMEY = (p * b0 - c)/(2*p*b1)\n",
    "    EMSY = b0/(2*b1)\n",
    "    yTAC = ((p*(b0**2) - c*b0)/(2*p*b1)) - ((p*b0 - c)**2)/(4*(p**2)*b1)\n",
    "    Ymsy = 0.25*(b0**2)/b1\n",
    "    rent = p*(b0*EMEY - b1*EMEY**2) - c*EMEY\n",
    "    \n",
    "    #avghooksperday = df.loc[df['yy']==2017]['hooks per day'].mean() # actual hooks per day.\n",
    "    #vesseldays = EMEY/avghooksperday\n",
    "    #actualdays = df.loc[df['yy']==2017]['days'].sum()\n",
    "    #averagedays = actualdays/n2017\n",
    "    #novessels = vesseldays/averagedays # one could also calculate this by \n",
    "    # flag rather than a broad average, this would probably smooth negotiations\n",
    "    return(EMEY)\n",
    "\n",
    "    # need to take a statsmodels object as an instance and transorm parameter estimates within this function\n",
    "    # Model output might be choosable, examples include vessel numbers, hooks, rent, etc.\n",
    "    \n",
    "\n",
    "\n",
    "# Define the problem\n",
    "problem = {\n",
    "    'num_vars': 2,\n",
    "    'names': ['p', 'c'],\n",
    "    'bounds': [[2000, 5000],\n",
    "               [0.0, 200.0]]\n",
    "}\n",
    "\n",
    "param_values = saltelli.sample(problem, N = 1000)\n",
    "\n",
    "Y = np.zeros([param_values.shape[0]])\n",
    "\n",
    "for i, X in enumerate(param_values):\n",
    "    #print(i,X)\n",
    "    Y[i] = gordonschaefer(X)\n",
    "    \n",
    "\n",
    "#print(Y)"
   ]
  },
  {
   "cell_type": "code",
   "execution_count": 203,
   "metadata": {
    "colab": {
     "base_uri": "https://localhost:8080/"
    },
    "id": "r_8dnYX8F3Tq",
    "outputId": "a152bc5a-94e3-427d-f6a4-36ae2aea2ceb"
   },
   "outputs": [
    {
     "name": "stdout",
     "output_type": "stream",
     "text": [
      "Parameter S1 S1_conf ST ST_conf\n",
      "p -0.332708 0.053314 0.334521 0.045020\n",
      "c 0.485675 0.062175 0.669502 0.062404\n",
      "{'S1': array([-0.33270801,  0.48567453]), 'S1_conf': array([0.05331415, 0.06217512]), 'ST': array([0.33452097, 0.66950245]), 'ST_conf': array([0.04501979, 0.06240395])}\n"
     ]
    }
   ],
   "source": [
    "si = sobol.analyze(problem, Y, calc_second_order = False,print_to_console=True) #this is producing an error\n",
    "print(si)"
   ]
  },
  {
   "cell_type": "code",
   "execution_count": 204,
   "metadata": {
    "colab": {
     "base_uri": "https://localhost:8080/",
     "height": 312
    },
    "id": "BrJ2cbZnF3Tq",
    "outputId": "82c16832-1759-4776-e4df-5c2bad44908b"
   },
   "outputs": [
    {
     "data": {
      "text/plain": [
       "Text(0, 0.5, 'Frequency')"
      ]
     },
     "execution_count": 204,
     "metadata": {
      "tags": []
     },
     "output_type": "execute_result"
    },
    {
     "data": {
      "image/png": "[encoded data removed]",
      "text/plain": [
       "<Figure size 432x288 with 1 Axes>"
      ]
     },
     "metadata": {
      "needs_background": "light",
      "tags": []
     },
     "output_type": "display_data"
    }
   ],
   "source": [
    "plt.hist(Y)\n",
    "plt.title('Histogram of vessel numbers using Sobol sensitivity analysis 1000 model runs')\n",
    "plt.xlabel('Vessel Numbers')\n",
    "plt.ylabel('Frequency')"
   ]
  },
  {
   "cell_type": "code",
   "execution_count": null,
   "metadata": {
    "id": "z5eRv3SiF3Tq"
   },
   "outputs": [],
   "source": [
    "res = pd.DataFrame(si)\n",
    "res.rename(index={0:'price',1:'cost per unit effort'},inplace=True)\n",
    "res"
   ]
  },
  {
   "cell_type": "markdown",
   "metadata": {
    "id": "tOXL_bVMF3Tq"
   },
   "source": [
    "S1 is the ratio of the variance of vessel days conditional on a particular parameter value to the variance of vessel days. It is the first-order Sobol sensitivity index. The results indicate that cost per hook has a far greater impact on the sensitivity of the number of vessels than does the price."
   ]
  },
  {
   "cell_type": "code",
   "execution_count": null,
   "metadata": {
    "id": "ExjBPnIiF3Tq"
   },
   "outputs": [],
   "source": []
  }
 ],
 "metadata": {
  "colab": {
   "name": "Copy of afew-present-6.ipynb",
   "provenance": [],
   "toc_visible": true
  },
  "kernelspec": {
   "display_name": "Python 3",
   "language": "python",
   "name": "python3"
  },
  "language_info": {
   "codemirror_mode": {
    "name": "ipython",
    "version": 3
   },
   "file_extension": ".py",
   "mimetype": "text/x-python",
   "name": "python",
   "nbconvert_exporter": "python",
   "pygments_lexer": "ipython3",
   "version": "3.8.3"
  }
 },
 "nbformat": 4,
 "nbformat_minor": 1
}
