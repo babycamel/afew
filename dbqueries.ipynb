{
 "cells": [
  {
   "cell_type": "markdown",
   "metadata": {
    "id": "I9OcALFJDXac"
   },
   "source": [
    "# Queries\n",
    "\n",
    "Use this notebook for querying the data base. Currently, no more than 5 queries in a session are allowed, however you can write a more complex SQL query if necessary."
   ]
  },
  {
   "cell_type": "code",
   "execution_count": null,
   "metadata": {
    "colab": {
     "base_uri": "https://localhost:8080/",
     "height": 71
    },
    "id": "BiB8488WDiw1",
    "outputId": "490b8529-25a1-4232-d853-177002fe7b1f"
   },
   "outputs": [
    {
     "name": "stderr",
     "output_type": "stream",
     "text": [
      "/usr/local/lib/python3.6/dist-packages/psycopg2/__init__.py:144: UserWarning: The psycopg2 wheel package will be renamed from release 2.8; in order to keep installing from binary please use \"pip install psycopg2-binary\" instead. For details see: <http://initd.org/psycopg/docs/install.html#binary-install-from-pypi>.\n",
      "  \"\"\")\n"
     ]
    }
   ],
   "source": [
    "#!pip install psycopg2\n",
    "import psycopg2\n",
    "import sqlite3\n",
    "import io\n",
    "from sqlalchemy import create_engine\n",
    "import gspread # To link to google sheets\n",
    "import pandas as pd\n",
    "import numpy as np\n",
    "\n"
   ]
  },
  {
   "cell_type": "markdown",
   "metadata": {
    "id": "q06EGN5aEWoz"
   },
   "source": [
    "The following establishes the connection to the database"
   ]
  },
  {
   "cell_type": "code",
   "execution_count": null,
   "metadata": {
    "id": "9Zka_F3ID2NZ"
   },
   "outputs": [],
   "source": [
    "conn = psycopg2.connect(\"host=  dbname=hsrbrmdw user= password= \")\n",
    "cur = conn.cursor() \n"
   ]
  },
  {
   "cell_type": "markdown",
   "metadata": {
    "id": "V1bto8qqEcsJ"
   },
   "source": [
    "The following queries the database and lists the avaialble tables"
   ]
  },
  {
   "cell_type": "code",
   "execution_count": null,
   "metadata": {
    "colab": {
     "base_uri": "https://localhost:8080/",
     "height": 359
    },
    "id": "VvvTklbDD3th",
    "outputId": "1cd3d3c3-3b8b-468a-c7e5-530581f9d173"
   },
   "outputs": [
    {
     "data": {
      "text/html": [
       "<div>\n",
       "<style scoped>\n",
       "    .dataframe tbody tr th:only-of-type {\n",
       "        vertical-align: middle;\n",
       "    }\n",
       "\n",
       "    .dataframe tbody tr th {\n",
       "        vertical-align: top;\n",
       "    }\n",
       "\n",
       "    .dataframe thead th {\n",
       "        text-align: right;\n",
       "    }\n",
       "</style>\n",
       "<table border=\"1\" class=\"dataframe\">\n",
       "  <thead>\n",
       "    <tr style=\"text-align: right;\">\n",
       "      <th></th>\n",
       "      <th>0</th>\n",
       "      <th>1</th>\n",
       "      <th>2</th>\n",
       "      <th>3</th>\n",
       "      <th>4</th>\n",
       "      <th>5</th>\n",
       "      <th>6</th>\n",
       "      <th>7</th>\n",
       "      <th>8</th>\n",
       "      <th>9</th>\n",
       "      <th>10</th>\n",
       "      <th>11</th>\n",
       "      <th>12</th>\n",
       "      <th>13</th>\n",
       "    </tr>\n",
       "  </thead>\n",
       "  <tbody>\n",
       "    <tr>\n",
       "      <th>0</th>\n",
       "      <td>2008-01-01</td>\n",
       "      <td>8.34394</td>\n",
       "      <td>NaN</td>\n",
       "      <td>NaN</td>\n",
       "      <td>1.23</td>\n",
       "      <td>10000.0</td>\n",
       "      <td>1359.0</td>\n",
       "      <td>3.368910</td>\n",
       "      <td>18.9798</td>\n",
       "      <td>63.7392</td>\n",
       "      <td>NaN</td>\n",
       "      <td>NaN</td>\n",
       "      <td>NaN</td>\n",
       "      <td>NaN</td>\n",
       "    </tr>\n",
       "    <tr>\n",
       "      <th>1</th>\n",
       "      <td>2009-01-01</td>\n",
       "      <td>10.45040</td>\n",
       "      <td>NaN</td>\n",
       "      <td>NaN</td>\n",
       "      <td>1.06</td>\n",
       "      <td>43600.0</td>\n",
       "      <td>2478.0</td>\n",
       "      <td>0.059443</td>\n",
       "      <td>26.2931</td>\n",
       "      <td>73.9633</td>\n",
       "      <td>NaN</td>\n",
       "      <td>NaN</td>\n",
       "      <td>NaN</td>\n",
       "      <td>NaN</td>\n",
       "    </tr>\n",
       "    <tr>\n",
       "      <th>2</th>\n",
       "      <td>2010-01-01</td>\n",
       "      <td>8.51185</td>\n",
       "      <td>NaN</td>\n",
       "      <td>NaN</td>\n",
       "      <td>1.11</td>\n",
       "      <td>9300.0</td>\n",
       "      <td>991.0</td>\n",
       "      <td>0.056302</td>\n",
       "      <td>39.5772</td>\n",
       "      <td>79.3475</td>\n",
       "      <td>NaN</td>\n",
       "      <td>NaN</td>\n",
       "      <td>NaN</td>\n",
       "      <td>NaN</td>\n",
       "    </tr>\n",
       "    <tr>\n",
       "      <th>3</th>\n",
       "      <td>2011-01-01</td>\n",
       "      <td>8.51363</td>\n",
       "      <td>NaN</td>\n",
       "      <td>66.6600</td>\n",
       "      <td>1.01</td>\n",
       "      <td>8700.0</td>\n",
       "      <td>1493.0</td>\n",
       "      <td>0.276013</td>\n",
       "      <td>46.5711</td>\n",
       "      <td>32.6655</td>\n",
       "      <td>NaN</td>\n",
       "      <td>NaN</td>\n",
       "      <td>22.8100</td>\n",
       "      <td>NaN</td>\n",
       "    </tr>\n",
       "    <tr>\n",
       "      <th>4</th>\n",
       "      <td>2012-01-01</td>\n",
       "      <td>9.62214</td>\n",
       "      <td>NaN</td>\n",
       "      <td>68.5400</td>\n",
       "      <td>0.90</td>\n",
       "      <td>14189.0</td>\n",
       "      <td>1724.0</td>\n",
       "      <td>0.375914</td>\n",
       "      <td>52.5895</td>\n",
       "      <td>75.8776</td>\n",
       "      <td>NaN</td>\n",
       "      <td>NaN</td>\n",
       "      <td>23.8500</td>\n",
       "      <td>NaN</td>\n",
       "    </tr>\n",
       "    <tr>\n",
       "      <th>5</th>\n",
       "      <td>2013-01-01</td>\n",
       "      <td>5.45849</td>\n",
       "      <td>25.6588</td>\n",
       "      <td>67.5900</td>\n",
       "      <td>1.09</td>\n",
       "      <td>33803.0</td>\n",
       "      <td>2850.0</td>\n",
       "      <td>1.044480</td>\n",
       "      <td>19.7803</td>\n",
       "      <td>70.7463</td>\n",
       "      <td>26.5578</td>\n",
       "      <td>17.8851</td>\n",
       "      <td>20.8761</td>\n",
       "      <td>23.4791</td>\n",
       "    </tr>\n",
       "    <tr>\n",
       "      <th>6</th>\n",
       "      <td>2014-01-01</td>\n",
       "      <td>10.27440</td>\n",
       "      <td>26.1761</td>\n",
       "      <td>68.1000</td>\n",
       "      <td>1.04</td>\n",
       "      <td>34980.0</td>\n",
       "      <td>4587.0</td>\n",
       "      <td>3.552230</td>\n",
       "      <td>21.0310</td>\n",
       "      <td>64.6406</td>\n",
       "      <td>27.2565</td>\n",
       "      <td>18.3196</td>\n",
       "      <td>22.3707</td>\n",
       "      <td>24.2333</td>\n",
       "    </tr>\n",
       "    <tr>\n",
       "      <th>7</th>\n",
       "      <td>2015-01-01</td>\n",
       "      <td>9.97953</td>\n",
       "      <td>25.1049</td>\n",
       "      <td>61.8500</td>\n",
       "      <td>1.50</td>\n",
       "      <td>34851.0</td>\n",
       "      <td>3658.0</td>\n",
       "      <td>2.480090</td>\n",
       "      <td>16.7764</td>\n",
       "      <td>73.6027</td>\n",
       "      <td>26.5833</td>\n",
       "      <td>17.7474</td>\n",
       "      <td>26.0770</td>\n",
       "      <td>23.9704</td>\n",
       "    </tr>\n",
       "    <tr>\n",
       "      <th>8</th>\n",
       "      <td>2016-01-01</td>\n",
       "      <td>10.64620</td>\n",
       "      <td>25.1329</td>\n",
       "      <td>62.7566</td>\n",
       "      <td>1.40</td>\n",
       "      <td>34852.0</td>\n",
       "      <td>3652.0</td>\n",
       "      <td>3.234400</td>\n",
       "      <td>10.0269</td>\n",
       "      <td>78.5579</td>\n",
       "      <td>26.6218</td>\n",
       "      <td>17.7487</td>\n",
       "      <td>22.8539</td>\n",
       "      <td>23.9808</td>\n",
       "    </tr>\n",
       "    <tr>\n",
       "      <th>9</th>\n",
       "      <td>2017-01-01</td>\n",
       "      <td>NaN</td>\n",
       "      <td>NaN</td>\n",
       "      <td>53.1900</td>\n",
       "      <td>NaN</td>\n",
       "      <td>NaN</td>\n",
       "      <td>NaN</td>\n",
       "      <td>NaN</td>\n",
       "      <td>NaN</td>\n",
       "      <td>NaN</td>\n",
       "      <td>NaN</td>\n",
       "      <td>NaN</td>\n",
       "      <td>19.5300</td>\n",
       "      <td>NaN</td>\n",
       "    </tr>\n",
       "  </tbody>\n",
       "</table>\n",
       "</div>"
      ],
      "text/plain": [
       "           0         1        2        3   ...       10       11       12       13\n",
       "0  2008-01-01   8.34394      NaN      NaN  ...      NaN      NaN      NaN      NaN\n",
       "1  2009-01-01  10.45040      NaN      NaN  ...      NaN      NaN      NaN      NaN\n",
       "2  2010-01-01   8.51185      NaN      NaN  ...      NaN      NaN      NaN      NaN\n",
       "3  2011-01-01   8.51363      NaN  66.6600  ...      NaN      NaN  22.8100      NaN\n",
       "4  2012-01-01   9.62214      NaN  68.5400  ...      NaN      NaN  23.8500      NaN\n",
       "5  2013-01-01   5.45849  25.6588  67.5900  ...  26.5578  17.8851  20.8761  23.4791\n",
       "6  2014-01-01  10.27440  26.1761  68.1000  ...  27.2565  18.3196  22.3707  24.2333\n",
       "7  2015-01-01   9.97953  25.1049  61.8500  ...  26.5833  17.7474  26.0770  23.9704\n",
       "8  2016-01-01  10.64620  25.1329  62.7566  ...  26.6218  17.7487  22.8539  23.9808\n",
       "9  2017-01-01       NaN      NaN  53.1900  ...      NaN      NaN  19.5300      NaN\n",
       "\n",
       "[10 rows x 14 columns]"
      ]
     },
     "execution_count": 3,
     "metadata": {
      "tags": []
     },
     "output_type": "execute_result"
    }
   ],
   "source": [
    "cur.execute('SELECT * FROM catch.annual;') #write SQL query in brackets\n",
    "data = cur.fetchall()\n",
    "df = pd.DataFrame(data) # Need to add headers after this call. So need to document this in Manual\n",
    "df #This is a data frame you can writexl to write to Excel file"
   ]
  },
  {
   "cell_type": "markdown",
   "metadata": {
    "id": "br1eRmE686LR"
   },
   "source": [
    "The following downloads the results of the database query as an Excel file to your downloads folder on your local drive."
   ]
  },
  {
   "cell_type": "code",
   "execution_count": null,
   "metadata": {
    "id": "0Cxdyto-6oY6"
   },
   "outputs": [],
   "source": [
    "db = df.to_excel('db.xlsx', sheet_name='sheet1', index=False)\n",
    "from google.colab import files\n",
    "files.download('db.xlsx')"
   ]
  }
 ],
 "metadata": {
  "colab": {
   "collapsed_sections": [],
   "name": "dbqueries.ipynb",
   "provenance": []
  },
  "kernelspec": {
   "display_name": "Python 3",
   "language": "python",
   "name": "python3"
  },
  "language_info": {
   "codemirror_mode": {
    "name": "ipython",
    "version": 3
   },
   "file_extension": ".py",
   "mimetype": "text/x-python",
   "name": "python",
   "nbconvert_exporter": "python",
   "pygments_lexer": "ipython3",
   "version": "3.8.3"
  }
 },
 "nbformat": 4,
 "nbformat_minor": 1
}
